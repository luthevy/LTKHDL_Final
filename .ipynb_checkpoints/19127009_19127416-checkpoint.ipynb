{
 "cells": [
  {
   "cell_type": "markdown",
   "id": "7e96dd60",
   "metadata": {},
   "source": [
    "# Lập trình cho Khoa học dữ liệu: Đồ án cuối kì\n",
    "## Nhóm 8: Thông tin sinh viên\n",
    "- #### Trello: https://trello.com/b/Tb6Sjg8O\n",
    "\n",
    "\n",
    "| MSSV     | Họ tên            | GitHub                         |    Email         \n",
    "|--------------|---------------------|------------------------------ |--------------------------------------------------|\n",
    "| 19127009 | Lữ Thế Vỹ | [luthevy](https://github.com/luthevy) | 19127009@student.hcmus.edu.vn\n",
    "| 19127416 | Mạc Văn Hưng     | [machung2001](https://github.com/machung2001)        |19127416@student.hcmus.edu.vn\n"
   ]
  },
  {
   "cell_type": "markdown",
   "id": "250a81b6-82c1-4530-bf67-b54a5718b0e1",
   "metadata": {},
   "source": [
    "# Mục lục\n",
    "- #### [Lời nói đầu](#Thu-thập-dữ-liệu)\n",
    "    - [Giới thiệu](#Thu-thập-dữ-liệu)\n",
    "    - [Mục tiêu](#Thu-thập-dữ-liệu)\n",
    "    - [Nguồn tài liệu](#Thu-thập-dữ-liệu)\n",
    "- #### [Bước chuẩn bị](#Thu-thập-dữ-liệu)\n",
    "    - [Nhận diện môi trường code](#Thu-thập-dữ-liệu)\n",
    "    - [Import thư viện](#Thu-thập-dữ-liệu)\n",
    "- #### [Khám phá dữ liệu](#Thu-thập-dữ-liệu)\n",
    "    - [Đọc dữ liệu](#Thu-thập-dữ-liệu)\n",
    "    - [Thông tin cơ bản](#Thu-thập-dữ-liệu)\n",
    "        - [Số dòng, số cột của tập dữ liệu](#Thu-thập-dữ-liệu)\n",
    "        - [Ý nghĩa từng cột](#Thu-thập-dữ-liệu)\n",
    "        - [Kiểu dữ liệu từng cột](#Thu-thập-dữ-liệu)\n",
    "        - [Phân bố dữ liệu kiểu numerical](#Thu-thập-dữ-liệu)\n",
    "        - [Phân bố dữ liệu kiểu categorical](#Thu-thập-dữ-liệu)\n",
    "    - [Nhận xét](#Thu-thập-dữ-liệu)\n",
    "        - [Có cột nào cần loại bỏ không?](#Thu-thập-dữ-liệu)\n",
    "        - [Có dòng dữ liệu nào cần loại bỏ không?](#Thu-thập-dữ-liệu)\n",
    "        - [Có cột nào bất thường không?](#Thu-thập-dữ-liệu)\n",
    "        - [Có dòng dữ liệu nào bất thường không?](#Thu-thập-dữ-liệu)\n",
    "        - [Có dòng dữ liệu nào bị lặp không?](#Thu-thập-dữ-liệu)\n",
    "        - [Có dòng dữ liệu nào mang ý nghĩa khác không?](#Thu-thập-dữ-liệu)\n",
    "- #### [Khám phá dữ liệu (tiếp theo) - Đặt câu hỏi](#Thu-thập-dữ-liệu)\n",
    "\n"
   ]
  },
  {
   "cell_type": "markdown",
   "id": "acd05c8d-d903-478a-a0f1-8e72240e7924",
   "metadata": {},
   "source": [
    "## Lời nói đầu"
   ]
  },
  {
   "cell_type": "code",
   "execution_count": null,
   "id": "e6b1032a-e5ba-49c3-8278-fe6ff34884dc",
   "metadata": {},
   "outputs": [],
   "source": []
  },
  {
   "cell_type": "markdown",
   "id": "5e79806d",
   "metadata": {},
   "source": [
    "## Môi trường code"
   ]
  },
  {
   "cell_type": "code",
   "execution_count": 1,
   "id": "4ce0039b",
   "metadata": {
    "scrolled": true
   },
   "outputs": [
    {
     "data": {
      "text/plain": [
       "'F:\\\\Anaconda\\\\python.exe'"
      ]
     },
     "execution_count": 1,
     "metadata": {},
     "output_type": "execute_result"
    }
   ],
   "source": [
    "import sys\n",
    "sys.executable"
   ]
  },
  {
   "cell_type": "markdown",
   "id": "d97a9cde",
   "metadata": {},
   "source": [
    "## Import các thư viện cần thiết"
   ]
  },
  {
   "cell_type": "code",
   "execution_count": 2,
   "id": "f0cb61f2",
   "metadata": {},
   "outputs": [],
   "source": [
    "# Import thư viện cần dùng\n",
    "import os\n",
    "import numpy as np\n",
    "import pandas as pd\n",
    "import matplotlib.pyplot as plt"
   ]
  },
  {
   "cell_type": "markdown",
   "id": "fee81e52",
   "metadata": {},
   "source": [
    "---"
   ]
  },
  {
   "cell_type": "markdown",
   "id": "84f0e610",
   "metadata": {},
   "source": [
    "## Khám phá dữ liệu"
   ]
  },
  {
   "cell_type": "markdown",
   "id": "d79f8e4f",
   "metadata": {},
   "source": [
    "---"
   ]
  },
  {
   "cell_type": "code",
   "execution_count": null,
   "id": "8d3a0ea0",
   "metadata": {},
   "outputs": [],
   "source": []
  },
  {
   "cell_type": "code",
   "execution_count": null,
   "id": "22d79f80",
   "metadata": {},
   "outputs": [],
   "source": []
  },
  {
   "cell_type": "markdown",
   "id": "9e4670a0",
   "metadata": {},
   "source": [
    "---"
   ]
  }
 ],
 "metadata": {
  "kernelspec": {
   "display_name": "Python 3 (ipykernel)",
   "language": "python",
   "name": "python3"
  },
  "language_info": {
   "codemirror_mode": {
    "name": "ipython",
    "version": 3
   },
   "file_extension": ".py",
   "mimetype": "text/x-python",
   "name": "python",
   "nbconvert_exporter": "python",
   "pygments_lexer": "ipython3",
   "version": "3.8.8"
  },
  "toc": {
   "base_numbering": 1,
   "nav_menu": {},
   "number_sections": false,
   "sideBar": true,
   "skip_h1_title": false,
   "title_cell": "Table of Contents",
   "title_sidebar": "Contents",
   "toc_cell": true,
   "toc_position": {},
   "toc_section_display": true,
   "toc_window_display": false
  }
 },
 "nbformat": 4,
 "nbformat_minor": 5
}
