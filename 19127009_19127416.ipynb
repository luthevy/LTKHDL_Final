{
 "cells": [
  {
   "cell_type": "markdown",
   "id": "7e96dd60",
   "metadata": {},
   "source": [
    "# Lập trình cho Khoa học dữ liệu: Đồ án cuối kì\n",
    "## Nhóm 8: Thông tin sinh viên\n",
    "- #### Trello: https://trello.com/b/Tb6Sjg8O\n",
    "\n",
    "\n",
    "| MSSV     | Họ tên            | GitHub                         |    Email         \n",
    "|--------------|---------------------|------------------------------ |--------------------------------------------------|\n",
    "| 19127009 | Lữ Thế Vỹ | [luthevy](https://github.com/luthevy) | 19127009@student.hcmus.edu.vn\n",
    "| 19127416 | Mạc Văn Hưng     | [machung2001](https://github.com/machung2001)        |19127416@student.hcmus.edu.vn\n"
   ]
  },
  {
   "cell_type": "markdown",
   "id": "250a81b6-82c1-4530-bf67-b54a5718b0e1",
   "metadata": {},
   "source": [
    "# Mục lục\n",
    "- #### [Lời nói đầu](#Thu-thập-dữ-liệu)\n",
    "    - [Giới thiệu](#Thu-thập-dữ-liệu)\n",
    "    - [Mục tiêu](#Thu-thập-dữ-liệu)\n",
    "    - [Nguồn tài liệu](#Thu-thập-dữ-liệu)\n",
    "- #### [Bước chuẩn bị](#Thu-thập-dữ-liệu)\n",
    "    - [Nhận diện môi trường code](#Thu-thập-dữ-liệu)\n",
    "    - [Import thư viện](#Thu-thập-dữ-liệu)\n",
    "- #### [Khám phá dữ liệu](#Thu-thập-dữ-liệu)\n",
    "    - [Đọc dữ liệu](#Thu-thập-dữ-liệu)\n",
    "    - [Thông tin cơ bản](#Thu-thập-dữ-liệu)\n",
    "        - [Số dòng, số cột của tập dữ liệu](#Thu-thập-dữ-liệu)\n",
    "        - [Ý nghĩa từng cột](#Thu-thập-dữ-liệu)\n",
    "        - [Kiểu dữ liệu từng cột](#Thu-thập-dữ-liệu)\n",
    "    - [Nhận xét](#Thu-thập-dữ-liệu)\n",
    "        - [Có cột nào cần loại bỏ không?](#Thu-thập-dữ-liệu)\n",
    "        - [Có dòng dữ liệu nào cần loại bỏ không?](#Thu-thập-dữ-liệu)\n",
    "        - [Có cột nào bất thường không?](#Thu-thập-dữ-liệu)\n",
    "        - [Có dòng dữ liệu nào bất thường không?](#Thu-thập-dữ-liệu)\n",
    "        - [Có dòng dữ liệu nào bị lặp không?](#Thu-thập-dữ-liệu)\n",
    "        - [Có dòng dữ liệu nào mang ý nghĩa khác không?](#Thu-thập-dữ-liệu)\n",
    "- #### [Khám phá dữ liệu (tiếp theo) - Đặt câu hỏi](#Thu-thập-dữ-liệu)\n",
    "    - [Phân bố dữ liệu kiểu numerical](#Thu-thập-dữ-liệu)\n",
    "    - [Phân bố dữ liệu kiểu categorical](#Thu-thập-dữ-liệu)\n",
    "\n"
   ]
  },
  {
   "cell_type": "markdown",
   "id": "acd05c8d-d903-478a-a0f1-8e72240e7924",
   "metadata": {},
   "source": [
    "## Lời nói đầu"
   ]
  },
  {
   "cell_type": "code",
   "execution_count": null,
   "id": "e6b1032a-e5ba-49c3-8278-fe6ff34884dc",
   "metadata": {},
   "outputs": [],
   "source": []
  },
  {
   "cell_type": "markdown",
   "id": "5e79806d",
   "metadata": {},
   "source": [
    "## Môi trường code"
   ]
  },
  {
   "cell_type": "code",
   "execution_count": 2,
   "id": "4ce0039b",
   "metadata": {
    "scrolled": true
   },
   "outputs": [
    {
     "data": {
      "text/plain": [
       "'/Users/lanmac/opt/anaconda3/envs/min_ds-env/bin/python'"
      ]
     },
     "execution_count": 2,
     "metadata": {},
     "output_type": "execute_result"
    }
   ],
   "source": [
    "import sys\n",
    "sys.executable"
   ]
  },
  {
   "cell_type": "markdown",
   "id": "d97a9cde",
   "metadata": {},
   "source": [
    "## Import các thư viện cần thiết"
   ]
  },
  {
   "cell_type": "code",
   "execution_count": 462,
   "id": "f0cb61f2",
   "metadata": {},
   "outputs": [],
   "source": [
    "# Import thư viện cần dùng\n",
    "import os\n",
    "import numpy as np\n",
    "import pandas as pd\n",
    "import matplotlib.pyplot as plt\n",
    "import seaborn as sns"
   ]
  },
  {
   "cell_type": "markdown",
   "id": "fee81e52",
   "metadata": {},
   "source": [
    "---"
   ]
  },
  {
   "cell_type": "markdown",
   "id": "84f0e610",
   "metadata": {},
   "source": [
    "## Khám phá dữ liệu"
   ]
  },
  {
   "cell_type": "markdown",
   "id": "c12be011",
   "metadata": {},
   "source": [
    "---"
   ]
  },
  {
   "cell_type": "markdown",
   "id": "e23af5e3",
   "metadata": {},
   "source": [
    "### Đọc dữ liệu từ file csv vào dataframe"
   ]
  },
  {
   "cell_type": "code",
   "execution_count": 5,
   "id": "b8571b8b",
   "metadata": {},
   "outputs": [
    {
     "data": {
      "text/html": [
       "<div>\n",
       "<style scoped>\n",
       "    .dataframe tbody tr th:only-of-type {\n",
       "        vertical-align: middle;\n",
       "    }\n",
       "\n",
       "    .dataframe tbody tr th {\n",
       "        vertical-align: top;\n",
       "    }\n",
       "\n",
       "    .dataframe thead th {\n",
       "        text-align: right;\n",
       "    }\n",
       "</style>\n",
       "<table border=\"1\" class=\"dataframe\">\n",
       "  <thead>\n",
       "    <tr style=\"text-align: right;\">\n",
       "      <th></th>\n",
       "      <th>id</th>\n",
       "      <th>gender</th>\n",
       "      <th>age</th>\n",
       "      <th>hypertension</th>\n",
       "      <th>heart_disease</th>\n",
       "      <th>ever_married</th>\n",
       "      <th>work_type</th>\n",
       "      <th>Residence_type</th>\n",
       "      <th>avg_glucose_level</th>\n",
       "      <th>bmi</th>\n",
       "      <th>smoking_status</th>\n",
       "      <th>stroke</th>\n",
       "    </tr>\n",
       "  </thead>\n",
       "  <tbody>\n",
       "    <tr>\n",
       "      <th>0</th>\n",
       "      <td>9046</td>\n",
       "      <td>Male</td>\n",
       "      <td>67.0</td>\n",
       "      <td>0</td>\n",
       "      <td>1</td>\n",
       "      <td>Yes</td>\n",
       "      <td>Private</td>\n",
       "      <td>Urban</td>\n",
       "      <td>228.69</td>\n",
       "      <td>36.6</td>\n",
       "      <td>formerly smoked</td>\n",
       "      <td>1</td>\n",
       "    </tr>\n",
       "    <tr>\n",
       "      <th>1</th>\n",
       "      <td>51676</td>\n",
       "      <td>Female</td>\n",
       "      <td>61.0</td>\n",
       "      <td>0</td>\n",
       "      <td>0</td>\n",
       "      <td>Yes</td>\n",
       "      <td>Self-employed</td>\n",
       "      <td>Rural</td>\n",
       "      <td>202.21</td>\n",
       "      <td>NaN</td>\n",
       "      <td>never smoked</td>\n",
       "      <td>1</td>\n",
       "    </tr>\n",
       "    <tr>\n",
       "      <th>2</th>\n",
       "      <td>31112</td>\n",
       "      <td>Male</td>\n",
       "      <td>80.0</td>\n",
       "      <td>0</td>\n",
       "      <td>1</td>\n",
       "      <td>Yes</td>\n",
       "      <td>Private</td>\n",
       "      <td>Rural</td>\n",
       "      <td>105.92</td>\n",
       "      <td>32.5</td>\n",
       "      <td>never smoked</td>\n",
       "      <td>1</td>\n",
       "    </tr>\n",
       "    <tr>\n",
       "      <th>3</th>\n",
       "      <td>60182</td>\n",
       "      <td>Female</td>\n",
       "      <td>49.0</td>\n",
       "      <td>0</td>\n",
       "      <td>0</td>\n",
       "      <td>Yes</td>\n",
       "      <td>Private</td>\n",
       "      <td>Urban</td>\n",
       "      <td>171.23</td>\n",
       "      <td>34.4</td>\n",
       "      <td>smokes</td>\n",
       "      <td>1</td>\n",
       "    </tr>\n",
       "    <tr>\n",
       "      <th>4</th>\n",
       "      <td>1665</td>\n",
       "      <td>Female</td>\n",
       "      <td>79.0</td>\n",
       "      <td>1</td>\n",
       "      <td>0</td>\n",
       "      <td>Yes</td>\n",
       "      <td>Self-employed</td>\n",
       "      <td>Rural</td>\n",
       "      <td>174.12</td>\n",
       "      <td>24.0</td>\n",
       "      <td>never smoked</td>\n",
       "      <td>1</td>\n",
       "    </tr>\n",
       "  </tbody>\n",
       "</table>\n",
       "</div>"
      ],
      "text/plain": [
       "      id  gender   age  hypertension  heart_disease ever_married  \\\n",
       "0   9046    Male  67.0             0              1          Yes   \n",
       "1  51676  Female  61.0             0              0          Yes   \n",
       "2  31112    Male  80.0             0              1          Yes   \n",
       "3  60182  Female  49.0             0              0          Yes   \n",
       "4   1665  Female  79.0             1              0          Yes   \n",
       "\n",
       "       work_type Residence_type  avg_glucose_level   bmi   smoking_status  \\\n",
       "0        Private          Urban             228.69  36.6  formerly smoked   \n",
       "1  Self-employed          Rural             202.21   NaN     never smoked   \n",
       "2        Private          Rural             105.92  32.5     never smoked   \n",
       "3        Private          Urban             171.23  34.4           smokes   \n",
       "4  Self-employed          Rural             174.12  24.0     never smoked   \n",
       "\n",
       "   stroke  \n",
       "0       1  \n",
       "1       1  \n",
       "2       1  \n",
       "3       1  \n",
       "4       1  "
      ]
     },
     "execution_count": 5,
     "metadata": {},
     "output_type": "execute_result"
    }
   ],
   "source": [
    "hcs_df = pd.read_csv('data/healthcare-dataset-stroke-data.csv')\n",
    "hcs_df.head()"
   ]
  },
  {
   "cell_type": "markdown",
   "id": "1b35f2a3",
   "metadata": {},
   "source": [
    "### Dữ liệu gồm có bao nhiêu dòng và bao nhiêu cột?"
   ]
  },
  {
   "cell_type": "code",
   "execution_count": 9,
   "id": "2bf093ed",
   "metadata": {
    "deletable": false,
    "nbgrader": {
     "cell_type": "code",
     "checksum": "0a03dc9216c2e34b0151074d168e31a3",
     "grade": false,
     "grade_id": "cell-bc8810dbc4930a46",
     "locked": false,
     "schema_version": 3,
     "solution": true,
     "task": false
    }
   },
   "outputs": [
    {
     "data": {
      "text/plain": [
       "(5110, 12)"
      ]
     },
     "execution_count": 9,
     "metadata": {},
     "output_type": "execute_result"
    }
   ],
   "source": [
    "num_rows = hcs_df.shape[0]\n",
    "num_cols = hcs_df.shape[1]\n",
    "\n",
    "hcs_df.shape"
   ]
  },
  {
   "cell_type": "markdown",
   "id": "08e1968c",
   "metadata": {},
   "source": [
    "Dữ liệu có 12 cột và 5110 dòng."
   ]
  },
  {
   "cell_type": "markdown",
   "id": "0da578e9",
   "metadata": {},
   "source": [
    "### Mỗi cột có ý nghĩa gì?"
   ]
  },
  {
   "cell_type": "code",
   "execution_count": 33,
   "id": "d4739fb9",
   "metadata": {},
   "outputs": [
    {
     "name": "stdout",
     "output_type": "stream",
     "text": [
      "1) id:                 unique identifier\n",
      "2) gender:             \"Male\", \"Female\" or \"Other\"\n",
      "3) age:                age of the patient\n",
      "4) hypertension:       0 if the patient doesn't have hypertension, 1 if the patient has hypertension\n",
      "5) heart_disease:      0 if the patient doesn't have any heart diseases, 1 if the patient has a heart disease\n",
      "6) ever_married:       \"No\" or \"Yes\"\n",
      "7) work_type:          \"children\", \"Govt_jov\", \"Never_worked\", \"Private\" or \"Self-employed\"\n",
      "8) Residence_type:     \"Rural\" or \"Urban\"\n",
      "9) avg_glucose_level:  average glucose level in blood\n",
      "10) bmi:               body mass index\n",
      "11) smoking_status:    \"formerly smoked\", \"never smoked\", \"smokes\" or \"Unknown\"*\n",
      "12) stroke.            1 if the patient had a stroke or 0 if not\n",
      "*Note: \"Unknown\" in smoking_status means that the information is unavailable for this patient\n"
     ]
    }
   ],
   "source": [
    "with open('data/description.txt', 'r') as f:\n",
    "    print(f.read())"
   ]
  },
  {
   "cell_type": "markdown",
   "id": "d7dfbb52",
   "metadata": {},
   "source": [
    "- **id**: mã id\n",
    "- **gender**: giới tính (\"Male\", Female\" và \"Other\")\n",
    "- **age**: tuổi tác\n",
    "- **hypertension**: bị huyết áp cao (0 là không, 1 là có)\n",
    "- **heart_disease**: bị bệnh tim (0 là không, 1 là có)\n",
    "- **ever_married**: tình trạng kết hôn (\"No\" và \"Yes\")\n",
    "- **work_type**: loại nghề nghiệp (\"children\", \"Govt_jov\", \"Never_worked\", \"Private\" và \"Self-employed\")\n",
    "- **Residence_type**: loại cư dân (\"Rural\" hoặc \"Urban\")\n",
    "- **avg_glucose_level**: lượng đường trung bình trong máu\n",
    "- **bmi**: chỉ số khối cơ thể\n",
    "- **smoking_status**: tình trạng hút thuốc (\"formerly smoked\", \"never smoked\", \"smokes\" và \"Unknown\")\n",
    "- **stroke**: bị đột quỵ (0 là không, 1 là có)"
   ]
  },
  {
   "cell_type": "markdown",
   "id": "c87606a3",
   "metadata": {},
   "source": [
    "### Mỗi cột hiện đang có kiểu dữ liệu gì?"
   ]
  },
  {
   "cell_type": "code",
   "execution_count": 13,
   "id": "bcb527bb",
   "metadata": {
    "deletable": false,
    "nbgrader": {
     "cell_type": "code",
     "checksum": "96e1fdd8f9e7fa97311e690dcdea495b",
     "grade": false,
     "grade_id": "cell-e7c33d274bed2b0c",
     "locked": false,
     "schema_version": 3,
     "solution": true,
     "task": false
    }
   },
   "outputs": [
    {
     "data": {
      "text/plain": [
       "id                     int64\n",
       "gender                object\n",
       "age                  float64\n",
       "hypertension           int64\n",
       "heart_disease          int64\n",
       "ever_married          object\n",
       "work_type             object\n",
       "Residence_type        object\n",
       "avg_glucose_level    float64\n",
       "bmi                  float64\n",
       "smoking_status        object\n",
       "stroke                 int64\n",
       "dtype: object"
      ]
     },
     "execution_count": 13,
     "metadata": {},
     "output_type": "execute_result"
    }
   ],
   "source": [
    "hcs_df.dtypes"
   ]
  },
  {
   "cell_type": "markdown",
   "id": "201da5de",
   "metadata": {},
   "source": [
    "### Với mỗi cột có kiểu dữ liệu dạng numeric, các giá trị được phân bố như thế nào?"
   ]
  },
  {
   "cell_type": "markdown",
   "id": "908f70f6",
   "metadata": {},
   "source": [
    "Hiện có 6 cột thuộc dạng numeric: \"age\", \"hypertension\", \"heart_disease\", \"avg_glucose_level\", \"bmi\", \"stroke\". Nhưng 3 cột \"hypertension\", \"heart_disease\", \"stroke\" do mã được đánh dưới dạng số nên 3 cột này sẽ là dạng categorical. Vì vậy, chỉ có 3 cột numeric là \"age\", \"avg_glucose_level\", \"bmi\". "
   ]
  },
  {
   "cell_type": "code",
   "execution_count": 27,
   "id": "1b54fffd",
   "metadata": {},
   "outputs": [],
   "source": [
    "def missing_ratio(col):\n",
    "    return col.isna().mean() * 100"
   ]
  },
  {
   "cell_type": "code",
   "execution_count": 34,
   "id": "0a564b59",
   "metadata": {
    "nbgrader": {
     "cell_type": "code",
     "checksum": "95f164d4ff7a5ee9869dbcc8e0c31d32",
     "grade": false,
     "grade_id": "cell-4c64c2ce1eea9f1d",
     "locked": false,
     "schema_version": 3,
     "solution": true,
     "task": false
    }
   },
   "outputs": [
    {
     "data": {
      "text/html": [
       "<div>\n",
       "<style scoped>\n",
       "    .dataframe tbody tr th:only-of-type {\n",
       "        vertical-align: middle;\n",
       "    }\n",
       "\n",
       "    .dataframe tbody tr th {\n",
       "        vertical-align: top;\n",
       "    }\n",
       "\n",
       "    .dataframe thead th {\n",
       "        text-align: right;\n",
       "    }\n",
       "</style>\n",
       "<table border=\"1\" class=\"dataframe\">\n",
       "  <thead>\n",
       "    <tr style=\"text-align: right;\">\n",
       "      <th></th>\n",
       "      <th>age</th>\n",
       "      <th>avg_glucose_level</th>\n",
       "      <th>bmi</th>\n",
       "    </tr>\n",
       "  </thead>\n",
       "  <tbody>\n",
       "    <tr>\n",
       "      <th>missing_ratio</th>\n",
       "      <td>0.00</td>\n",
       "      <td>0.00</td>\n",
       "      <td>3.933464</td>\n",
       "    </tr>\n",
       "    <tr>\n",
       "      <th>min</th>\n",
       "      <td>0.08</td>\n",
       "      <td>55.12</td>\n",
       "      <td>10.300000</td>\n",
       "    </tr>\n",
       "    <tr>\n",
       "      <th>max</th>\n",
       "      <td>82.00</td>\n",
       "      <td>271.74</td>\n",
       "      <td>97.600000</td>\n",
       "    </tr>\n",
       "  </tbody>\n",
       "</table>\n",
       "</div>"
      ],
      "text/plain": [
       "                 age  avg_glucose_level        bmi\n",
       "missing_ratio   0.00               0.00   3.933464\n",
       "min             0.08              55.12  10.300000\n",
       "max            82.00             271.74  97.600000"
      ]
     },
     "execution_count": 34,
     "metadata": {},
     "output_type": "execute_result"
    }
   ],
   "source": [
    "num_col_profiles_df = hcs_df[[\"age\", \"avg_glucose_level\", \"bmi\"]]\n",
    "num_col_profiles_df = num_col_profiles_df.agg([missing_ratio, pd.Series.min, pd.Series.max])\n",
    "num_col_profiles_df"
   ]
  },
  {
   "cell_type": "markdown",
   "id": "888db875",
   "metadata": {},
   "source": [
    "### Với mỗi cột có kiểu dữ liệu dạng categorical, các giá trị được phân bố như thế nào?"
   ]
  },
  {
   "cell_type": "markdown",
   "id": "b0fac7fe",
   "metadata": {},
   "source": [
    "Ban đầu sẽ có 5 cột thuộc dạng categorical: \"gender\", \"ever_married\", \"work_type\", \"Residence_type\", \"smoking_status\".\n",
    "Bởi vì lý do ở trên nên sẽ có thêm 3 cột: \"hypertension\", \"heart_disease\", \"stroke\". Vì vậy, tổng cộng có 8 cột thuộc dạng categorical: \"gender\", \"hypertension\", \"heart_disease\", \"ever_married\", \"work_type\", \"Residence_type\", \"smoking_status\", \"stroke\"."
   ]
  },
  {
   "cell_type": "code",
   "execution_count": 29,
   "id": "682193ad",
   "metadata": {},
   "outputs": [],
   "source": [
    "def unique_non_null(s):\n",
    "    return s.dropna().unique()"
   ]
  },
  {
   "cell_type": "code",
   "execution_count": 35,
   "id": "18947752",
   "metadata": {
    "nbgrader": {
     "cell_type": "code",
     "checksum": "95f164d4ff7a5ee9869dbcc8e0c31d32",
     "grade": false,
     "grade_id": "cell-4c64c2ce1eea9f1d",
     "locked": false,
     "schema_version": 3,
     "solution": true,
     "task": false
    }
   },
   "outputs": [],
   "source": [
    "cate_col_profiles_df = hcs_df[[\"gender\", \"hypertension\", \"heart_disease\",\"work_type\", \n",
    "                               \"Residence_type\", \"smoking_status\", \"stroke\"]]\n",
    "cate_col_profiles_df = cate_col_profiles_df.agg([missing_ratio, unique_non_null, pd.Series.nunique])\n",
    "cate_col_profiles_df = cate_col_profiles_df.rename(index={'unique_non_null': 'diff_vals', 'nunique': 'num_diff_vals'})"
   ]
  },
  {
   "cell_type": "markdown",
   "id": "09729ce4",
   "metadata": {},
   "source": [
    "## Phân tích dữ liệu để trả lời cho các câu hỏi "
   ]
  },
  {
   "cell_type": "markdown",
   "id": "99c136d0",
   "metadata": {},
   "source": [
    "### Giữa những người đã từng hoặc đang hút thuốc và những người chưa hút thuốc bao giờ thì tỷ lệ bị mắc bệnh chênh lệch bao nhiêu?"
   ]
  },
  {
   "cell_type": "markdown",
   "id": "023c8b4b",
   "metadata": {},
   "source": [
    "Để lấy thông tin người này có bị mắc bệnh không, ta xét 3 cột hypertension, heart_disease, stroke, nếu 1 trong 3 cột nếu có bị (tương đương số 1) thì ta cho người này có bệnh (True). Từ đó ta tạo thêm cột has_disease để lưu boolean (True, False) rằng người này có bệnh hay không"
   ]
  },
  {
   "cell_type": "code",
   "execution_count": 448,
   "id": "f9e41839",
   "metadata": {},
   "outputs": [
    {
     "data": {
      "text/plain": [
       "0        True\n",
       "1        True\n",
       "2        True\n",
       "3        True\n",
       "4        True\n",
       "        ...  \n",
       "5105     True\n",
       "5106    False\n",
       "5107    False\n",
       "5108    False\n",
       "5109    False\n",
       "Name: has_disease, Length: 5110, dtype: bool"
      ]
     },
     "execution_count": 448,
     "metadata": {},
     "output_type": "execute_result"
    }
   ],
   "source": [
    "copy_hcs_df = hcs_df.copy()\n",
    "has_disease = (hcs_df['hypertension'] == 1) | (hcs_df['heart_disease'] == 1) | (hcs_df['stroke'] == 1)\n",
    "copy_hcs_df['has_disease'] = has_disease\n",
    "\n",
    "copy_hcs_df['has_disease']"
   ]
  },
  {
   "cell_type": "markdown",
   "id": "84816a83",
   "metadata": {},
   "source": [
    "Ta group 2 cột smoking_status và has_disease vừa được tạo ở bước trên để tính phân bố dựa theo smoking_status.\n",
    "Sau đó tính tỷ lệ mắc bệnh bằng cách chia tổng của từng loại smoking_status"
   ]
  },
  {
   "cell_type": "code",
   "execution_count": 512,
   "id": "a1ad2cb3",
   "metadata": {},
   "outputs": [
    {
     "data": {
      "text/html": [
       "<div>\n",
       "<style scoped>\n",
       "    .dataframe tbody tr th:only-of-type {\n",
       "        vertical-align: middle;\n",
       "    }\n",
       "\n",
       "    .dataframe tbody tr th {\n",
       "        vertical-align: top;\n",
       "    }\n",
       "\n",
       "    .dataframe thead th {\n",
       "        text-align: right;\n",
       "    }\n",
       "</style>\n",
       "<table border=\"1\" class=\"dataframe\">\n",
       "  <thead>\n",
       "    <tr style=\"text-align: right;\">\n",
       "      <th>smoking_status</th>\n",
       "      <th>Unknown</th>\n",
       "      <th>formerly smoked</th>\n",
       "      <th>never smoked</th>\n",
       "      <th>smokes</th>\n",
       "    </tr>\n",
       "    <tr>\n",
       "      <th>has_disease</th>\n",
       "      <th></th>\n",
       "      <th></th>\n",
       "      <th></th>\n",
       "      <th></th>\n",
       "    </tr>\n",
       "  </thead>\n",
       "  <tbody>\n",
       "    <tr>\n",
       "      <th>False</th>\n",
       "      <td>0.915803</td>\n",
       "      <td>0.752542</td>\n",
       "      <td>0.815539</td>\n",
       "      <td>0.795944</td>\n",
       "    </tr>\n",
       "    <tr>\n",
       "      <th>True</th>\n",
       "      <td>0.084197</td>\n",
       "      <td>0.247458</td>\n",
       "      <td>0.184461</td>\n",
       "      <td>0.204056</td>\n",
       "    </tr>\n",
       "  </tbody>\n",
       "</table>\n",
       "</div>"
      ],
      "text/plain": [
       "smoking_status   Unknown  formerly smoked  never smoked    smokes\n",
       "has_disease                                                      \n",
       "False           0.915803         0.752542      0.815539  0.795944\n",
       "True            0.084197         0.247458      0.184461  0.204056"
      ]
     },
     "execution_count": 512,
     "metadata": {},
     "output_type": "execute_result"
    }
   ],
   "source": [
    "disease_smoke_df = copy_hcs_df.groupby(['smoking_status','has_disease']).size()\n",
    "disease_smoke_df = disease_smoke_df.unstack(0)\n",
    "disease_smoke_df = disease_smoke_df / disease_smoke_df.sum()\n",
    "disease_smoke_df"
   ]
  },
  {
   "cell_type": "markdown",
   "id": "bcfe1b8f",
   "metadata": {},
   "source": [
    "Theo số liệu được tính toán như trên, ta thấy tỷ lệ mắc bệnh (hypertension hoặc heart disease hoặc stroke) của những người không hút thuốc (never smoked) thấp hơn so với những người đã từng (formerly smoked) hoặc đang hút thuốc (smokes). Ta còn thấy tỷ lệ không mắc bệnh của never smoked lại cao hơn 2 loại kia."
   ]
  },
  {
   "cell_type": "markdown",
   "id": "74bcdf89",
   "metadata": {},
   "source": [
    "Tính độ chênh lệch bằng cách trừ tất cả các cột với cột never smoked."
   ]
  },
  {
   "cell_type": "code",
   "execution_count": 521,
   "id": "026ff968",
   "metadata": {},
   "outputs": [
    {
     "data": {
      "text/html": [
       "<div>\n",
       "<style scoped>\n",
       "    .dataframe tbody tr th:only-of-type {\n",
       "        vertical-align: middle;\n",
       "    }\n",
       "\n",
       "    .dataframe tbody tr th {\n",
       "        vertical-align: top;\n",
       "    }\n",
       "\n",
       "    .dataframe thead th {\n",
       "        text-align: right;\n",
       "    }\n",
       "</style>\n",
       "<table border=\"1\" class=\"dataframe\">\n",
       "  <thead>\n",
       "    <tr style=\"text-align: right;\">\n",
       "      <th></th>\n",
       "      <th>True</th>\n",
       "    </tr>\n",
       "    <tr>\n",
       "      <th>smoking_status</th>\n",
       "      <th></th>\n",
       "    </tr>\n",
       "  </thead>\n",
       "  <tbody>\n",
       "    <tr>\n",
       "      <th>Unknown</th>\n",
       "      <td>0.100264</td>\n",
       "    </tr>\n",
       "    <tr>\n",
       "      <th>formerly smoked</th>\n",
       "      <td>0.062997</td>\n",
       "    </tr>\n",
       "    <tr>\n",
       "      <th>never smoked</th>\n",
       "      <td>0.000000</td>\n",
       "    </tr>\n",
       "    <tr>\n",
       "      <th>smokes</th>\n",
       "      <td>0.019595</td>\n",
       "    </tr>\n",
       "  </tbody>\n",
       "</table>\n",
       "</div>"
      ],
      "text/plain": [
       "                     True\n",
       "smoking_status           \n",
       "Unknown          0.100264\n",
       "formerly smoked  0.062997\n",
       "never smoked     0.000000\n",
       "smokes           0.019595"
      ]
     },
     "execution_count": 521,
     "metadata": {},
     "output_type": "execute_result"
    }
   ],
   "source": [
    "disease_smoke_df = abs(disease_smoke_df.subtract(disease_smoke_df['never smoked'].values, axis=0))\n",
    "pd.DataFrame(disease_smoke_df.loc[True])"
   ]
  },
  {
   "cell_type": "markdown",
   "id": "147a0d32",
   "metadata": {},
   "source": [
    "Theo số liệu trên, những người hiện đang hút thuốc có độ chênh lệch thấp nhất, chứng tỏ hành vi hút thuốc đang ảnh hưởng tới sức khoẻ. Còn những người đã từng hút thuốc thì họ nhiều hơn so với đang hút (độ chênh lệch), có thể cho rằng cai hút thuốc làm tăng sự sống cho con người. Từ những điều rút ra ở trên cho thấy hành vi hút thuốc có tác động rất lớn đến sức khoẻ của con người."
   ]
  },
  {
   "cell_type": "markdown",
   "id": "10896af9",
   "metadata": {},
   "source": [
    "### Con người càng già thì càng dễ bị mắc bệnh không?"
   ]
  },
  {
   "cell_type": "markdown",
   "id": "e65e458a",
   "metadata": {},
   "source": [
    "Cũng như câu hỏi trên, ở đây ta cần cột has_disease để biết người này có bị mắc bệnh không và ta chỉ lấy những người bị bệnh (has_disease là True)"
   ]
  },
  {
   "cell_type": "code",
   "execution_count": 493,
   "id": "e613d1c8",
   "metadata": {},
   "outputs": [
    {
     "data": {
      "text/html": [
       "<div>\n",
       "<style scoped>\n",
       "    .dataframe tbody tr th:only-of-type {\n",
       "        vertical-align: middle;\n",
       "    }\n",
       "\n",
       "    .dataframe tbody tr th {\n",
       "        vertical-align: top;\n",
       "    }\n",
       "\n",
       "    .dataframe thead th {\n",
       "        text-align: right;\n",
       "    }\n",
       "</style>\n",
       "<table border=\"1\" class=\"dataframe\">\n",
       "  <thead>\n",
       "    <tr style=\"text-align: right;\">\n",
       "      <th></th>\n",
       "      <th>id</th>\n",
       "      <th>gender</th>\n",
       "      <th>age</th>\n",
       "      <th>hypertension</th>\n",
       "      <th>heart_disease</th>\n",
       "      <th>ever_married</th>\n",
       "      <th>work_type</th>\n",
       "      <th>Residence_type</th>\n",
       "      <th>avg_glucose_level</th>\n",
       "      <th>bmi</th>\n",
       "      <th>smoking_status</th>\n",
       "      <th>stroke</th>\n",
       "      <th>has_disease</th>\n",
       "    </tr>\n",
       "  </thead>\n",
       "  <tbody>\n",
       "    <tr>\n",
       "      <th>0</th>\n",
       "      <td>9046</td>\n",
       "      <td>Male</td>\n",
       "      <td>67.0</td>\n",
       "      <td>0</td>\n",
       "      <td>1</td>\n",
       "      <td>Yes</td>\n",
       "      <td>Private</td>\n",
       "      <td>Urban</td>\n",
       "      <td>228.69</td>\n",
       "      <td>36.6</td>\n",
       "      <td>formerly smoked</td>\n",
       "      <td>1</td>\n",
       "      <td>True</td>\n",
       "    </tr>\n",
       "    <tr>\n",
       "      <th>1</th>\n",
       "      <td>51676</td>\n",
       "      <td>Female</td>\n",
       "      <td>61.0</td>\n",
       "      <td>0</td>\n",
       "      <td>0</td>\n",
       "      <td>Yes</td>\n",
       "      <td>Self-employed</td>\n",
       "      <td>Rural</td>\n",
       "      <td>202.21</td>\n",
       "      <td>NaN</td>\n",
       "      <td>never smoked</td>\n",
       "      <td>1</td>\n",
       "      <td>True</td>\n",
       "    </tr>\n",
       "    <tr>\n",
       "      <th>2</th>\n",
       "      <td>31112</td>\n",
       "      <td>Male</td>\n",
       "      <td>80.0</td>\n",
       "      <td>0</td>\n",
       "      <td>1</td>\n",
       "      <td>Yes</td>\n",
       "      <td>Private</td>\n",
       "      <td>Rural</td>\n",
       "      <td>105.92</td>\n",
       "      <td>32.5</td>\n",
       "      <td>never smoked</td>\n",
       "      <td>1</td>\n",
       "      <td>True</td>\n",
       "    </tr>\n",
       "    <tr>\n",
       "      <th>3</th>\n",
       "      <td>60182</td>\n",
       "      <td>Female</td>\n",
       "      <td>49.0</td>\n",
       "      <td>0</td>\n",
       "      <td>0</td>\n",
       "      <td>Yes</td>\n",
       "      <td>Private</td>\n",
       "      <td>Urban</td>\n",
       "      <td>171.23</td>\n",
       "      <td>34.4</td>\n",
       "      <td>smokes</td>\n",
       "      <td>1</td>\n",
       "      <td>True</td>\n",
       "    </tr>\n",
       "    <tr>\n",
       "      <th>4</th>\n",
       "      <td>1665</td>\n",
       "      <td>Female</td>\n",
       "      <td>79.0</td>\n",
       "      <td>1</td>\n",
       "      <td>0</td>\n",
       "      <td>Yes</td>\n",
       "      <td>Self-employed</td>\n",
       "      <td>Rural</td>\n",
       "      <td>174.12</td>\n",
       "      <td>24.0</td>\n",
       "      <td>never smoked</td>\n",
       "      <td>1</td>\n",
       "      <td>True</td>\n",
       "    </tr>\n",
       "  </tbody>\n",
       "</table>\n",
       "</div>"
      ],
      "text/plain": [
       "      id  gender   age  hypertension  heart_disease ever_married  \\\n",
       "0   9046    Male  67.0             0              1          Yes   \n",
       "1  51676  Female  61.0             0              0          Yes   \n",
       "2  31112    Male  80.0             0              1          Yes   \n",
       "3  60182  Female  49.0             0              0          Yes   \n",
       "4   1665  Female  79.0             1              0          Yes   \n",
       "\n",
       "       work_type Residence_type  avg_glucose_level   bmi   smoking_status  \\\n",
       "0        Private          Urban             228.69  36.6  formerly smoked   \n",
       "1  Self-employed          Rural             202.21   NaN     never smoked   \n",
       "2        Private          Rural             105.92  32.5     never smoked   \n",
       "3        Private          Urban             171.23  34.4           smokes   \n",
       "4  Self-employed          Rural             174.12  24.0     never smoked   \n",
       "\n",
       "   stroke  has_disease  \n",
       "0       1         True  \n",
       "1       1         True  \n",
       "2       1         True  \n",
       "3       1         True  \n",
       "4       1         True  "
      ]
     },
     "execution_count": 493,
     "metadata": {},
     "output_type": "execute_result"
    }
   ],
   "source": [
    "has_disease_df = copy_hcs_df.loc[has_disease]\n",
    "has_disease_df.head()"
   ]
  },
  {
   "cell_type": "markdown",
   "id": "4113c0f1",
   "metadata": {},
   "source": [
    "Sau khi lọc xong, ta sẽ sort dữ liệu theo cột age để thuận tiện plot."
   ]
  },
  {
   "cell_type": "code",
   "execution_count": 495,
   "id": "82a522d8",
   "metadata": {},
   "outputs": [],
   "source": [
    "has_disease_df = has_disease_df.sort_values(by='age')"
   ]
  },
  {
   "cell_type": "code",
   "execution_count": 497,
   "id": "f1c5e530",
   "metadata": {},
   "outputs": [
    {
     "data": {
      "image/png": "[encoded data removed]",
      "text/plain": [
       "<Figure size 720x576 with 1 Axes>"
      ]
     },
     "metadata": {},
     "output_type": "display_data"
    }
   ],
   "source": [
    "sns.set(style=\"darkgrid\")\n",
    "sns.histplot(has_disease_df['age'])\n",
    "sns.set(rc={'figure.figsize':(10,8)})\n",
    "plt.title('Number of people havind diseases compared by age', fontsize=20)\n",
    "plt.xlabel('Age', fontsize=16)\n",
    "plt.ylabel('Count', fontsize=16)\n",
    "plt.show()"
   ]
  },
  {
   "cell_type": "markdown",
   "id": "ee077d89",
   "metadata": {},
   "source": [
    "**Nhận xét**"
   ]
  },
  {
   "cell_type": "markdown",
   "id": "3adbed7d",
   "metadata": {},
   "source": [
    "Theo như biểu đồ histogram ở trên cho thấy dường như có dấu hiệu tăng lên số người mắc bệnh theo tuổi tác, đặc biệt là ở tuổi trên dưới 80, số người mắc bệnh rất cao (cao nhất trong các số tuổi khác). Tỷ lệ mắc bệnh chủ yếu tập trung nhiều từ tuổi 50 đến khoảng 75.\n",
    "Điều này chứng tỏ rằng tuổi tác càng cao thì họ càng dễ bị mắc bệnh. Có thể giải thích rằng do tuổi càng cao, hệ miễn dịch hoạt động kém đi, dẫn đến các nguồn tế bào xấu lan truyền nhanh trong cơ thể và dễ bị mắc bệnh."
   ]
  },
  {
   "cell_type": "markdown",
   "id": "76f14176",
   "metadata": {},
   "source": [
    "## Reflection"
   ]
  },
  {
   "cell_type": "markdown",
   "id": "4958fc69",
   "metadata": {},
   "source": [
    "- Each member: What difficulties have you encountered?\n",
    "- Each member: What have you learned?\n",
    "- Your group: If you had more time, what would you do?\n",
    "\n",
    "#### 19127009 - Lữ Thế Vỹ\n",
    "- Khó khăn: Do thời gian gấp rút (trùng thời gian thi, bị rút ngắn deadline) nên công việc bị dồn nhiều. Các câu hỏi khi được đặt ra cũng chưa được suy nghĩ chín chắn, chưa thật sự sâu sắc, ý nghĩa. Bộ dữ liệu này chưa thật sự đầy đủ để có thể áp dụng hết kiến thức đã học từ môn học . Nếu có nhiều thời gian hơn thì chắc chắn bài làm sẽ tốt hơn\n",
    "- Bài học: Biết cách lập kế hoạch, sử dụng công cụ (Github, Trello, ...), khả năng xử lý vấn đề (bug, issues, ...). Các thư viện đồ hoạ Python, đọc file csv, cách tư duy đặt vấn đề câu hỏi dựa trên bộ dữ liệu\n",
    "\n",
    "#### 19127416 - Mạc Văn Hưng\n",
    "- Khó khăn: Chưa tìm được thêm câu hỏi hay.\n",
    "- Bài học: biết thêm về trực quan hoá, phân tích dữ liệu, cải thiện khả năng team-work.\n",
    "\n",
    "#### Nếu nhóm có thêm thời gian:\n",
    "- Tìm thêm nhiều câu hỏi hay và ý nghĩa, nâng cao chất lượng của câu hỏi.\n",
    "- Phân tích dữ liệu sâu hơn, tìm ra các bộ dữ liệu lớn hơn đầy đủ hơn"
   ]
  },
  {
   "cell_type": "code",
   "execution_count": null,
   "id": "9b41da26-055b-4627-a37c-7548a4606ee4",
   "metadata": {},
   "outputs": [],
   "source": []
  }
 ],
 "metadata": {
  "kernelspec": {
   "display_name": "Python 3",
   "language": "python",
   "name": "python3"
  },
  "language_info": {
   "codemirror_mode": {
    "name": "ipython",
    "version": 3
   },
   "file_extension": ".py",
   "mimetype": "text/x-python",
   "name": "python",
   "nbconvert_exporter": "python",
   "pygments_lexer": "ipython3",
   "version": "3.8.8"
  },
  "toc": {
   "base_numbering": 1,
   "nav_menu": {},
   "number_sections": false,
   "sideBar": true,
   "skip_h1_title": false,
   "title_cell": "Table of Contents",
   "title_sidebar": "Contents",
   "toc_cell": true,
   "toc_position": {},
   "toc_section_display": true,
   "toc_window_display": false
  }
 },
 "nbformat": 4,
 "nbformat_minor": 5
}
