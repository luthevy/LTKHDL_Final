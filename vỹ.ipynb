{
 "cells": [
  {
   "cell_type": "markdown",
   "id": "7e96dd60",
   "metadata": {},
   "source": [
    "# Lập trình cho Khoa học dữ liệu: Đồ án cuối kì\n",
    "## Nhóm 8: Thông tin sinh viên\n",
    "- #### Trello: https://trello.com/b/Tb6Sjg8O\n",
    "\n",
    "\n",
    "| MSSV     | Họ tên            | GitHub                         |    Email         \n",
    "|--------------|---------------------|------------------------------ |--------------------------------------------------|\n",
    "| 19127009 | Lữ Thế Vỹ | [luthevy](https://github.com/luthevy) | 19127009@student.hcmus.edu.vn\n",
    "| 19127416 | Mạc Văn Hưng     | [machung2001](https://github.com/machung2001)        |19127416@student.hcmus.edu.vn\n"
   ]
  },
  {
   "cell_type": "markdown",
   "id": "250a81b6-82c1-4530-bf67-b54a5718b0e1",
   "metadata": {},
   "source": [
    "# Mục lục\n",
    "- #### [Lời nói đầu](#Lời-nói-đầu)\n",
    "    - [Giới thiệu](#Giới-thiệu)\n",
    "    - [Mục tiêu](#Mục-tiêu)\n",
    "    - [Nguồn tài liệu](#Nguồn-tài-liệu)\n",
    "- #### [Bước chuẩn bị](#Bước-chuẩn-bị)\n",
    "    - [Nhận diện môi trường code](#Môi-trường-code)\n",
    "    - [Import thư viện](#Import-các-thư-viện-cần-thiết)\n",
    "- #### [Khám phá dữ liệu](#Thu-thập-dữ-liệu)\n",
    "    - [Đọc dữ liệu](#Đọc-dữ-liệu-từ-file-csv-vào-dataframe)\n",
    "    - [Thông tin cơ bản](#Thông-tin-cơ-bản)\n",
    "        - [Số dòng, số cột của tập dữ liệu](#Dữ-liệu-gồm-có-bao-nhiêu-dòng-và-bao-nhiêu-cột?)\n",
    "        - [Ý nghĩa từng cột](#Mỗi-cột-có-ý-nghĩa-gì?)\n",
    "        - [Kiểu dữ liệu từng cột](#Mỗi-cột-hiện-đang-có-kiểu-dữ-liệu-gì?)\n",
    "    - [Tiền xử lý](#Tiền-xử-lý)\n",
    "        - [Cột cần loại bỏ](#Cột-cần-loại-bỏ)\n",
    "        - [Cột bất thường](#Cột-bất-thường)\n",
    "        - [Dòng bất thường](#Dòng-bất-thường)\n",
    "        - [Dòng bị lặp](#Dòng-bị-lặp)\n",
    "- #### [Khám phá dữ liệu (tiếp theo)](#Khám-phá-dữ-liệu-(tiếp-theo))\n",
    "    - [Phân bố dữ liệu kiểu numerical](#Phân-bố-dữ-liệu-kiểu-numerical)\n",
    "    - [Phân bố dữ liệu kiểu categorical](#Phân-bố-dữ-liệu-kiểu-categorical)\n",
    "- #### [Đặt câu hỏi](#Đặt-câu-hỏi)\n"
   ]
  },
  {
   "cell_type": "markdown",
   "id": "5633a403-f63c-4d4c-b778-7e8dc731f80e",
   "metadata": {},
   "source": [
    "_____________________________________________"
   ]
  },
  {
   "cell_type": "markdown",
   "id": "acd05c8d-d903-478a-a0f1-8e72240e7924",
   "metadata": {},
   "source": [
    "## Lời nói đầu"
   ]
  },
  {
   "cell_type": "markdown",
   "id": "443117bf-31c1-4c35-97a4-06e170b873e8",
   "metadata": {},
   "source": [
    "### Giới thiệu"
   ]
  },
  {
   "cell_type": "markdown",
   "id": "a9391abb-1a3c-49c9-aa4e-9b6a5bb7a176",
   "metadata": {},
   "source": []
  },
  {
   "cell_type": "markdown",
   "id": "fd29d8c6-fca7-4fb2-854b-00030a9101a2",
   "metadata": {},
   "source": [
    "### Mục tiêu"
   ]
  },
  {
   "cell_type": "markdown",
   "id": "bfa81369-8ad2-464f-a895-747159ae34a5",
   "metadata": {},
   "source": []
  },
  {
   "cell_type": "markdown",
   "id": "3d4c5575-7e1f-4348-9ec3-42d8e4c2f8f5",
   "metadata": {},
   "source": [
    "### Nguồn tài liệu"
   ]
  },
  {
   "cell_type": "markdown",
   "id": "c7c51033-40af-4874-affd-b6399c1e55f9",
   "metadata": {},
   "source": []
  },
  {
   "cell_type": "markdown",
   "id": "60a5cdb5-31d6-4fdb-92a2-edec51542c27",
   "metadata": {},
   "source": [
    "______"
   ]
  },
  {
   "cell_type": "markdown",
   "id": "dd16dc65-e0f8-4b17-9e86-e0a897ee9643",
   "metadata": {},
   "source": [
    "## Bước chuẩn bị"
   ]
  },
  {
   "cell_type": "markdown",
   "id": "108adbdd-79e2-4fc3-b5ad-38c041272165",
   "metadata": {},
   "source": [
    "___"
   ]
  },
  {
   "cell_type": "markdown",
   "id": "5e79806d",
   "metadata": {},
   "source": [
    "### Môi trường code"
   ]
  },
  {
   "cell_type": "code",
   "execution_count": 1,
   "id": "4ce0039b",
   "metadata": {
    "scrolled": true
   },
   "outputs": [
    {
     "data": {
      "text/plain": [
       "'F:\\\\Anaconda\\\\python.exe'"
      ]
     },
     "execution_count": 1,
     "metadata": {},
     "output_type": "execute_result"
    }
   ],
   "source": [
    "import sys\n",
    "sys.executable"
   ]
  },
  {
   "cell_type": "markdown",
   "id": "d97a9cde",
   "metadata": {},
   "source": [
    "### Import các thư viện cần thiết"
   ]
  },
  {
   "cell_type": "code",
   "execution_count": 2,
   "id": "f0cb61f2",
   "metadata": {},
   "outputs": [],
   "source": [
    "# Import thư viện cần dùng\n",
    "import os\n",
    "import numpy as np\n",
    "import pandas as pd\n",
    "import matplotlib.pyplot as plt"
   ]
  },
  {
   "cell_type": "markdown",
   "id": "fee81e52",
   "metadata": {},
   "source": [
    "---"
   ]
  },
  {
   "cell_type": "markdown",
   "id": "84f0e610",
   "metadata": {},
   "source": [
    "## Khám phá dữ liệu"
   ]
  },
  {
   "cell_type": "markdown",
   "id": "c12be011",
   "metadata": {},
   "source": [
    "---"
   ]
  },
  {
   "cell_type": "markdown",
   "id": "e23af5e3",
   "metadata": {},
   "source": [
    "### Đọc dữ liệu từ file csv vào dataframe"
   ]
  },
  {
   "cell_type": "code",
   "execution_count": 3,
   "id": "b8571b8b",
   "metadata": {},
   "outputs": [
    {
     "data": {
      "text/html": [
       "<div>\n",
       "<style scoped>\n",
       "    .dataframe tbody tr th:only-of-type {\n",
       "        vertical-align: middle;\n",
       "    }\n",
       "\n",
       "    .dataframe tbody tr th {\n",
       "        vertical-align: top;\n",
       "    }\n",
       "\n",
       "    .dataframe thead th {\n",
       "        text-align: right;\n",
       "    }\n",
       "</style>\n",
       "<table border=\"1\" class=\"dataframe\">\n",
       "  <thead>\n",
       "    <tr style=\"text-align: right;\">\n",
       "      <th></th>\n",
       "      <th>id</th>\n",
       "      <th>gender</th>\n",
       "      <th>age</th>\n",
       "      <th>hypertension</th>\n",
       "      <th>heart_disease</th>\n",
       "      <th>ever_married</th>\n",
       "      <th>work_type</th>\n",
       "      <th>Residence_type</th>\n",
       "      <th>avg_glucose_level</th>\n",
       "      <th>bmi</th>\n",
       "      <th>smoking_status</th>\n",
       "      <th>stroke</th>\n",
       "    </tr>\n",
       "  </thead>\n",
       "  <tbody>\n",
       "    <tr>\n",
       "      <th>0</th>\n",
       "      <td>9046</td>\n",
       "      <td>Male</td>\n",
       "      <td>67.0</td>\n",
       "      <td>0</td>\n",
       "      <td>1</td>\n",
       "      <td>Yes</td>\n",
       "      <td>Private</td>\n",
       "      <td>Urban</td>\n",
       "      <td>228.69</td>\n",
       "      <td>36.6</td>\n",
       "      <td>formerly smoked</td>\n",
       "      <td>1</td>\n",
       "    </tr>\n",
       "    <tr>\n",
       "      <th>1</th>\n",
       "      <td>51676</td>\n",
       "      <td>Female</td>\n",
       "      <td>61.0</td>\n",
       "      <td>0</td>\n",
       "      <td>0</td>\n",
       "      <td>Yes</td>\n",
       "      <td>Self-employed</td>\n",
       "      <td>Rural</td>\n",
       "      <td>202.21</td>\n",
       "      <td>NaN</td>\n",
       "      <td>never smoked</td>\n",
       "      <td>1</td>\n",
       "    </tr>\n",
       "    <tr>\n",
       "      <th>2</th>\n",
       "      <td>31112</td>\n",
       "      <td>Male</td>\n",
       "      <td>80.0</td>\n",
       "      <td>0</td>\n",
       "      <td>1</td>\n",
       "      <td>Yes</td>\n",
       "      <td>Private</td>\n",
       "      <td>Rural</td>\n",
       "      <td>105.92</td>\n",
       "      <td>32.5</td>\n",
       "      <td>never smoked</td>\n",
       "      <td>1</td>\n",
       "    </tr>\n",
       "    <tr>\n",
       "      <th>3</th>\n",
       "      <td>60182</td>\n",
       "      <td>Female</td>\n",
       "      <td>49.0</td>\n",
       "      <td>0</td>\n",
       "      <td>0</td>\n",
       "      <td>Yes</td>\n",
       "      <td>Private</td>\n",
       "      <td>Urban</td>\n",
       "      <td>171.23</td>\n",
       "      <td>34.4</td>\n",
       "      <td>smokes</td>\n",
       "      <td>1</td>\n",
       "    </tr>\n",
       "    <tr>\n",
       "      <th>4</th>\n",
       "      <td>1665</td>\n",
       "      <td>Female</td>\n",
       "      <td>79.0</td>\n",
       "      <td>1</td>\n",
       "      <td>0</td>\n",
       "      <td>Yes</td>\n",
       "      <td>Self-employed</td>\n",
       "      <td>Rural</td>\n",
       "      <td>174.12</td>\n",
       "      <td>24.0</td>\n",
       "      <td>never smoked</td>\n",
       "      <td>1</td>\n",
       "    </tr>\n",
       "  </tbody>\n",
       "</table>\n",
       "</div>"
      ],
      "text/plain": [
       "      id  gender   age  hypertension  heart_disease ever_married  \\\n",
       "0   9046    Male  67.0             0              1          Yes   \n",
       "1  51676  Female  61.0             0              0          Yes   \n",
       "2  31112    Male  80.0             0              1          Yes   \n",
       "3  60182  Female  49.0             0              0          Yes   \n",
       "4   1665  Female  79.0             1              0          Yes   \n",
       "\n",
       "       work_type Residence_type  avg_glucose_level   bmi   smoking_status  \\\n",
       "0        Private          Urban             228.69  36.6  formerly smoked   \n",
       "1  Self-employed          Rural             202.21   NaN     never smoked   \n",
       "2        Private          Rural             105.92  32.5     never smoked   \n",
       "3        Private          Urban             171.23  34.4           smokes   \n",
       "4  Self-employed          Rural             174.12  24.0     never smoked   \n",
       "\n",
       "   stroke  \n",
       "0       1  \n",
       "1       1  \n",
       "2       1  \n",
       "3       1  \n",
       "4       1  "
      ]
     },
     "execution_count": 3,
     "metadata": {},
     "output_type": "execute_result"
    }
   ],
   "source": [
    "hcs_df = pd.read_csv('data/healthcare-dataset-stroke-data.csv')\n",
    "hcs_df.head()"
   ]
  },
  {
   "cell_type": "markdown",
   "id": "6a08f969-ecdb-4207-9bd0-f53a8e3ff25c",
   "metadata": {},
   "source": [
    "### Thông tin cơ bản"
   ]
  },
  {
   "cell_type": "markdown",
   "id": "1b35f2a3",
   "metadata": {},
   "source": [
    "#### Dữ liệu gồm có bao nhiêu dòng và bao nhiêu cột?"
   ]
  },
  {
   "cell_type": "code",
   "execution_count": 4,
   "id": "2bf093ed",
   "metadata": {
    "deletable": false,
    "nbgrader": {
     "cell_type": "code",
     "checksum": "0a03dc9216c2e34b0151074d168e31a3",
     "grade": false,
     "grade_id": "cell-bc8810dbc4930a46",
     "locked": false,
     "schema_version": 3,
     "solution": true,
     "task": false
    }
   },
   "outputs": [
    {
     "data": {
      "text/plain": [
       "(5110, 12)"
      ]
     },
     "execution_count": 4,
     "metadata": {},
     "output_type": "execute_result"
    }
   ],
   "source": [
    "num_rows = hcs_df.shape[0]\n",
    "num_cols = hcs_df.shape[1]\n",
    "\n",
    "hcs_df.shape"
   ]
  },
  {
   "cell_type": "markdown",
   "id": "08e1968c",
   "metadata": {},
   "source": [
    "Dữ liệu có 12 cột và 5110 dòng."
   ]
  },
  {
   "cell_type": "markdown",
   "id": "0da578e9",
   "metadata": {},
   "source": [
    "#### Mỗi cột có ý nghĩa gì?"
   ]
  },
  {
   "cell_type": "code",
   "execution_count": 5,
   "id": "d4739fb9",
   "metadata": {},
   "outputs": [
    {
     "name": "stdout",
     "output_type": "stream",
     "text": [
      "1) id:                 unique identifier\n",
      "2) gender:             \"Male\", \"Female\" or \"Other\"\n",
      "3) age:                age of the patient\n",
      "4) hypertension:       0 if the patient doesn't have hypertension, 1 if the patient has hypertension\n",
      "5) heart_disease:      0 if the patient doesn't have any heart diseases, 1 if the patient has a heart disease\n",
      "6) ever_married:       \"No\" or \"Yes\"\n",
      "7) work_type:          \"children\", \"Govt_jov\", \"Never_worked\", \"Private\" or \"Self-employed\"\n",
      "8) Residence_type:     \"Rural\" or \"Urban\"\n",
      "9) avg_glucose_level:  average glucose level in blood\n",
      "10) bmi:               body mass index\n",
      "11) smoking_status:    \"formerly smoked\", \"never smoked\", \"smokes\" or \"Unknown\"*\n",
      "12) stroke.            1 if the patient had a stroke or 0 if not\n",
      "*Note: \"Unknown\" in smoking_status means that the information is unavailable for this patient\n"
     ]
    }
   ],
   "source": [
    "with open('data/description.txt', 'r') as f:\n",
    "    print(f.read())"
   ]
  },
  {
   "cell_type": "markdown",
   "id": "d7dfbb52",
   "metadata": {},
   "source": [
    "- **id**: mã id\n",
    "- **gender**: giới tính (\"Male\", Female\" và \"Other\")\n",
    "- **age**: tuổi tác\n",
    "- **hypertension**: bị huyết áp cao (0 là không, 1 là có)\n",
    "- **heart_disease**: bị bệnh tim (0 là không, 1 là có)\n",
    "- **ever_married**: tình trạng kết hôn (\"No\" và \"Yes\")\n",
    "- **work_type**: loại nghề nghiệp (\"children\", \"Govt_jov\", \"Never_worked\", \"Private\" và \"Self-employed\")\n",
    "- **Residence_type**: loại cư dân (\"Rural\" hoặc \"Urban\")\n",
    "- **avg_glucose_level**: lượng đường trung bình trong máu\n",
    "- **bmi**: chỉ số khối cơ thể\n",
    "- **smoking_status**: tình trạng hút thuốc (\"formerly smoked\", \"never smoked\", \"smokes\" và \"Unknown\")\n",
    "- **stroke**: bị đột quỵ (0 là không, 1 là có)"
   ]
  },
  {
   "cell_type": "markdown",
   "id": "c87606a3",
   "metadata": {},
   "source": [
    "#### Mỗi cột hiện đang có kiểu dữ liệu gì?"
   ]
  },
  {
   "cell_type": "code",
   "execution_count": 6,
   "id": "bcb527bb",
   "metadata": {
    "deletable": false,
    "nbgrader": {
     "cell_type": "code",
     "checksum": "96e1fdd8f9e7fa97311e690dcdea495b",
     "grade": false,
     "grade_id": "cell-e7c33d274bed2b0c",
     "locked": false,
     "schema_version": 3,
     "solution": true,
     "task": false
    }
   },
   "outputs": [
    {
     "data": {
      "text/plain": [
       "id                     int64\n",
       "gender                object\n",
       "age                  float64\n",
       "hypertension           int64\n",
       "heart_disease          int64\n",
       "ever_married          object\n",
       "work_type             object\n",
       "Residence_type        object\n",
       "avg_glucose_level    float64\n",
       "bmi                  float64\n",
       "smoking_status        object\n",
       "stroke                 int64\n",
       "dtype: object"
      ]
     },
     "execution_count": 6,
     "metadata": {},
     "output_type": "execute_result"
    }
   ],
   "source": [
    "hcs_df.dtypes"
   ]
  },
  {
   "cell_type": "markdown",
   "id": "568d3876-2417-43fa-877c-7503695dd780",
   "metadata": {},
   "source": [
    "_______"
   ]
  },
  {
   "cell_type": "markdown",
   "id": "d5ad86b3-1d05-45f3-ab35-7872645920ac",
   "metadata": {},
   "source": [
    "### Tiền xử lý"
   ]
  },
  {
   "cell_type": "markdown",
   "id": "e610e567-0148-4153-9dba-330b6495a612",
   "metadata": {},
   "source": [
    "#### Cột cần loại bỏ\n",
    "Trong tập dữ liệu `healthcare-dataset-stroke-data.csv`, có tất cả 12 cột dữ liệu chứa các thông tin liên quan đến sức khoẻ. Duy chỉ có một cột và là cột đầu tiên `id` chứa thông tin mã số phân biệt của mỗi đối tượng tham gia khảo sát. Cột `id` nhìn chung không có giá trị hữu ích để dùng cho việc đặt câu hỏi sau này (do giá trị của nó không liên quan đến chủ đề sức khoẻ), nên ta sẽ loại bỏ nó."
   ]
  },
  {
   "cell_type": "code",
   "execution_count": 7,
   "id": "dfbe0b91-2584-4fad-bdf8-6b27d496d60d",
   "metadata": {},
   "outputs": [
    {
     "data": {
      "text/html": [
       "<div>\n",
       "<style scoped>\n",
       "    .dataframe tbody tr th:only-of-type {\n",
       "        vertical-align: middle;\n",
       "    }\n",
       "\n",
       "    .dataframe tbody tr th {\n",
       "        vertical-align: top;\n",
       "    }\n",
       "\n",
       "    .dataframe thead th {\n",
       "        text-align: right;\n",
       "    }\n",
       "</style>\n",
       "<table border=\"1\" class=\"dataframe\">\n",
       "  <thead>\n",
       "    <tr style=\"text-align: right;\">\n",
       "      <th></th>\n",
       "      <th>gender</th>\n",
       "      <th>age</th>\n",
       "      <th>hypertension</th>\n",
       "      <th>heart_disease</th>\n",
       "      <th>ever_married</th>\n",
       "      <th>work_type</th>\n",
       "      <th>Residence_type</th>\n",
       "      <th>avg_glucose_level</th>\n",
       "      <th>bmi</th>\n",
       "      <th>smoking_status</th>\n",
       "      <th>stroke</th>\n",
       "    </tr>\n",
       "  </thead>\n",
       "  <tbody>\n",
       "    <tr>\n",
       "      <th>0</th>\n",
       "      <td>Male</td>\n",
       "      <td>67.0</td>\n",
       "      <td>0</td>\n",
       "      <td>1</td>\n",
       "      <td>Yes</td>\n",
       "      <td>Private</td>\n",
       "      <td>Urban</td>\n",
       "      <td>228.69</td>\n",
       "      <td>36.6</td>\n",
       "      <td>formerly smoked</td>\n",
       "      <td>1</td>\n",
       "    </tr>\n",
       "    <tr>\n",
       "      <th>1</th>\n",
       "      <td>Female</td>\n",
       "      <td>61.0</td>\n",
       "      <td>0</td>\n",
       "      <td>0</td>\n",
       "      <td>Yes</td>\n",
       "      <td>Self-employed</td>\n",
       "      <td>Rural</td>\n",
       "      <td>202.21</td>\n",
       "      <td>NaN</td>\n",
       "      <td>never smoked</td>\n",
       "      <td>1</td>\n",
       "    </tr>\n",
       "    <tr>\n",
       "      <th>2</th>\n",
       "      <td>Male</td>\n",
       "      <td>80.0</td>\n",
       "      <td>0</td>\n",
       "      <td>1</td>\n",
       "      <td>Yes</td>\n",
       "      <td>Private</td>\n",
       "      <td>Rural</td>\n",
       "      <td>105.92</td>\n",
       "      <td>32.5</td>\n",
       "      <td>never smoked</td>\n",
       "      <td>1</td>\n",
       "    </tr>\n",
       "    <tr>\n",
       "      <th>3</th>\n",
       "      <td>Female</td>\n",
       "      <td>49.0</td>\n",
       "      <td>0</td>\n",
       "      <td>0</td>\n",
       "      <td>Yes</td>\n",
       "      <td>Private</td>\n",
       "      <td>Urban</td>\n",
       "      <td>171.23</td>\n",
       "      <td>34.4</td>\n",
       "      <td>smokes</td>\n",
       "      <td>1</td>\n",
       "    </tr>\n",
       "    <tr>\n",
       "      <th>4</th>\n",
       "      <td>Female</td>\n",
       "      <td>79.0</td>\n",
       "      <td>1</td>\n",
       "      <td>0</td>\n",
       "      <td>Yes</td>\n",
       "      <td>Self-employed</td>\n",
       "      <td>Rural</td>\n",
       "      <td>174.12</td>\n",
       "      <td>24.0</td>\n",
       "      <td>never smoked</td>\n",
       "      <td>1</td>\n",
       "    </tr>\n",
       "  </tbody>\n",
       "</table>\n",
       "</div>"
      ],
      "text/plain": [
       "   gender   age  hypertension  heart_disease ever_married      work_type  \\\n",
       "0    Male  67.0             0              1          Yes        Private   \n",
       "1  Female  61.0             0              0          Yes  Self-employed   \n",
       "2    Male  80.0             0              1          Yes        Private   \n",
       "3  Female  49.0             0              0          Yes        Private   \n",
       "4  Female  79.0             1              0          Yes  Self-employed   \n",
       "\n",
       "  Residence_type  avg_glucose_level   bmi   smoking_status  stroke  \n",
       "0          Urban             228.69  36.6  formerly smoked       1  \n",
       "1          Rural             202.21   NaN     never smoked       1  \n",
       "2          Rural             105.92  32.5     never smoked       1  \n",
       "3          Urban             171.23  34.4           smokes       1  \n",
       "4          Rural             174.12  24.0     never smoked       1  "
      ]
     },
     "execution_count": 7,
     "metadata": {},
     "output_type": "execute_result"
    }
   ],
   "source": [
    "hcs_df.drop(columns=['id'], inplace=True)\n",
    "hcs_df.head()"
   ]
  },
  {
   "cell_type": "markdown",
   "id": "bb0029d6-0ca3-4567-a37b-392073406b5b",
   "metadata": {},
   "source": [
    "#### Cột bất thường\n",
    "Dựa theo thông tin về kiểu dữ liệu của từng cột, đối chiếu với dữ liệu trên bảng, ta thấy dữ liệu từng cột không có gì khác thường.\n"
   ]
  },
  {
   "cell_type": "code",
   "execution_count": 13,
   "id": "20833969-344a-4dcc-b3a8-c56a5c1739ef",
   "metadata": {},
   "outputs": [
    {
     "data": {
      "text/plain": [
       "gender                object\n",
       "age                  float64\n",
       "hypertension           int64\n",
       "heart_disease          int64\n",
       "ever_married          object\n",
       "work_type             object\n",
       "Residence_type        object\n",
       "avg_glucose_level    float64\n",
       "bmi                  float64\n",
       "smoking_status        object\n",
       "stroke                 int64\n",
       "dtype: object"
      ]
     },
     "execution_count": 13,
     "metadata": {},
     "output_type": "execute_result"
    }
   ],
   "source": [
    "hcs_df.dtypes"
   ]
  },
  {
   "cell_type": "code",
   "execution_count": 11,
   "id": "b59901e4-564d-4328-a533-5ec08c1efa20",
   "metadata": {},
   "outputs": [
    {
     "data": {
      "text/html": [
       "<div>\n",
       "<style scoped>\n",
       "    .dataframe tbody tr th:only-of-type {\n",
       "        vertical-align: middle;\n",
       "    }\n",
       "\n",
       "    .dataframe tbody tr th {\n",
       "        vertical-align: top;\n",
       "    }\n",
       "\n",
       "    .dataframe thead th {\n",
       "        text-align: right;\n",
       "    }\n",
       "</style>\n",
       "<table border=\"1\" class=\"dataframe\">\n",
       "  <thead>\n",
       "    <tr style=\"text-align: right;\">\n",
       "      <th></th>\n",
       "      <th>gender</th>\n",
       "      <th>age</th>\n",
       "      <th>hypertension</th>\n",
       "      <th>heart_disease</th>\n",
       "      <th>ever_married</th>\n",
       "      <th>work_type</th>\n",
       "      <th>Residence_type</th>\n",
       "      <th>avg_glucose_level</th>\n",
       "      <th>bmi</th>\n",
       "      <th>smoking_status</th>\n",
       "      <th>stroke</th>\n",
       "    </tr>\n",
       "  </thead>\n",
       "  <tbody>\n",
       "    <tr>\n",
       "      <th>0</th>\n",
       "      <td>Male</td>\n",
       "      <td>67.0</td>\n",
       "      <td>0</td>\n",
       "      <td>1</td>\n",
       "      <td>Yes</td>\n",
       "      <td>Private</td>\n",
       "      <td>Urban</td>\n",
       "      <td>228.69</td>\n",
       "      <td>36.6</td>\n",
       "      <td>formerly smoked</td>\n",
       "      <td>1</td>\n",
       "    </tr>\n",
       "    <tr>\n",
       "      <th>1</th>\n",
       "      <td>Female</td>\n",
       "      <td>61.0</td>\n",
       "      <td>0</td>\n",
       "      <td>0</td>\n",
       "      <td>Yes</td>\n",
       "      <td>Self-employed</td>\n",
       "      <td>Rural</td>\n",
       "      <td>202.21</td>\n",
       "      <td>NaN</td>\n",
       "      <td>never smoked</td>\n",
       "      <td>1</td>\n",
       "    </tr>\n",
       "    <tr>\n",
       "      <th>2</th>\n",
       "      <td>Male</td>\n",
       "      <td>80.0</td>\n",
       "      <td>0</td>\n",
       "      <td>1</td>\n",
       "      <td>Yes</td>\n",
       "      <td>Private</td>\n",
       "      <td>Rural</td>\n",
       "      <td>105.92</td>\n",
       "      <td>32.5</td>\n",
       "      <td>never smoked</td>\n",
       "      <td>1</td>\n",
       "    </tr>\n",
       "    <tr>\n",
       "      <th>3</th>\n",
       "      <td>Female</td>\n",
       "      <td>49.0</td>\n",
       "      <td>0</td>\n",
       "      <td>0</td>\n",
       "      <td>Yes</td>\n",
       "      <td>Private</td>\n",
       "      <td>Urban</td>\n",
       "      <td>171.23</td>\n",
       "      <td>34.4</td>\n",
       "      <td>smokes</td>\n",
       "      <td>1</td>\n",
       "    </tr>\n",
       "    <tr>\n",
       "      <th>4</th>\n",
       "      <td>Female</td>\n",
       "      <td>79.0</td>\n",
       "      <td>1</td>\n",
       "      <td>0</td>\n",
       "      <td>Yes</td>\n",
       "      <td>Self-employed</td>\n",
       "      <td>Rural</td>\n",
       "      <td>174.12</td>\n",
       "      <td>24.0</td>\n",
       "      <td>never smoked</td>\n",
       "      <td>1</td>\n",
       "    </tr>\n",
       "  </tbody>\n",
       "</table>\n",
       "</div>"
      ],
      "text/plain": [
       "   gender   age  hypertension  heart_disease ever_married      work_type  \\\n",
       "0    Male  67.0             0              1          Yes        Private   \n",
       "1  Female  61.0             0              0          Yes  Self-employed   \n",
       "2    Male  80.0             0              1          Yes        Private   \n",
       "3  Female  49.0             0              0          Yes        Private   \n",
       "4  Female  79.0             1              0          Yes  Self-employed   \n",
       "\n",
       "  Residence_type  avg_glucose_level   bmi   smoking_status  stroke  \n",
       "0          Urban             228.69  36.6  formerly smoked       1  \n",
       "1          Rural             202.21   NaN     never smoked       1  \n",
       "2          Rural             105.92  32.5     never smoked       1  \n",
       "3          Urban             171.23  34.4           smokes       1  \n",
       "4          Rural             174.12  24.0     never smoked       1  "
      ]
     },
     "execution_count": 11,
     "metadata": {},
     "output_type": "execute_result"
    }
   ],
   "source": [
    "hcs_df.head()"
   ]
  },
  {
   "cell_type": "markdown",
   "id": "3f1ccc27-9ee7-4ea7-825f-3923aa928846",
   "metadata": {},
   "source": [
    "#### Dòng bất thường\n",
    "Mỗi dòng liệt kê các thông tin sức khoẻ của người tham gia khảo sát, ứng với từng cột. Các dòng dữ liệu nhìn chung không có gì bất thường, trừ các dòng bị thiếu hụt dữ liệu (ở cột `bmi`). Có 201 ô dữ liệu thiếu ở cột `bmi`, tương ứng 201 dòng bị thiếu dữ liệu."
   ]
  },
  {
   "cell_type": "code",
   "execution_count": 14,
   "id": "98fa9572-329a-48ec-87c4-f5c6bb3d551a",
   "metadata": {},
   "outputs": [
    {
     "data": {
      "text/plain": [
       "gender                 0\n",
       "age                    0\n",
       "hypertension           0\n",
       "heart_disease          0\n",
       "ever_married           0\n",
       "work_type              0\n",
       "Residence_type         0\n",
       "avg_glucose_level      0\n",
       "bmi                  201\n",
       "smoking_status         0\n",
       "stroke                 0\n",
       "dtype: int64"
      ]
     },
     "execution_count": 14,
     "metadata": {},
     "output_type": "execute_result"
    }
   ],
   "source": [
    "hcs_df.isnull().sum()"
   ]
  },
  {
   "cell_type": "code",
   "execution_count": 25,
   "id": "172c643a-5fbb-4296-a0e2-bed5b9e4d71c",
   "metadata": {},
   "outputs": [],
   "source": [
    "hcs_df['bmi'] = hcs_df['bmi'].fillna(hcs_df['bmi'].median())"
   ]
  },
  {
   "cell_type": "code",
   "execution_count": 24,
   "id": "06f33851-3f51-4d50-9110-e581505aca6c",
   "metadata": {},
   "outputs": [
    {
     "data": {
      "text/html": [
       "<div>\n",
       "<style scoped>\n",
       "    .dataframe tbody tr th:only-of-type {\n",
       "        vertical-align: middle;\n",
       "    }\n",
       "\n",
       "    .dataframe tbody tr th {\n",
       "        vertical-align: top;\n",
       "    }\n",
       "\n",
       "    .dataframe thead th {\n",
       "        text-align: right;\n",
       "    }\n",
       "</style>\n",
       "<table border=\"1\" class=\"dataframe\">\n",
       "  <thead>\n",
       "    <tr style=\"text-align: right;\">\n",
       "      <th></th>\n",
       "      <th>gender</th>\n",
       "      <th>age</th>\n",
       "      <th>hypertension</th>\n",
       "      <th>heart_disease</th>\n",
       "      <th>ever_married</th>\n",
       "      <th>work_type</th>\n",
       "      <th>Residence_type</th>\n",
       "      <th>avg_glucose_level</th>\n",
       "      <th>bmi</th>\n",
       "      <th>smoking_status</th>\n",
       "      <th>stroke</th>\n",
       "    </tr>\n",
       "  </thead>\n",
       "  <tbody>\n",
       "    <tr>\n",
       "      <th>1</th>\n",
       "      <td>Female</td>\n",
       "      <td>61.0</td>\n",
       "      <td>0</td>\n",
       "      <td>0</td>\n",
       "      <td>Yes</td>\n",
       "      <td>Self-employed</td>\n",
       "      <td>Rural</td>\n",
       "      <td>202.21</td>\n",
       "      <td>NaN</td>\n",
       "      <td>never smoked</td>\n",
       "      <td>1</td>\n",
       "    </tr>\n",
       "    <tr>\n",
       "      <th>8</th>\n",
       "      <td>Female</td>\n",
       "      <td>59.0</td>\n",
       "      <td>0</td>\n",
       "      <td>0</td>\n",
       "      <td>Yes</td>\n",
       "      <td>Private</td>\n",
       "      <td>Rural</td>\n",
       "      <td>76.15</td>\n",
       "      <td>NaN</td>\n",
       "      <td>Unknown</td>\n",
       "      <td>1</td>\n",
       "    </tr>\n",
       "    <tr>\n",
       "      <th>13</th>\n",
       "      <td>Male</td>\n",
       "      <td>78.0</td>\n",
       "      <td>0</td>\n",
       "      <td>1</td>\n",
       "      <td>Yes</td>\n",
       "      <td>Private</td>\n",
       "      <td>Urban</td>\n",
       "      <td>219.84</td>\n",
       "      <td>NaN</td>\n",
       "      <td>Unknown</td>\n",
       "      <td>1</td>\n",
       "    </tr>\n",
       "    <tr>\n",
       "      <th>19</th>\n",
       "      <td>Male</td>\n",
       "      <td>57.0</td>\n",
       "      <td>0</td>\n",
       "      <td>1</td>\n",
       "      <td>No</td>\n",
       "      <td>Govt_job</td>\n",
       "      <td>Urban</td>\n",
       "      <td>217.08</td>\n",
       "      <td>NaN</td>\n",
       "      <td>Unknown</td>\n",
       "      <td>1</td>\n",
       "    </tr>\n",
       "    <tr>\n",
       "      <th>27</th>\n",
       "      <td>Male</td>\n",
       "      <td>58.0</td>\n",
       "      <td>0</td>\n",
       "      <td>0</td>\n",
       "      <td>Yes</td>\n",
       "      <td>Private</td>\n",
       "      <td>Rural</td>\n",
       "      <td>189.84</td>\n",
       "      <td>NaN</td>\n",
       "      <td>Unknown</td>\n",
       "      <td>1</td>\n",
       "    </tr>\n",
       "    <tr>\n",
       "      <th>...</th>\n",
       "      <td>...</td>\n",
       "      <td>...</td>\n",
       "      <td>...</td>\n",
       "      <td>...</td>\n",
       "      <td>...</td>\n",
       "      <td>...</td>\n",
       "      <td>...</td>\n",
       "      <td>...</td>\n",
       "      <td>...</td>\n",
       "      <td>...</td>\n",
       "      <td>...</td>\n",
       "    </tr>\n",
       "    <tr>\n",
       "      <th>5039</th>\n",
       "      <td>Male</td>\n",
       "      <td>41.0</td>\n",
       "      <td>0</td>\n",
       "      <td>0</td>\n",
       "      <td>No</td>\n",
       "      <td>Private</td>\n",
       "      <td>Rural</td>\n",
       "      <td>70.15</td>\n",
       "      <td>NaN</td>\n",
       "      <td>formerly smoked</td>\n",
       "      <td>0</td>\n",
       "    </tr>\n",
       "    <tr>\n",
       "      <th>5048</th>\n",
       "      <td>Male</td>\n",
       "      <td>40.0</td>\n",
       "      <td>0</td>\n",
       "      <td>0</td>\n",
       "      <td>Yes</td>\n",
       "      <td>Private</td>\n",
       "      <td>Urban</td>\n",
       "      <td>191.15</td>\n",
       "      <td>NaN</td>\n",
       "      <td>smokes</td>\n",
       "      <td>0</td>\n",
       "    </tr>\n",
       "    <tr>\n",
       "      <th>5093</th>\n",
       "      <td>Female</td>\n",
       "      <td>45.0</td>\n",
       "      <td>1</td>\n",
       "      <td>0</td>\n",
       "      <td>Yes</td>\n",
       "      <td>Govt_job</td>\n",
       "      <td>Rural</td>\n",
       "      <td>95.02</td>\n",
       "      <td>NaN</td>\n",
       "      <td>smokes</td>\n",
       "      <td>0</td>\n",
       "    </tr>\n",
       "    <tr>\n",
       "      <th>5099</th>\n",
       "      <td>Male</td>\n",
       "      <td>40.0</td>\n",
       "      <td>0</td>\n",
       "      <td>0</td>\n",
       "      <td>Yes</td>\n",
       "      <td>Private</td>\n",
       "      <td>Rural</td>\n",
       "      <td>83.94</td>\n",
       "      <td>NaN</td>\n",
       "      <td>smokes</td>\n",
       "      <td>0</td>\n",
       "    </tr>\n",
       "    <tr>\n",
       "      <th>5105</th>\n",
       "      <td>Female</td>\n",
       "      <td>80.0</td>\n",
       "      <td>1</td>\n",
       "      <td>0</td>\n",
       "      <td>Yes</td>\n",
       "      <td>Private</td>\n",
       "      <td>Urban</td>\n",
       "      <td>83.75</td>\n",
       "      <td>NaN</td>\n",
       "      <td>never smoked</td>\n",
       "      <td>0</td>\n",
       "    </tr>\n",
       "  </tbody>\n",
       "</table>\n",
       "<p>201 rows × 11 columns</p>\n",
       "</div>"
      ],
      "text/plain": [
       "      gender   age  hypertension  heart_disease ever_married      work_type  \\\n",
       "1     Female  61.0             0              0          Yes  Self-employed   \n",
       "8     Female  59.0             0              0          Yes        Private   \n",
       "13      Male  78.0             0              1          Yes        Private   \n",
       "19      Male  57.0             0              1           No       Govt_job   \n",
       "27      Male  58.0             0              0          Yes        Private   \n",
       "...      ...   ...           ...            ...          ...            ...   \n",
       "5039    Male  41.0             0              0           No        Private   \n",
       "5048    Male  40.0             0              0          Yes        Private   \n",
       "5093  Female  45.0             1              0          Yes       Govt_job   \n",
       "5099    Male  40.0             0              0          Yes        Private   \n",
       "5105  Female  80.0             1              0          Yes        Private   \n",
       "\n",
       "     Residence_type  avg_glucose_level  bmi   smoking_status  stroke  \n",
       "1             Rural             202.21  NaN     never smoked       1  \n",
       "8             Rural              76.15  NaN          Unknown       1  \n",
       "13            Urban             219.84  NaN          Unknown       1  \n",
       "19            Urban             217.08  NaN          Unknown       1  \n",
       "27            Rural             189.84  NaN          Unknown       1  \n",
       "...             ...                ...  ...              ...     ...  \n",
       "5039          Rural              70.15  NaN  formerly smoked       0  \n",
       "5048          Urban             191.15  NaN           smokes       0  \n",
       "5093          Rural              95.02  NaN           smokes       0  \n",
       "5099          Rural              83.94  NaN           smokes       0  \n",
       "5105          Urban              83.75  NaN     never smoked       0  \n",
       "\n",
       "[201 rows x 11 columns]"
      ]
     },
     "execution_count": 24,
     "metadata": {},
     "output_type": "execute_result"
    }
   ],
   "source": [
    "hcs_df[hcs_df['bmi'].isnull()]"
   ]
  },
  {
   "cell_type": "markdown",
   "id": "02156470-f20b-4d0a-ad4d-78022089357f",
   "metadata": {},
   "source": [
    "#### Dòng bị lặp\n",
    "Dữ liệu từng dòng của dataset `healthcare-dataset-stroke-data.csv` có bị trùng lặp nhau không?"
   ]
  },
  {
   "cell_type": "code",
   "execution_count": 22,
   "id": "43584b8a-8481-4ca0-9d8c-a5d7986aa1c0",
   "metadata": {},
   "outputs": [
    {
     "data": {
      "text/html": [
       "<div>\n",
       "<style scoped>\n",
       "    .dataframe tbody tr th:only-of-type {\n",
       "        vertical-align: middle;\n",
       "    }\n",
       "\n",
       "    .dataframe tbody tr th {\n",
       "        vertical-align: top;\n",
       "    }\n",
       "\n",
       "    .dataframe thead th {\n",
       "        text-align: right;\n",
       "    }\n",
       "</style>\n",
       "<table border=\"1\" class=\"dataframe\">\n",
       "  <thead>\n",
       "    <tr style=\"text-align: right;\">\n",
       "      <th></th>\n",
       "      <th>Dataset</th>\n",
       "      <th>Duplicate count</th>\n",
       "    </tr>\n",
       "  </thead>\n",
       "  <tbody>\n",
       "    <tr>\n",
       "      <th>0</th>\n",
       "      <td>Healthcare</td>\n",
       "      <td>0</td>\n",
       "    </tr>\n",
       "  </tbody>\n",
       "</table>\n",
       "</div>"
      ],
      "text/plain": [
       "      Dataset  Duplicate count\n",
       "0  Healthcare                0"
      ]
     },
     "execution_count": 22,
     "metadata": {},
     "output_type": "execute_result"
    }
   ],
   "source": [
    "hcs_total_dupRows = np.sum(hcs_df.duplicated())\n",
    "\n",
    "pd.DataFrame({'Dataset': ['Healthcare'],\n",
    "             'Duplicate count': [hcs_total_dupRows]})\n"
   ]
  },
  {
   "cell_type": "code",
   "execution_count": null,
   "id": "f44a78c0-6967-41bf-ac43-f0c7fa23e2ba",
   "metadata": {},
   "outputs": [],
   "source": []
  },
  {
   "cell_type": "code",
   "execution_count": null,
   "id": "bbb8f941-8ebc-4329-b5dd-3430b57dadd6",
   "metadata": {},
   "outputs": [],
   "source": [
    "    - [Kiểu dữ liệu từng cột](#Mỗi-cột-hiện-đang-có-kiểu-dữ-liệu-gì?)\n",
    "    - [Nhận xét](#Nhận-xét)\n",
    "        - [Cột cần loại bỏ](#Cột-cần-loại-bỏ)\n",
    "        - [Cột bất thường](#Cột-bất-thường)\n",
    "        - [Dòng bất thường](#Dòng-bất-thường)\n",
    "        - [Dòng bị lặp](#Dòng-bị-lặp)\n",
    "- #### [Khám phá dữ liệu (tiếp theo)](#Khám-phá-dữ-liệu-(tiếp theo))\n",
    "    - [Phân bố dữ liệu kiểu numerical](#Phân-bố-dữ-liệu-kiểu-numerical)\n",
    "    - [Phân bố dữ liệu kiểu categorical](#Phân-bố-dữ-liệu-kiểu-categorical)\n",
    "- #### [Đặt câu hỏi](#Đặt-câu-hỏi)"
   ]
  },
  {
   "cell_type": "markdown",
   "id": "201da5de",
   "metadata": {},
   "source": [
    "### Với mỗi cột có kiểu dữ liệu dạng numeric, các giá trị được phân bố như thế nào?"
   ]
  },
  {
   "cell_type": "markdown",
   "id": "908f70f6",
   "metadata": {},
   "source": [
    "Hiện có 6 cột thuộc dạng numeric: \"age\", \"hypertension\", \"heart_disease\", \"avg_glucose_level\", \"bmi\", \"stroke\". Nhưng 3 cột \"hypertension\", \"heart_disease\", \"stroke\" do mã được đánh dưới dạng số nên 3 cột này sẽ là dạng categorical. Vì vậy, chỉ có 3 cột numeric là \"age\", \"avg_glucose_level\", \"bmi\". "
   ]
  },
  {
   "cell_type": "code",
   "execution_count": 27,
   "id": "1b54fffd",
   "metadata": {},
   "outputs": [],
   "source": [
    "def missing_ratio(col):\n",
    "    return col.isna().mean() * 100"
   ]
  },
  {
   "cell_type": "code",
   "execution_count": 28,
   "id": "0a564b59",
   "metadata": {
    "nbgrader": {
     "cell_type": "code",
     "checksum": "95f164d4ff7a5ee9869dbcc8e0c31d32",
     "grade": false,
     "grade_id": "cell-4c64c2ce1eea9f1d",
     "locked": false,
     "schema_version": 3,
     "solution": true,
     "task": false
    }
   },
   "outputs": [],
   "source": [
    "num_col_profiles_df = hcs_df[[\"age\", \"avg_glucose_level\", \"bmi\"]]\n",
    "num_col_profiles_df = num_col_profiles_df.agg([missing_ratio, pd.Series.min, pd.Series.max])"
   ]
  },
  {
   "cell_type": "markdown",
   "id": "888db875",
   "metadata": {},
   "source": [
    "### Với mỗi cột có kiểu dữ liệu dạng categorical, các giá trị được phân bố như thế nào?"
   ]
  },
  {
   "cell_type": "markdown",
   "id": "b0fac7fe",
   "metadata": {},
   "source": [
    "Ban đầu sẽ có 5 cột thuộc dạng categorical: \"gender\", \"ever_married\", \"work_type\", \"Residence_type\", \"smoking_status\".\n",
    "Bởi vì lý do ở trên nên sẽ có thêm 3 cột: \"hypertension\", \"heart_disease\", \"stroke\". Vì vậy, tổng cộng có 8 cột thuộc dạng categorical: \"id\", \"gender\", \"hypertension\", \"heart_disease\",\"work_type\", \"Residence_type\", \"smoking_status\", \"stroke\"."
   ]
  },
  {
   "cell_type": "code",
   "execution_count": 29,
   "id": "682193ad",
   "metadata": {},
   "outputs": [],
   "source": [
    "def unique_non_null(s):\n",
    "    return s.dropna().unique()"
   ]
  },
  {
   "cell_type": "code",
   "execution_count": 30,
   "id": "18947752",
   "metadata": {
    "nbgrader": {
     "cell_type": "code",
     "checksum": "95f164d4ff7a5ee9869dbcc8e0c31d32",
     "grade": false,
     "grade_id": "cell-4c64c2ce1eea9f1d",
     "locked": false,
     "schema_version": 3,
     "solution": true,
     "task": false
    }
   },
   "outputs": [],
   "source": [
    "cate_col_profiles_df = hcs_df[[\"gender\", \"hypertension\", \"heart_disease\",\"work_type\", \n",
    "                               \"Residence_type\", \"smoking_status\", \"stroke\"]]\n",
    "cate_col_profiles_df = cate_col_profiles_df.agg([missing_ratio, unique_non_null, pd.Series.nunique])\n",
    "cate_col_profiles_df = cate_col_profiles_df.rename(index={'unique_non_null': 'diff_vals', 'nunique': 'num_diff_vals'})"
   ]
  },
  {
   "cell_type": "code",
   "execution_count": null,
   "id": "a70c72dd",
   "metadata": {},
   "outputs": [],
   "source": []
  }
 ],
 "metadata": {
  "kernelspec": {
   "display_name": "Python 3",
   "language": "python",
   "name": "python3"
  },
  "language_info": {
   "codemirror_mode": {
    "name": "ipython",
    "version": 3
   },
   "file_extension": ".py",
   "mimetype": "text/x-python",
   "name": "python",
   "nbconvert_exporter": "python",
   "pygments_lexer": "ipython3",
   "version": "3.8.8"
  },
  "toc": {
   "base_numbering": 1,
   "nav_menu": {},
   "number_sections": false,
   "sideBar": true,
   "skip_h1_title": false,
   "title_cell": "Table of Contents",
   "title_sidebar": "Contents",
   "toc_cell": true,
   "toc_position": {},
   "toc_section_display": true,
   "toc_window_display": false
  }
 },
 "nbformat": 4,
 "nbformat_minor": 5
}
