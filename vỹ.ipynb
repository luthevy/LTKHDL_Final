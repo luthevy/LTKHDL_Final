{
 "cells": [
  {
   "cell_type": "markdown",
   "id": "7e96dd60",
   "metadata": {},
   "source": [
    "# Lập trình cho Khoa học dữ liệu: Đồ án cuối kì\n",
    "## Nhóm 8: Thông tin sinh viên\n",
    "- #### Trello: https://trello.com/b/Tb6Sjg8O\n",
    "- #### Link thùng chứa: https://github.com/luthevy/LTKHDL_Final\n",
    "\n",
    "| MSSV     | Họ tên            | GitHub                         |    Email         \n",
    "|--------------|---------------------|------------------------------ |--------------------------------------------------|\n",
    "| 19127009 | Lữ Thế Vỹ | [luthevy](https://github.com/luthevy) | 19127009@student.hcmus.edu.vn\n",
    "| 19127416 | Mạc Văn Hưng     | [machung2001](https://github.com/machung2001)        |19127416@student.hcmus.edu.vn\n"
   ]
  },
  {
   "cell_type": "markdown",
   "id": "250a81b6-82c1-4530-bf67-b54a5718b0e1",
   "metadata": {},
   "source": [
    "# Mục lục\n",
    "- #### [Lời nói đầu](#Lời-nói-đầu)\n",
    "    - [Giới thiệu](#Giới-thiệu)\n",
    "    - [Nguồn tài liệu](#Nguồn-tài-liệu)\n",
    "- #### [Bước chuẩn bị](#Bước-chuẩn-bị)\n",
    "    - [Nhận diện môi trường code](#Môi-trường-code)\n",
    "    - [Import thư viện](#Import-các-thư-viện-cần-thiết)\n",
    "- #### [Khám phá dữ liệu](#Thu-thập-dữ-liệu)\n",
    "    - [Đọc dữ liệu](#Đọc-dữ-liệu-từ-file-csv-vào-dataframe)\n",
    "    - [Thông tin cơ bản](#Thông-tin-cơ-bản)\n",
    "        - [Số dòng, số cột của tập dữ liệu](#Dữ-liệu-gồm-có-bao-nhiêu-dòng-và-bao-nhiêu-cột?)\n",
    "        - [Ý nghĩa từng cột](#Mỗi-cột-có-ý-nghĩa-gì?)\n",
    "        - [Kiểu dữ liệu từng cột](#Mỗi-cột-hiện-đang-có-kiểu-dữ-liệu-gì?)\n",
    "    - [Tiền xử lý](#Tiền-xử-lý)\n",
    "        - [Cột cần loại bỏ](#Cột-cần-loại-bỏ)\n",
    "        - [Cột bất thường](#Cột-bất-thường)\n",
    "        - [Dòng bất thường](#Dòng-bất-thường)\n",
    "        - [Dòng bị lặp](#Dòng-bị-lặp)\n",
    "- #### [Phân bố dữ liệu](#Phân-bố-dữ-liệu)\n",
    "    - [Kiểu numerical](#Kiểu-numerical)\n",
    "    - [Kiểu categorical](#Kiểu-categorical)\n",
    "    - [Điền missing values](#Điền-missing-values)\n",
    "- #### [Đặt câu hỏi](#Đặt-câu-hỏi)\n",
    "    - [Câu 1: Trong những người trên 50 tuổi sống có tiền sử đột quỵ, tỉ lệ người có mắc bệnh về tim mạch chiếm bao nhiêu phần trăm?]()\n",
    "    - [Câu 2: Đối với những người có lối sống không lành mạnh (hút thuốc, ăn thức ăn nhiều dầu mỡ, uống nước ngọt) thì chắc chắn họ luôn có khả năng bị đột quỵ. Tuy nhiên, ta tự hỏi: liệu có trường hợp nào sống lành mạnh mà vẫn có khả năng bị đột quỵ không? Và các trường hợp này chiếm tỉ lệ là bao nhiêu?]()\n",
    "    - [Câu 3: ]()"
   ]
  },
  {
   "cell_type": "markdown",
   "id": "5633a403-f63c-4d4c-b778-7e8dc731f80e",
   "metadata": {},
   "source": [
    "_____________________________________________"
   ]
  },
  {
   "cell_type": "markdown",
   "id": "acd05c8d-d903-478a-a0f1-8e72240e7924",
   "metadata": {},
   "source": [
    "## Lời nói đầu"
   ]
  },
  {
   "cell_type": "markdown",
   "id": "443117bf-31c1-4c35-97a4-06e170b873e8",
   "metadata": {},
   "source": [
    "### Giới thiệu"
   ]
  },
  {
   "cell_type": "markdown",
   "id": "a9391abb-1a3c-49c9-aa4e-9b6a5bb7a176",
   "metadata": {},
   "source": [
    "Theo Tổ chức Sức khoẻ Thế giới (WHO), đột quỵ là nguyên nhân đứng thứ hai có thể dẫn đến cái chết bất ngờ và tình trạng này xảy ra trên toàn cầu. Tập dữ liệu này được sử dụng để dự đoán khả năng mắc bệnh đột quỵ dựa trên những số liệu sức khoẻ đầu vào như giới tính, tuổi, các loại bệnh khác, và tình trạng hút thuốc. Mỗi dòng trong tập dữ liệu cung cấp thông tin sức khoẻ liên quan của các bệnh nhân. \n"
   ]
  },
  {
   "cell_type": "markdown",
   "id": "3d4c5575-7e1f-4348-9ec3-42d8e4c2f8f5",
   "metadata": {},
   "source": [
    "### Nguồn tài liệu"
   ]
  },
  {
   "cell_type": "markdown",
   "id": "c7c51033-40af-4874-affd-b6399c1e55f9",
   "metadata": {},
   "source": [
    "https://www.kaggle.com/fedesoriano/stroke-prediction-dataset\n"
   ]
  },
  {
   "cell_type": "markdown",
   "id": "60a5cdb5-31d6-4fdb-92a2-edec51542c27",
   "metadata": {},
   "source": [
    "______"
   ]
  },
  {
   "cell_type": "markdown",
   "id": "dd16dc65-e0f8-4b17-9e86-e0a897ee9643",
   "metadata": {},
   "source": [
    "## Bước chuẩn bị"
   ]
  },
  {
   "cell_type": "markdown",
   "id": "108adbdd-79e2-4fc3-b5ad-38c041272165",
   "metadata": {},
   "source": [
    "___"
   ]
  },
  {
   "cell_type": "markdown",
   "id": "5e79806d",
   "metadata": {},
   "source": [
    "### Môi trường code"
   ]
  },
  {
   "cell_type": "code",
   "execution_count": 1,
   "id": "4ce0039b",
   "metadata": {
    "scrolled": true
   },
   "outputs": [
    {
     "data": {
      "text/plain": [
       "'F:\\\\Anaconda\\\\python.exe'"
      ]
     },
     "execution_count": 1,
     "metadata": {},
     "output_type": "execute_result"
    }
   ],
   "source": [
    "import sys\n",
    "sys.executable"
   ]
  },
  {
   "cell_type": "markdown",
   "id": "d97a9cde",
   "metadata": {},
   "source": [
    "### Import các thư viện cần thiết"
   ]
  },
  {
   "cell_type": "code",
   "execution_count": 2,
   "id": "f0cb61f2",
   "metadata": {},
   "outputs": [],
   "source": [
    "import numpy as np\n",
    "import pandas as pd\n",
    "\n",
    "# Thư viện đồ hoạ\n",
    "import matplotlib.pyplot as plt\n",
    "import plotly.graph_objects as px\n",
    "import plotly.express as pxe\n",
    "import seaborn as sn\n"
   ]
  },
  {
   "cell_type": "markdown",
   "id": "fee81e52",
   "metadata": {},
   "source": [
    "---"
   ]
  },
  {
   "cell_type": "markdown",
   "id": "84f0e610",
   "metadata": {},
   "source": [
    "## Khám phá dữ liệu\n",
    "___"
   ]
  },
  {
   "cell_type": "markdown",
   "id": "e23af5e3",
   "metadata": {},
   "source": [
    "### Đọc dữ liệu từ file csv vào dataframe"
   ]
  },
  {
   "cell_type": "markdown",
   "id": "8f878289-9196-4d05-ac26-98c984d6695d",
   "metadata": {},
   "source": [
    "- Đọc 5 dòng đầu tiên"
   ]
  },
  {
   "cell_type": "code",
   "execution_count": 3,
   "id": "b8571b8b",
   "metadata": {},
   "outputs": [
    {
     "data": {
      "text/html": [
       "<div>\n",
       "<style scoped>\n",
       "    .dataframe tbody tr th:only-of-type {\n",
       "        vertical-align: middle;\n",
       "    }\n",
       "\n",
       "    .dataframe tbody tr th {\n",
       "        vertical-align: top;\n",
       "    }\n",
       "\n",
       "    .dataframe thead th {\n",
       "        text-align: right;\n",
       "    }\n",
       "</style>\n",
       "<table border=\"1\" class=\"dataframe\">\n",
       "  <thead>\n",
       "    <tr style=\"text-align: right;\">\n",
       "      <th></th>\n",
       "      <th>id</th>\n",
       "      <th>gender</th>\n",
       "      <th>age</th>\n",
       "      <th>hypertension</th>\n",
       "      <th>heart_disease</th>\n",
       "      <th>ever_married</th>\n",
       "      <th>work_type</th>\n",
       "      <th>Residence_type</th>\n",
       "      <th>avg_glucose_level</th>\n",
       "      <th>bmi</th>\n",
       "      <th>smoking_status</th>\n",
       "      <th>stroke</th>\n",
       "    </tr>\n",
       "  </thead>\n",
       "  <tbody>\n",
       "    <tr>\n",
       "      <th>0</th>\n",
       "      <td>9046</td>\n",
       "      <td>Male</td>\n",
       "      <td>67.0</td>\n",
       "      <td>0</td>\n",
       "      <td>1</td>\n",
       "      <td>Yes</td>\n",
       "      <td>Private</td>\n",
       "      <td>Urban</td>\n",
       "      <td>228.69</td>\n",
       "      <td>36.6</td>\n",
       "      <td>formerly smoked</td>\n",
       "      <td>1</td>\n",
       "    </tr>\n",
       "    <tr>\n",
       "      <th>1</th>\n",
       "      <td>51676</td>\n",
       "      <td>Female</td>\n",
       "      <td>61.0</td>\n",
       "      <td>0</td>\n",
       "      <td>0</td>\n",
       "      <td>Yes</td>\n",
       "      <td>Self-employed</td>\n",
       "      <td>Rural</td>\n",
       "      <td>202.21</td>\n",
       "      <td>NaN</td>\n",
       "      <td>never smoked</td>\n",
       "      <td>1</td>\n",
       "    </tr>\n",
       "    <tr>\n",
       "      <th>2</th>\n",
       "      <td>31112</td>\n",
       "      <td>Male</td>\n",
       "      <td>80.0</td>\n",
       "      <td>0</td>\n",
       "      <td>1</td>\n",
       "      <td>Yes</td>\n",
       "      <td>Private</td>\n",
       "      <td>Rural</td>\n",
       "      <td>105.92</td>\n",
       "      <td>32.5</td>\n",
       "      <td>never smoked</td>\n",
       "      <td>1</td>\n",
       "    </tr>\n",
       "    <tr>\n",
       "      <th>3</th>\n",
       "      <td>60182</td>\n",
       "      <td>Female</td>\n",
       "      <td>49.0</td>\n",
       "      <td>0</td>\n",
       "      <td>0</td>\n",
       "      <td>Yes</td>\n",
       "      <td>Private</td>\n",
       "      <td>Urban</td>\n",
       "      <td>171.23</td>\n",
       "      <td>34.4</td>\n",
       "      <td>smokes</td>\n",
       "      <td>1</td>\n",
       "    </tr>\n",
       "    <tr>\n",
       "      <th>4</th>\n",
       "      <td>1665</td>\n",
       "      <td>Female</td>\n",
       "      <td>79.0</td>\n",
       "      <td>1</td>\n",
       "      <td>0</td>\n",
       "      <td>Yes</td>\n",
       "      <td>Self-employed</td>\n",
       "      <td>Rural</td>\n",
       "      <td>174.12</td>\n",
       "      <td>24.0</td>\n",
       "      <td>never smoked</td>\n",
       "      <td>1</td>\n",
       "    </tr>\n",
       "  </tbody>\n",
       "</table>\n",
       "</div>"
      ],
      "text/plain": [
       "      id  gender   age  hypertension  heart_disease ever_married  \\\n",
       "0   9046    Male  67.0             0              1          Yes   \n",
       "1  51676  Female  61.0             0              0          Yes   \n",
       "2  31112    Male  80.0             0              1          Yes   \n",
       "3  60182  Female  49.0             0              0          Yes   \n",
       "4   1665  Female  79.0             1              0          Yes   \n",
       "\n",
       "       work_type Residence_type  avg_glucose_level   bmi   smoking_status  \\\n",
       "0        Private          Urban             228.69  36.6  formerly smoked   \n",
       "1  Self-employed          Rural             202.21   NaN     never smoked   \n",
       "2        Private          Rural             105.92  32.5     never smoked   \n",
       "3        Private          Urban             171.23  34.4           smokes   \n",
       "4  Self-employed          Rural             174.12  24.0     never smoked   \n",
       "\n",
       "   stroke  \n",
       "0       1  \n",
       "1       1  \n",
       "2       1  \n",
       "3       1  \n",
       "4       1  "
      ]
     },
     "execution_count": 3,
     "metadata": {},
     "output_type": "execute_result"
    }
   ],
   "source": [
    "hcs_df = pd.read_csv('data/healthcare-dataset-stroke-data.csv')\n",
    "hcs_df.head()"
   ]
  },
  {
   "cell_type": "markdown",
   "id": "6a08f969-ecdb-4207-9bd0-f53a8e3ff25c",
   "metadata": {},
   "source": [
    "### Thông tin cơ bản"
   ]
  },
  {
   "cell_type": "markdown",
   "id": "1b35f2a3",
   "metadata": {},
   "source": [
    "#### Dữ liệu gồm có bao nhiêu dòng và bao nhiêu cột?"
   ]
  },
  {
   "cell_type": "code",
   "execution_count": 51,
   "id": "2bf093ed",
   "metadata": {
    "deletable": false,
    "nbgrader": {
     "cell_type": "code",
     "checksum": "0a03dc9216c2e34b0151074d168e31a3",
     "grade": false,
     "grade_id": "cell-bc8810dbc4930a46",
     "locked": false,
     "schema_version": 3,
     "solution": true,
     "task": false
    }
   },
   "outputs": [
    {
     "data": {
      "text/html": [
       "<div>\n",
       "<style scoped>\n",
       "    .dataframe tbody tr th:only-of-type {\n",
       "        vertical-align: middle;\n",
       "    }\n",
       "\n",
       "    .dataframe tbody tr th {\n",
       "        vertical-align: top;\n",
       "    }\n",
       "\n",
       "    .dataframe thead th {\n",
       "        text-align: right;\n",
       "    }\n",
       "</style>\n",
       "<table border=\"1\" class=\"dataframe\">\n",
       "  <thead>\n",
       "    <tr style=\"text-align: right;\">\n",
       "      <th></th>\n",
       "      <th>0</th>\n",
       "    </tr>\n",
       "  </thead>\n",
       "  <tbody>\n",
       "    <tr>\n",
       "      <th>Số cột</th>\n",
       "      <td>11</td>\n",
       "    </tr>\n",
       "    <tr>\n",
       "      <th>Số dòng</th>\n",
       "      <td>5110</td>\n",
       "    </tr>\n",
       "  </tbody>\n",
       "</table>\n",
       "</div>"
      ],
      "text/plain": [
       "            0\n",
       "Số cột     11\n",
       "Số dòng  5110"
      ]
     },
     "execution_count": 51,
     "metadata": {},
     "output_type": "execute_result"
    }
   ],
   "source": [
    "num_rows = hcs_df.shape[0]\n",
    "num_cols = hcs_df.shape[1]\n",
    "pd.DataFrame([num_cols,num_rows], index=['Số cột','Số dòng'])"
   ]
  },
  {
   "cell_type": "markdown",
   "id": "0da578e9",
   "metadata": {},
   "source": [
    "#### Mỗi cột có ý nghĩa gì?"
   ]
  },
  {
   "cell_type": "code",
   "execution_count": 5,
   "id": "d4739fb9",
   "metadata": {},
   "outputs": [
    {
     "name": "stdout",
     "output_type": "stream",
     "text": [
      "1) id:                 unique identifier\n",
      "2) gender:             \"Male\", \"Female\" or \"Other\"\n",
      "3) age:                age of the patient\n",
      "4) hypertension:       0 if the patient doesn't have hypertension, 1 if the patient has hypertension\n",
      "5) heart_disease:      0 if the patient doesn't have any heart diseases, 1 if the patient has a heart disease\n",
      "6) ever_married:       \"No\" or \"Yes\"\n",
      "7) work_type:          \"children\", \"Govt_jov\", \"Never_worked\", \"Private\" or \"Self-employed\"\n",
      "8) Residence_type:     \"Rural\" or \"Urban\"\n",
      "9) avg_glucose_level:  average glucose level in blood\n",
      "10) bmi:               body mass index\n",
      "11) smoking_status:    \"formerly smoked\", \"never smoked\", \"smokes\" or \"Unknown\"*\n",
      "12) stroke.            1 if the patient had a stroke or 0 if not\n",
      "*Note: \"Unknown\" in smoking_status means that the information is unavailable for this patient\n"
     ]
    }
   ],
   "source": [
    "with open('data/description.txt', 'r') as f:\n",
    "    print(f.read())"
   ]
  },
  {
   "cell_type": "markdown",
   "id": "d7dfbb52",
   "metadata": {},
   "source": [
    "Theo mô tả trên kaggle về các cột trong tập `healthcare-dataset-stroke-data.csv`\n",
    "- **id**: mã id\n",
    "- **gender**: giới tính (\"Male\", Female\" và \"Other\")\n",
    "- **age**: tuổi tác\n",
    "- **hypertension**: bị huyết áp cao (0 là không, 1 là có)\n",
    "- **heart_disease**: bị bệnh tim (0 là không, 1 là có)\n",
    "- **ever_married**: tình trạng kết hôn (\"No\" và \"Yes\")\n",
    "- **work_type**: loại nghề nghiệp (\"children\", \"Govt_jov\", \"Never_worked\", \"Private\" và \"Self-employed\")\n",
    "- **Residence_type**: loại cư dân (\"Rural\" hoặc \"Urban\")\n",
    "- **avg_glucose_level**: lượng đường trung bình trong máu\n",
    "- **bmi**: chỉ số khối cơ thể\n",
    "- **smoking_status**: tình trạng hút thuốc (\"formerly smoked\", \"never smoked\", \"smokes\" và \"Unknown\")\n",
    "- **stroke**: bị đột quỵ (0 là không, 1 là có)"
   ]
  },
  {
   "cell_type": "markdown",
   "id": "c87606a3",
   "metadata": {},
   "source": [
    "#### Mỗi cột hiện đang có kiểu dữ liệu gì?"
   ]
  },
  {
   "cell_type": "code",
   "execution_count": 6,
   "id": "bcb527bb",
   "metadata": {
    "deletable": false,
    "nbgrader": {
     "cell_type": "code",
     "checksum": "96e1fdd8f9e7fa97311e690dcdea495b",
     "grade": false,
     "grade_id": "cell-e7c33d274bed2b0c",
     "locked": false,
     "schema_version": 3,
     "solution": true,
     "task": false
    }
   },
   "outputs": [
    {
     "data": {
      "text/plain": [
       "id                     int64\n",
       "gender                object\n",
       "age                  float64\n",
       "hypertension           int64\n",
       "heart_disease          int64\n",
       "ever_married          object\n",
       "work_type             object\n",
       "Residence_type        object\n",
       "avg_glucose_level    float64\n",
       "bmi                  float64\n",
       "smoking_status        object\n",
       "stroke                 int64\n",
       "dtype: object"
      ]
     },
     "execution_count": 6,
     "metadata": {},
     "output_type": "execute_result"
    }
   ],
   "source": [
    "hcs_df.dtypes"
   ]
  },
  {
   "cell_type": "markdown",
   "id": "568d3876-2417-43fa-877c-7503695dd780",
   "metadata": {},
   "source": [
    "_______"
   ]
  },
  {
   "cell_type": "markdown",
   "id": "d5ad86b3-1d05-45f3-ab35-7872645920ac",
   "metadata": {},
   "source": [
    "### Tiền xử lý"
   ]
  },
  {
   "cell_type": "markdown",
   "id": "e610e567-0148-4153-9dba-330b6495a612",
   "metadata": {},
   "source": [
    "#### Cột cần loại bỏ\n",
    "Trong tập dữ liệu `healthcare-dataset-stroke-data.csv`, có tất cả 12 cột dữ liệu chứa các thông tin liên quan đến sức khoẻ. Duy chỉ có một cột và là cột đầu tiên `id` chứa thông tin mã số phân biệt của mỗi đối tượng tham gia khảo sát. Cột `id` nhìn chung không có giá trị hữu ích để dùng cho việc đặt câu hỏi sau này (do giá trị của nó không liên quan đến chủ đề sức khoẻ), nên ta sẽ loại bỏ nó."
   ]
  },
  {
   "cell_type": "code",
   "execution_count": 7,
   "id": "dfbe0b91-2584-4fad-bdf8-6b27d496d60d",
   "metadata": {},
   "outputs": [
    {
     "data": {
      "text/html": [
       "<div>\n",
       "<style scoped>\n",
       "    .dataframe tbody tr th:only-of-type {\n",
       "        vertical-align: middle;\n",
       "    }\n",
       "\n",
       "    .dataframe tbody tr th {\n",
       "        vertical-align: top;\n",
       "    }\n",
       "\n",
       "    .dataframe thead th {\n",
       "        text-align: right;\n",
       "    }\n",
       "</style>\n",
       "<table border=\"1\" class=\"dataframe\">\n",
       "  <thead>\n",
       "    <tr style=\"text-align: right;\">\n",
       "      <th></th>\n",
       "      <th>gender</th>\n",
       "      <th>age</th>\n",
       "      <th>hypertension</th>\n",
       "      <th>heart_disease</th>\n",
       "      <th>ever_married</th>\n",
       "      <th>work_type</th>\n",
       "      <th>Residence_type</th>\n",
       "      <th>avg_glucose_level</th>\n",
       "      <th>bmi</th>\n",
       "      <th>smoking_status</th>\n",
       "      <th>stroke</th>\n",
       "    </tr>\n",
       "  </thead>\n",
       "  <tbody>\n",
       "    <tr>\n",
       "      <th>0</th>\n",
       "      <td>Male</td>\n",
       "      <td>67.0</td>\n",
       "      <td>0</td>\n",
       "      <td>1</td>\n",
       "      <td>Yes</td>\n",
       "      <td>Private</td>\n",
       "      <td>Urban</td>\n",
       "      <td>228.69</td>\n",
       "      <td>36.6</td>\n",
       "      <td>formerly smoked</td>\n",
       "      <td>1</td>\n",
       "    </tr>\n",
       "    <tr>\n",
       "      <th>1</th>\n",
       "      <td>Female</td>\n",
       "      <td>61.0</td>\n",
       "      <td>0</td>\n",
       "      <td>0</td>\n",
       "      <td>Yes</td>\n",
       "      <td>Self-employed</td>\n",
       "      <td>Rural</td>\n",
       "      <td>202.21</td>\n",
       "      <td>NaN</td>\n",
       "      <td>never smoked</td>\n",
       "      <td>1</td>\n",
       "    </tr>\n",
       "    <tr>\n",
       "      <th>2</th>\n",
       "      <td>Male</td>\n",
       "      <td>80.0</td>\n",
       "      <td>0</td>\n",
       "      <td>1</td>\n",
       "      <td>Yes</td>\n",
       "      <td>Private</td>\n",
       "      <td>Rural</td>\n",
       "      <td>105.92</td>\n",
       "      <td>32.5</td>\n",
       "      <td>never smoked</td>\n",
       "      <td>1</td>\n",
       "    </tr>\n",
       "    <tr>\n",
       "      <th>3</th>\n",
       "      <td>Female</td>\n",
       "      <td>49.0</td>\n",
       "      <td>0</td>\n",
       "      <td>0</td>\n",
       "      <td>Yes</td>\n",
       "      <td>Private</td>\n",
       "      <td>Urban</td>\n",
       "      <td>171.23</td>\n",
       "      <td>34.4</td>\n",
       "      <td>smokes</td>\n",
       "      <td>1</td>\n",
       "    </tr>\n",
       "    <tr>\n",
       "      <th>4</th>\n",
       "      <td>Female</td>\n",
       "      <td>79.0</td>\n",
       "      <td>1</td>\n",
       "      <td>0</td>\n",
       "      <td>Yes</td>\n",
       "      <td>Self-employed</td>\n",
       "      <td>Rural</td>\n",
       "      <td>174.12</td>\n",
       "      <td>24.0</td>\n",
       "      <td>never smoked</td>\n",
       "      <td>1</td>\n",
       "    </tr>\n",
       "  </tbody>\n",
       "</table>\n",
       "</div>"
      ],
      "text/plain": [
       "   gender   age  hypertension  heart_disease ever_married      work_type  \\\n",
       "0    Male  67.0             0              1          Yes        Private   \n",
       "1  Female  61.0             0              0          Yes  Self-employed   \n",
       "2    Male  80.0             0              1          Yes        Private   \n",
       "3  Female  49.0             0              0          Yes        Private   \n",
       "4  Female  79.0             1              0          Yes  Self-employed   \n",
       "\n",
       "  Residence_type  avg_glucose_level   bmi   smoking_status  stroke  \n",
       "0          Urban             228.69  36.6  formerly smoked       1  \n",
       "1          Rural             202.21   NaN     never smoked       1  \n",
       "2          Rural             105.92  32.5     never smoked       1  \n",
       "3          Urban             171.23  34.4           smokes       1  \n",
       "4          Rural             174.12  24.0     never smoked       1  "
      ]
     },
     "execution_count": 7,
     "metadata": {},
     "output_type": "execute_result"
    }
   ],
   "source": [
    "hcs_df.drop(columns=['id'], inplace=True)\n",
    "hcs_df.head()"
   ]
  },
  {
   "cell_type": "markdown",
   "id": "bb0029d6-0ca3-4567-a37b-392073406b5b",
   "metadata": {},
   "source": [
    "#### Cột bất thường\n",
    "Dựa theo thông tin về kiểu dữ liệu của từng cột, đối chiếu với dữ liệu trên bảng, ta thấy dữ liệu từng cột không có gì khác thường.\n"
   ]
  },
  {
   "cell_type": "code",
   "execution_count": 8,
   "id": "20833969-344a-4dcc-b3a8-c56a5c1739ef",
   "metadata": {},
   "outputs": [
    {
     "data": {
      "text/plain": [
       "gender                object\n",
       "age                  float64\n",
       "hypertension           int64\n",
       "heart_disease          int64\n",
       "ever_married          object\n",
       "work_type             object\n",
       "Residence_type        object\n",
       "avg_glucose_level    float64\n",
       "bmi                  float64\n",
       "smoking_status        object\n",
       "stroke                 int64\n",
       "dtype: object"
      ]
     },
     "execution_count": 8,
     "metadata": {},
     "output_type": "execute_result"
    }
   ],
   "source": [
    "hcs_df.dtypes"
   ]
  },
  {
   "cell_type": "code",
   "execution_count": 9,
   "id": "b59901e4-564d-4328-a533-5ec08c1efa20",
   "metadata": {},
   "outputs": [
    {
     "data": {
      "text/html": [
       "<div>\n",
       "<style scoped>\n",
       "    .dataframe tbody tr th:only-of-type {\n",
       "        vertical-align: middle;\n",
       "    }\n",
       "\n",
       "    .dataframe tbody tr th {\n",
       "        vertical-align: top;\n",
       "    }\n",
       "\n",
       "    .dataframe thead th {\n",
       "        text-align: right;\n",
       "    }\n",
       "</style>\n",
       "<table border=\"1\" class=\"dataframe\">\n",
       "  <thead>\n",
       "    <tr style=\"text-align: right;\">\n",
       "      <th></th>\n",
       "      <th>gender</th>\n",
       "      <th>age</th>\n",
       "      <th>hypertension</th>\n",
       "      <th>heart_disease</th>\n",
       "      <th>ever_married</th>\n",
       "      <th>work_type</th>\n",
       "      <th>Residence_type</th>\n",
       "      <th>avg_glucose_level</th>\n",
       "      <th>bmi</th>\n",
       "      <th>smoking_status</th>\n",
       "      <th>stroke</th>\n",
       "    </tr>\n",
       "  </thead>\n",
       "  <tbody>\n",
       "    <tr>\n",
       "      <th>0</th>\n",
       "      <td>Male</td>\n",
       "      <td>67.0</td>\n",
       "      <td>0</td>\n",
       "      <td>1</td>\n",
       "      <td>Yes</td>\n",
       "      <td>Private</td>\n",
       "      <td>Urban</td>\n",
       "      <td>228.69</td>\n",
       "      <td>36.6</td>\n",
       "      <td>formerly smoked</td>\n",
       "      <td>1</td>\n",
       "    </tr>\n",
       "    <tr>\n",
       "      <th>1</th>\n",
       "      <td>Female</td>\n",
       "      <td>61.0</td>\n",
       "      <td>0</td>\n",
       "      <td>0</td>\n",
       "      <td>Yes</td>\n",
       "      <td>Self-employed</td>\n",
       "      <td>Rural</td>\n",
       "      <td>202.21</td>\n",
       "      <td>NaN</td>\n",
       "      <td>never smoked</td>\n",
       "      <td>1</td>\n",
       "    </tr>\n",
       "    <tr>\n",
       "      <th>2</th>\n",
       "      <td>Male</td>\n",
       "      <td>80.0</td>\n",
       "      <td>0</td>\n",
       "      <td>1</td>\n",
       "      <td>Yes</td>\n",
       "      <td>Private</td>\n",
       "      <td>Rural</td>\n",
       "      <td>105.92</td>\n",
       "      <td>32.5</td>\n",
       "      <td>never smoked</td>\n",
       "      <td>1</td>\n",
       "    </tr>\n",
       "    <tr>\n",
       "      <th>3</th>\n",
       "      <td>Female</td>\n",
       "      <td>49.0</td>\n",
       "      <td>0</td>\n",
       "      <td>0</td>\n",
       "      <td>Yes</td>\n",
       "      <td>Private</td>\n",
       "      <td>Urban</td>\n",
       "      <td>171.23</td>\n",
       "      <td>34.4</td>\n",
       "      <td>smokes</td>\n",
       "      <td>1</td>\n",
       "    </tr>\n",
       "    <tr>\n",
       "      <th>4</th>\n",
       "      <td>Female</td>\n",
       "      <td>79.0</td>\n",
       "      <td>1</td>\n",
       "      <td>0</td>\n",
       "      <td>Yes</td>\n",
       "      <td>Self-employed</td>\n",
       "      <td>Rural</td>\n",
       "      <td>174.12</td>\n",
       "      <td>24.0</td>\n",
       "      <td>never smoked</td>\n",
       "      <td>1</td>\n",
       "    </tr>\n",
       "  </tbody>\n",
       "</table>\n",
       "</div>"
      ],
      "text/plain": [
       "   gender   age  hypertension  heart_disease ever_married      work_type  \\\n",
       "0    Male  67.0             0              1          Yes        Private   \n",
       "1  Female  61.0             0              0          Yes  Self-employed   \n",
       "2    Male  80.0             0              1          Yes        Private   \n",
       "3  Female  49.0             0              0          Yes        Private   \n",
       "4  Female  79.0             1              0          Yes  Self-employed   \n",
       "\n",
       "  Residence_type  avg_glucose_level   bmi   smoking_status  stroke  \n",
       "0          Urban             228.69  36.6  formerly smoked       1  \n",
       "1          Rural             202.21   NaN     never smoked       1  \n",
       "2          Rural             105.92  32.5     never smoked       1  \n",
       "3          Urban             171.23  34.4           smokes       1  \n",
       "4          Rural             174.12  24.0     never smoked       1  "
      ]
     },
     "execution_count": 9,
     "metadata": {},
     "output_type": "execute_result"
    }
   ],
   "source": [
    "hcs_df.head()"
   ]
  },
  {
   "cell_type": "markdown",
   "id": "3f1ccc27-9ee7-4ea7-825f-3923aa928846",
   "metadata": {},
   "source": [
    "#### Dòng bất thường\n",
    "Mỗi dòng liệt kê các thông tin sức khoẻ của người tham gia khảo sát, ứng với từng cột. Các dòng dữ liệu nhìn chung không có gì bất thường, trừ các dòng bị thiếu hụt dữ liệu (ở cột `bmi`). Có 201 ô dữ liệu thiếu ở cột `bmi`, tương ứng 201 dòng bị thiếu dữ liệu. Việc điền dữ liệu thiếu sẽ được thực hiện ở sau bước Phân tích phân bố dữ liệu."
   ]
  },
  {
   "cell_type": "code",
   "execution_count": 10,
   "id": "98fa9572-329a-48ec-87c4-f5c6bb3d551a",
   "metadata": {
    "tags": []
   },
   "outputs": [
    {
     "data": {
      "text/plain": [
       "gender                 0\n",
       "age                    0\n",
       "hypertension           0\n",
       "heart_disease          0\n",
       "ever_married           0\n",
       "work_type              0\n",
       "Residence_type         0\n",
       "avg_glucose_level      0\n",
       "bmi                  201\n",
       "smoking_status         0\n",
       "stroke                 0\n",
       "dtype: int64"
      ]
     },
     "execution_count": 10,
     "metadata": {},
     "output_type": "execute_result"
    }
   ],
   "source": [
    "hcs_df.isnull().sum()"
   ]
  },
  {
   "cell_type": "markdown",
   "id": "02156470-f20b-4d0a-ad4d-78022089357f",
   "metadata": {},
   "source": [
    "#### Dòng bị lặp\n",
    "Dữ liệu từng dòng của dataset `healthcare-dataset-stroke-data.csv` có bị trùng lặp nhau không?"
   ]
  },
  {
   "cell_type": "code",
   "execution_count": 11,
   "id": "43584b8a-8481-4ca0-9d8c-a5d7986aa1c0",
   "metadata": {},
   "outputs": [
    {
     "data": {
      "text/html": [
       "<div>\n",
       "<style scoped>\n",
       "    .dataframe tbody tr th:only-of-type {\n",
       "        vertical-align: middle;\n",
       "    }\n",
       "\n",
       "    .dataframe tbody tr th {\n",
       "        vertical-align: top;\n",
       "    }\n",
       "\n",
       "    .dataframe thead th {\n",
       "        text-align: right;\n",
       "    }\n",
       "</style>\n",
       "<table border=\"1\" class=\"dataframe\">\n",
       "  <thead>\n",
       "    <tr style=\"text-align: right;\">\n",
       "      <th></th>\n",
       "      <th>Dataset</th>\n",
       "      <th>Duplicate count</th>\n",
       "    </tr>\n",
       "  </thead>\n",
       "  <tbody>\n",
       "    <tr>\n",
       "      <th>0</th>\n",
       "      <td>Healthcare</td>\n",
       "      <td>0</td>\n",
       "    </tr>\n",
       "  </tbody>\n",
       "</table>\n",
       "</div>"
      ],
      "text/plain": [
       "      Dataset  Duplicate count\n",
       "0  Healthcare                0"
      ]
     },
     "execution_count": 11,
     "metadata": {},
     "output_type": "execute_result"
    }
   ],
   "source": [
    "hcs_total_dupRows = np.sum(hcs_df.duplicated())\n",
    "\n",
    "pd.DataFrame({'Dataset': ['Healthcare'],\n",
    "             'Duplicate count': [hcs_total_dupRows]})\n"
   ]
  },
  {
   "cell_type": "markdown",
   "id": "6f992f6c-2f0c-47ff-bf4e-9af29e8975b2",
   "metadata": {},
   "source": [
    "___"
   ]
  },
  {
   "cell_type": "markdown",
   "id": "4990950f-3bb1-4879-88cb-a2effb524b1c",
   "metadata": {},
   "source": [
    "## Phân bố dữ liệu\n",
    "________"
   ]
  },
  {
   "cell_type": "markdown",
   "id": "201da5de",
   "metadata": {},
   "source": [
    "### Kiểu numerical"
   ]
  },
  {
   "cell_type": "markdown",
   "id": "908f70f6",
   "metadata": {},
   "source": [
    "Hiện có 6 cột thuộc dạng numeric: \"age\", \"hypertension\", \"heart_disease\", \"avg_glucose_level\", \"bmi\", \"stroke\". Nhưng 3 cột \"hypertension\", \"heart_disease\", \"stroke\" do mã được đánh dưới dạng số nên 3 cột này sẽ là dạng categorical. Vì vậy, chỉ có 3 cột numeric là \"age\", \"avg_glucose_level\", \"bmi\". "
   ]
  },
  {
   "cell_type": "code",
   "execution_count": 12,
   "id": "1b54fffd",
   "metadata": {},
   "outputs": [],
   "source": [
    "def missing_ratio(col):\n",
    "    return col.isna().mean() * 100"
   ]
  },
  {
   "cell_type": "code",
   "execution_count": 13,
   "id": "0a564b59",
   "metadata": {
    "nbgrader": {
     "cell_type": "code",
     "checksum": "95f164d4ff7a5ee9869dbcc8e0c31d32",
     "grade": false,
     "grade_id": "cell-4c64c2ce1eea9f1d",
     "locked": false,
     "schema_version": 3,
     "solution": true,
     "task": false
    }
   },
   "outputs": [
    {
     "data": {
      "text/html": [
       "<div>\n",
       "<style scoped>\n",
       "    .dataframe tbody tr th:only-of-type {\n",
       "        vertical-align: middle;\n",
       "    }\n",
       "\n",
       "    .dataframe tbody tr th {\n",
       "        vertical-align: top;\n",
       "    }\n",
       "\n",
       "    .dataframe thead th {\n",
       "        text-align: right;\n",
       "    }\n",
       "</style>\n",
       "<table border=\"1\" class=\"dataframe\">\n",
       "  <thead>\n",
       "    <tr style=\"text-align: right;\">\n",
       "      <th></th>\n",
       "      <th>age</th>\n",
       "      <th>avg_glucose_level</th>\n",
       "      <th>bmi</th>\n",
       "    </tr>\n",
       "  </thead>\n",
       "  <tbody>\n",
       "    <tr>\n",
       "      <th>missing_ratio</th>\n",
       "      <td>0.00</td>\n",
       "      <td>0.00</td>\n",
       "      <td>3.933464</td>\n",
       "    </tr>\n",
       "    <tr>\n",
       "      <th>min</th>\n",
       "      <td>0.08</td>\n",
       "      <td>55.12</td>\n",
       "      <td>10.300000</td>\n",
       "    </tr>\n",
       "    <tr>\n",
       "      <th>max</th>\n",
       "      <td>82.00</td>\n",
       "      <td>271.74</td>\n",
       "      <td>97.600000</td>\n",
       "    </tr>\n",
       "  </tbody>\n",
       "</table>\n",
       "</div>"
      ],
      "text/plain": [
       "                 age  avg_glucose_level        bmi\n",
       "missing_ratio   0.00               0.00   3.933464\n",
       "min             0.08              55.12  10.300000\n",
       "max            82.00             271.74  97.600000"
      ]
     },
     "execution_count": 13,
     "metadata": {},
     "output_type": "execute_result"
    }
   ],
   "source": [
    "num_col_profiles_df = hcs_df[[\"age\", \"avg_glucose_level\", \"bmi\"]]\n",
    "num_col_profiles_df = num_col_profiles_df.agg([missing_ratio, pd.Series.min, pd.Series.max])\n",
    "num_col_profiles_df"
   ]
  },
  {
   "cell_type": "markdown",
   "id": "888db875",
   "metadata": {},
   "source": [
    "### Kiểu categorical"
   ]
  },
  {
   "cell_type": "markdown",
   "id": "b0fac7fe",
   "metadata": {},
   "source": [
    "Ban đầu sẽ có 5 cột thuộc dạng categorical: \"gender\", \"ever_married\", \"work_type\", \"Residence_type\", \"smoking_status\".\n",
    "Bởi vì lý do ở trên nên sẽ có thêm 3 cột: \"hypertension\", \"heart_disease\", \"stroke\". Vì vậy, tổng cộng có 8 cột thuộc dạng categorical: \"id\", \"gender\", \"hypertension\", \"heart_disease\",\"work_type\", \"Residence_type\", \"smoking_status\", \"stroke\"."
   ]
  },
  {
   "cell_type": "code",
   "execution_count": 14,
   "id": "682193ad",
   "metadata": {},
   "outputs": [],
   "source": [
    "def unique_non_null(s):\n",
    "    return s.dropna().unique()"
   ]
  },
  {
   "cell_type": "code",
   "execution_count": 15,
   "id": "18947752",
   "metadata": {
    "nbgrader": {
     "cell_type": "code",
     "checksum": "95f164d4ff7a5ee9869dbcc8e0c31d32",
     "grade": false,
     "grade_id": "cell-4c64c2ce1eea9f1d",
     "locked": false,
     "schema_version": 3,
     "solution": true,
     "task": false
    }
   },
   "outputs": [
    {
     "data": {
      "text/html": [
       "<div>\n",
       "<style scoped>\n",
       "    .dataframe tbody tr th:only-of-type {\n",
       "        vertical-align: middle;\n",
       "    }\n",
       "\n",
       "    .dataframe tbody tr th {\n",
       "        vertical-align: top;\n",
       "    }\n",
       "\n",
       "    .dataframe thead th {\n",
       "        text-align: right;\n",
       "    }\n",
       "</style>\n",
       "<table border=\"1\" class=\"dataframe\">\n",
       "  <thead>\n",
       "    <tr style=\"text-align: right;\">\n",
       "      <th></th>\n",
       "      <th>gender</th>\n",
       "      <th>hypertension</th>\n",
       "      <th>heart_disease</th>\n",
       "      <th>work_type</th>\n",
       "      <th>Residence_type</th>\n",
       "      <th>smoking_status</th>\n",
       "      <th>stroke</th>\n",
       "    </tr>\n",
       "  </thead>\n",
       "  <tbody>\n",
       "    <tr>\n",
       "      <th>missing_ratio</th>\n",
       "      <td>0.0</td>\n",
       "      <td>0.0</td>\n",
       "      <td>0.0</td>\n",
       "      <td>0.0</td>\n",
       "      <td>0.0</td>\n",
       "      <td>0.0</td>\n",
       "      <td>0.0</td>\n",
       "    </tr>\n",
       "    <tr>\n",
       "      <th>diff_vals</th>\n",
       "      <td>[Male, Female, Other]</td>\n",
       "      <td>[0, 1]</td>\n",
       "      <td>[1, 0]</td>\n",
       "      <td>[Private, Self-employed, Govt_job, children, N...</td>\n",
       "      <td>[Urban, Rural]</td>\n",
       "      <td>[formerly smoked, never smoked, smokes, Unknown]</td>\n",
       "      <td>[1, 0]</td>\n",
       "    </tr>\n",
       "    <tr>\n",
       "      <th>num_diff_vals</th>\n",
       "      <td>3</td>\n",
       "      <td>2</td>\n",
       "      <td>2</td>\n",
       "      <td>5</td>\n",
       "      <td>2</td>\n",
       "      <td>4</td>\n",
       "      <td>2</td>\n",
       "    </tr>\n",
       "  </tbody>\n",
       "</table>\n",
       "</div>"
      ],
      "text/plain": [
       "                              gender hypertension heart_disease  \\\n",
       "missing_ratio                    0.0          0.0           0.0   \n",
       "diff_vals      [Male, Female, Other]       [0, 1]        [1, 0]   \n",
       "num_diff_vals                      3            2             2   \n",
       "\n",
       "                                                       work_type  \\\n",
       "missing_ratio                                                0.0   \n",
       "diff_vals      [Private, Self-employed, Govt_job, children, N...   \n",
       "num_diff_vals                                                  5   \n",
       "\n",
       "               Residence_type  \\\n",
       "missing_ratio             0.0   \n",
       "diff_vals      [Urban, Rural]   \n",
       "num_diff_vals               2   \n",
       "\n",
       "                                                 smoking_status  stroke  \n",
       "missing_ratio                                               0.0     0.0  \n",
       "diff_vals      [formerly smoked, never smoked, smokes, Unknown]  [1, 0]  \n",
       "num_diff_vals                                                 4       2  "
      ]
     },
     "execution_count": 15,
     "metadata": {},
     "output_type": "execute_result"
    }
   ],
   "source": [
    "cate_col_profiles_df = hcs_df[[\"gender\", \"hypertension\", \"heart_disease\",\"work_type\", \n",
    "                               \"Residence_type\", \"smoking_status\", \"stroke\"]]\n",
    "cate_col_profiles_df = cate_col_profiles_df.agg([missing_ratio, unique_non_null, pd.Series.nunique])\n",
    "cate_col_profiles_df = cate_col_profiles_df.rename(index={'unique_non_null': 'diff_vals', 'nunique': 'num_diff_vals'})\n",
    "cate_col_profiles_df"
   ]
  },
  {
   "cell_type": "markdown",
   "id": "e0e1732d-ca72-4e1d-81cc-7967a13e8fc2",
   "metadata": {},
   "source": [
    "#### Điền missing values"
   ]
  },
  {
   "cell_type": "markdown",
   "id": "338edb17-adc3-4487-bba0-d496dde046fe",
   "metadata": {},
   "source": [
    "Cột `bmi` chứa có chứa giá trị `NaN` nên chúng ta sẽ dùng kĩ thuật điền thay thế `NaN` bằng giá trị `mean` của cột "
   ]
  },
  {
   "cell_type": "code",
   "execution_count": 16,
   "id": "06f33851-3f51-4d50-9110-e581505aca6c",
   "metadata": {},
   "outputs": [
    {
     "data": {
      "text/html": [
       "<div>\n",
       "<style scoped>\n",
       "    .dataframe tbody tr th:only-of-type {\n",
       "        vertical-align: middle;\n",
       "    }\n",
       "\n",
       "    .dataframe tbody tr th {\n",
       "        vertical-align: top;\n",
       "    }\n",
       "\n",
       "    .dataframe thead th {\n",
       "        text-align: right;\n",
       "    }\n",
       "</style>\n",
       "<table border=\"1\" class=\"dataframe\">\n",
       "  <thead>\n",
       "    <tr style=\"text-align: right;\">\n",
       "      <th></th>\n",
       "      <th>gender</th>\n",
       "      <th>age</th>\n",
       "      <th>hypertension</th>\n",
       "      <th>heart_disease</th>\n",
       "      <th>ever_married</th>\n",
       "      <th>work_type</th>\n",
       "      <th>Residence_type</th>\n",
       "      <th>avg_glucose_level</th>\n",
       "      <th>bmi</th>\n",
       "      <th>smoking_status</th>\n",
       "      <th>stroke</th>\n",
       "    </tr>\n",
       "  </thead>\n",
       "  <tbody>\n",
       "    <tr>\n",
       "      <th>1</th>\n",
       "      <td>Female</td>\n",
       "      <td>61.0</td>\n",
       "      <td>0</td>\n",
       "      <td>0</td>\n",
       "      <td>Yes</td>\n",
       "      <td>Self-employed</td>\n",
       "      <td>Rural</td>\n",
       "      <td>202.21</td>\n",
       "      <td>NaN</td>\n",
       "      <td>never smoked</td>\n",
       "      <td>1</td>\n",
       "    </tr>\n",
       "    <tr>\n",
       "      <th>8</th>\n",
       "      <td>Female</td>\n",
       "      <td>59.0</td>\n",
       "      <td>0</td>\n",
       "      <td>0</td>\n",
       "      <td>Yes</td>\n",
       "      <td>Private</td>\n",
       "      <td>Rural</td>\n",
       "      <td>76.15</td>\n",
       "      <td>NaN</td>\n",
       "      <td>Unknown</td>\n",
       "      <td>1</td>\n",
       "    </tr>\n",
       "    <tr>\n",
       "      <th>13</th>\n",
       "      <td>Male</td>\n",
       "      <td>78.0</td>\n",
       "      <td>0</td>\n",
       "      <td>1</td>\n",
       "      <td>Yes</td>\n",
       "      <td>Private</td>\n",
       "      <td>Urban</td>\n",
       "      <td>219.84</td>\n",
       "      <td>NaN</td>\n",
       "      <td>Unknown</td>\n",
       "      <td>1</td>\n",
       "    </tr>\n",
       "    <tr>\n",
       "      <th>19</th>\n",
       "      <td>Male</td>\n",
       "      <td>57.0</td>\n",
       "      <td>0</td>\n",
       "      <td>1</td>\n",
       "      <td>No</td>\n",
       "      <td>Govt_job</td>\n",
       "      <td>Urban</td>\n",
       "      <td>217.08</td>\n",
       "      <td>NaN</td>\n",
       "      <td>Unknown</td>\n",
       "      <td>1</td>\n",
       "    </tr>\n",
       "    <tr>\n",
       "      <th>27</th>\n",
       "      <td>Male</td>\n",
       "      <td>58.0</td>\n",
       "      <td>0</td>\n",
       "      <td>0</td>\n",
       "      <td>Yes</td>\n",
       "      <td>Private</td>\n",
       "      <td>Rural</td>\n",
       "      <td>189.84</td>\n",
       "      <td>NaN</td>\n",
       "      <td>Unknown</td>\n",
       "      <td>1</td>\n",
       "    </tr>\n",
       "    <tr>\n",
       "      <th>...</th>\n",
       "      <td>...</td>\n",
       "      <td>...</td>\n",
       "      <td>...</td>\n",
       "      <td>...</td>\n",
       "      <td>...</td>\n",
       "      <td>...</td>\n",
       "      <td>...</td>\n",
       "      <td>...</td>\n",
       "      <td>...</td>\n",
       "      <td>...</td>\n",
       "      <td>...</td>\n",
       "    </tr>\n",
       "    <tr>\n",
       "      <th>5039</th>\n",
       "      <td>Male</td>\n",
       "      <td>41.0</td>\n",
       "      <td>0</td>\n",
       "      <td>0</td>\n",
       "      <td>No</td>\n",
       "      <td>Private</td>\n",
       "      <td>Rural</td>\n",
       "      <td>70.15</td>\n",
       "      <td>NaN</td>\n",
       "      <td>formerly smoked</td>\n",
       "      <td>0</td>\n",
       "    </tr>\n",
       "    <tr>\n",
       "      <th>5048</th>\n",
       "      <td>Male</td>\n",
       "      <td>40.0</td>\n",
       "      <td>0</td>\n",
       "      <td>0</td>\n",
       "      <td>Yes</td>\n",
       "      <td>Private</td>\n",
       "      <td>Urban</td>\n",
       "      <td>191.15</td>\n",
       "      <td>NaN</td>\n",
       "      <td>smokes</td>\n",
       "      <td>0</td>\n",
       "    </tr>\n",
       "    <tr>\n",
       "      <th>5093</th>\n",
       "      <td>Female</td>\n",
       "      <td>45.0</td>\n",
       "      <td>1</td>\n",
       "      <td>0</td>\n",
       "      <td>Yes</td>\n",
       "      <td>Govt_job</td>\n",
       "      <td>Rural</td>\n",
       "      <td>95.02</td>\n",
       "      <td>NaN</td>\n",
       "      <td>smokes</td>\n",
       "      <td>0</td>\n",
       "    </tr>\n",
       "    <tr>\n",
       "      <th>5099</th>\n",
       "      <td>Male</td>\n",
       "      <td>40.0</td>\n",
       "      <td>0</td>\n",
       "      <td>0</td>\n",
       "      <td>Yes</td>\n",
       "      <td>Private</td>\n",
       "      <td>Rural</td>\n",
       "      <td>83.94</td>\n",
       "      <td>NaN</td>\n",
       "      <td>smokes</td>\n",
       "      <td>0</td>\n",
       "    </tr>\n",
       "    <tr>\n",
       "      <th>5105</th>\n",
       "      <td>Female</td>\n",
       "      <td>80.0</td>\n",
       "      <td>1</td>\n",
       "      <td>0</td>\n",
       "      <td>Yes</td>\n",
       "      <td>Private</td>\n",
       "      <td>Urban</td>\n",
       "      <td>83.75</td>\n",
       "      <td>NaN</td>\n",
       "      <td>never smoked</td>\n",
       "      <td>0</td>\n",
       "    </tr>\n",
       "  </tbody>\n",
       "</table>\n",
       "<p>201 rows × 11 columns</p>\n",
       "</div>"
      ],
      "text/plain": [
       "      gender   age  hypertension  heart_disease ever_married      work_type  \\\n",
       "1     Female  61.0             0              0          Yes  Self-employed   \n",
       "8     Female  59.0             0              0          Yes        Private   \n",
       "13      Male  78.0             0              1          Yes        Private   \n",
       "19      Male  57.0             0              1           No       Govt_job   \n",
       "27      Male  58.0             0              0          Yes        Private   \n",
       "...      ...   ...           ...            ...          ...            ...   \n",
       "5039    Male  41.0             0              0           No        Private   \n",
       "5048    Male  40.0             0              0          Yes        Private   \n",
       "5093  Female  45.0             1              0          Yes       Govt_job   \n",
       "5099    Male  40.0             0              0          Yes        Private   \n",
       "5105  Female  80.0             1              0          Yes        Private   \n",
       "\n",
       "     Residence_type  avg_glucose_level  bmi   smoking_status  stroke  \n",
       "1             Rural             202.21  NaN     never smoked       1  \n",
       "8             Rural              76.15  NaN          Unknown       1  \n",
       "13            Urban             219.84  NaN          Unknown       1  \n",
       "19            Urban             217.08  NaN          Unknown       1  \n",
       "27            Rural             189.84  NaN          Unknown       1  \n",
       "...             ...                ...  ...              ...     ...  \n",
       "5039          Rural              70.15  NaN  formerly smoked       0  \n",
       "5048          Urban             191.15  NaN           smokes       0  \n",
       "5093          Rural              95.02  NaN           smokes       0  \n",
       "5099          Rural              83.94  NaN           smokes       0  \n",
       "5105          Urban              83.75  NaN     never smoked       0  \n",
       "\n",
       "[201 rows x 11 columns]"
      ]
     },
     "execution_count": 16,
     "metadata": {},
     "output_type": "execute_result"
    }
   ],
   "source": [
    "hcs_df[hcs_df['bmi'].isnull()]"
   ]
  },
  {
   "cell_type": "markdown",
   "id": "6f555362-cbe7-4fe8-97d0-a4948486ccaf",
   "metadata": {},
   "source": [
    "Cột `smoking_status` có chứa các giá trị `Unknown`, tức là không xác định rõ trạng thái hút thuốc (đang hút hay đã bỏ, hay chưa từng hút?) của một bệnh nhân, ta cũng sẽ thực hiện việc thay thế các chuỗi `Unknown` này bằng một chuỗi có lượt xuất hiện nhiều nhất trong cột (`most frequent occurance`)"
   ]
  },
  {
   "cell_type": "code",
   "execution_count": 17,
   "id": "97667bd7-47dc-4dc3-95d7-2746fe2a616d",
   "metadata": {},
   "outputs": [
    {
     "data": {
      "text/html": [
       "<div>\n",
       "<style scoped>\n",
       "    .dataframe tbody tr th:only-of-type {\n",
       "        vertical-align: middle;\n",
       "    }\n",
       "\n",
       "    .dataframe tbody tr th {\n",
       "        vertical-align: top;\n",
       "    }\n",
       "\n",
       "    .dataframe thead th {\n",
       "        text-align: right;\n",
       "    }\n",
       "</style>\n",
       "<table border=\"1\" class=\"dataframe\">\n",
       "  <thead>\n",
       "    <tr style=\"text-align: right;\">\n",
       "      <th></th>\n",
       "      <th>gender</th>\n",
       "      <th>age</th>\n",
       "      <th>hypertension</th>\n",
       "      <th>heart_disease</th>\n",
       "      <th>ever_married</th>\n",
       "      <th>work_type</th>\n",
       "      <th>Residence_type</th>\n",
       "      <th>avg_glucose_level</th>\n",
       "      <th>bmi</th>\n",
       "      <th>smoking_status</th>\n",
       "      <th>stroke</th>\n",
       "    </tr>\n",
       "  </thead>\n",
       "  <tbody>\n",
       "    <tr>\n",
       "      <th>8</th>\n",
       "      <td>Female</td>\n",
       "      <td>59.0</td>\n",
       "      <td>0</td>\n",
       "      <td>0</td>\n",
       "      <td>Yes</td>\n",
       "      <td>Private</td>\n",
       "      <td>Rural</td>\n",
       "      <td>76.15</td>\n",
       "      <td>NaN</td>\n",
       "      <td>Unknown</td>\n",
       "      <td>1</td>\n",
       "    </tr>\n",
       "    <tr>\n",
       "      <th>9</th>\n",
       "      <td>Female</td>\n",
       "      <td>78.0</td>\n",
       "      <td>0</td>\n",
       "      <td>0</td>\n",
       "      <td>Yes</td>\n",
       "      <td>Private</td>\n",
       "      <td>Urban</td>\n",
       "      <td>58.57</td>\n",
       "      <td>24.2</td>\n",
       "      <td>Unknown</td>\n",
       "      <td>1</td>\n",
       "    </tr>\n",
       "    <tr>\n",
       "      <th>13</th>\n",
       "      <td>Male</td>\n",
       "      <td>78.0</td>\n",
       "      <td>0</td>\n",
       "      <td>1</td>\n",
       "      <td>Yes</td>\n",
       "      <td>Private</td>\n",
       "      <td>Urban</td>\n",
       "      <td>219.84</td>\n",
       "      <td>NaN</td>\n",
       "      <td>Unknown</td>\n",
       "      <td>1</td>\n",
       "    </tr>\n",
       "    <tr>\n",
       "      <th>19</th>\n",
       "      <td>Male</td>\n",
       "      <td>57.0</td>\n",
       "      <td>0</td>\n",
       "      <td>1</td>\n",
       "      <td>No</td>\n",
       "      <td>Govt_job</td>\n",
       "      <td>Urban</td>\n",
       "      <td>217.08</td>\n",
       "      <td>NaN</td>\n",
       "      <td>Unknown</td>\n",
       "      <td>1</td>\n",
       "    </tr>\n",
       "    <tr>\n",
       "      <th>23</th>\n",
       "      <td>Male</td>\n",
       "      <td>82.0</td>\n",
       "      <td>0</td>\n",
       "      <td>1</td>\n",
       "      <td>Yes</td>\n",
       "      <td>Private</td>\n",
       "      <td>Rural</td>\n",
       "      <td>208.30</td>\n",
       "      <td>32.5</td>\n",
       "      <td>Unknown</td>\n",
       "      <td>1</td>\n",
       "    </tr>\n",
       "    <tr>\n",
       "      <th>...</th>\n",
       "      <td>...</td>\n",
       "      <td>...</td>\n",
       "      <td>...</td>\n",
       "      <td>...</td>\n",
       "      <td>...</td>\n",
       "      <td>...</td>\n",
       "      <td>...</td>\n",
       "      <td>...</td>\n",
       "      <td>...</td>\n",
       "      <td>...</td>\n",
       "      <td>...</td>\n",
       "    </tr>\n",
       "    <tr>\n",
       "      <th>5098</th>\n",
       "      <td>Male</td>\n",
       "      <td>9.0</td>\n",
       "      <td>0</td>\n",
       "      <td>0</td>\n",
       "      <td>No</td>\n",
       "      <td>children</td>\n",
       "      <td>Urban</td>\n",
       "      <td>71.88</td>\n",
       "      <td>17.5</td>\n",
       "      <td>Unknown</td>\n",
       "      <td>0</td>\n",
       "    </tr>\n",
       "    <tr>\n",
       "      <th>5101</th>\n",
       "      <td>Female</td>\n",
       "      <td>45.0</td>\n",
       "      <td>0</td>\n",
       "      <td>0</td>\n",
       "      <td>Yes</td>\n",
       "      <td>Private</td>\n",
       "      <td>Urban</td>\n",
       "      <td>97.95</td>\n",
       "      <td>24.5</td>\n",
       "      <td>Unknown</td>\n",
       "      <td>0</td>\n",
       "    </tr>\n",
       "    <tr>\n",
       "      <th>5103</th>\n",
       "      <td>Female</td>\n",
       "      <td>18.0</td>\n",
       "      <td>0</td>\n",
       "      <td>0</td>\n",
       "      <td>No</td>\n",
       "      <td>Private</td>\n",
       "      <td>Urban</td>\n",
       "      <td>82.85</td>\n",
       "      <td>46.9</td>\n",
       "      <td>Unknown</td>\n",
       "      <td>0</td>\n",
       "    </tr>\n",
       "    <tr>\n",
       "      <th>5104</th>\n",
       "      <td>Female</td>\n",
       "      <td>13.0</td>\n",
       "      <td>0</td>\n",
       "      <td>0</td>\n",
       "      <td>No</td>\n",
       "      <td>children</td>\n",
       "      <td>Rural</td>\n",
       "      <td>103.08</td>\n",
       "      <td>18.6</td>\n",
       "      <td>Unknown</td>\n",
       "      <td>0</td>\n",
       "    </tr>\n",
       "    <tr>\n",
       "      <th>5109</th>\n",
       "      <td>Female</td>\n",
       "      <td>44.0</td>\n",
       "      <td>0</td>\n",
       "      <td>0</td>\n",
       "      <td>Yes</td>\n",
       "      <td>Govt_job</td>\n",
       "      <td>Urban</td>\n",
       "      <td>85.28</td>\n",
       "      <td>26.2</td>\n",
       "      <td>Unknown</td>\n",
       "      <td>0</td>\n",
       "    </tr>\n",
       "  </tbody>\n",
       "</table>\n",
       "<p>1544 rows × 11 columns</p>\n",
       "</div>"
      ],
      "text/plain": [
       "      gender   age  hypertension  heart_disease ever_married work_type  \\\n",
       "8     Female  59.0             0              0          Yes   Private   \n",
       "9     Female  78.0             0              0          Yes   Private   \n",
       "13      Male  78.0             0              1          Yes   Private   \n",
       "19      Male  57.0             0              1           No  Govt_job   \n",
       "23      Male  82.0             0              1          Yes   Private   \n",
       "...      ...   ...           ...            ...          ...       ...   \n",
       "5098    Male   9.0             0              0           No  children   \n",
       "5101  Female  45.0             0              0          Yes   Private   \n",
       "5103  Female  18.0             0              0           No   Private   \n",
       "5104  Female  13.0             0              0           No  children   \n",
       "5109  Female  44.0             0              0          Yes  Govt_job   \n",
       "\n",
       "     Residence_type  avg_glucose_level   bmi smoking_status  stroke  \n",
       "8             Rural              76.15   NaN        Unknown       1  \n",
       "9             Urban              58.57  24.2        Unknown       1  \n",
       "13            Urban             219.84   NaN        Unknown       1  \n",
       "19            Urban             217.08   NaN        Unknown       1  \n",
       "23            Rural             208.30  32.5        Unknown       1  \n",
       "...             ...                ...   ...            ...     ...  \n",
       "5098          Urban              71.88  17.5        Unknown       0  \n",
       "5101          Urban              97.95  24.5        Unknown       0  \n",
       "5103          Urban              82.85  46.9        Unknown       0  \n",
       "5104          Rural             103.08  18.6        Unknown       0  \n",
       "5109          Urban              85.28  26.2        Unknown       0  \n",
       "\n",
       "[1544 rows x 11 columns]"
      ]
     },
     "execution_count": 17,
     "metadata": {},
     "output_type": "execute_result"
    }
   ],
   "source": [
    "hcs_df[hcs_df['smoking_status'] == 'Unknown']"
   ]
  },
  {
   "cell_type": "markdown",
   "id": "dc982f61-779d-4476-bc10-3f4a1488d0e7",
   "metadata": {},
   "source": [
    "- Với cột `bmi`, thay thế `NaN` bằng giá trị `mean`"
   ]
  },
  {
   "cell_type": "code",
   "execution_count": 18,
   "id": "65233559-10b3-4374-aeb1-72445d82e1c6",
   "metadata": {},
   "outputs": [],
   "source": [
    "hcs_df['bmi'] = hcs_df['bmi'].fillna(hcs_df['bmi'].mean())"
   ]
  },
  {
   "cell_type": "markdown",
   "id": "f34e715d-fcc8-4ba8-9d63-702ec67b078c",
   "metadata": {},
   "source": [
    "- Kiểm tra kết quả: đã không còn giá trị"
   ]
  },
  {
   "cell_type": "code",
   "execution_count": 52,
   "id": "a1f3fd6d-7ef5-489f-b50d-fc90c792cbc3",
   "metadata": {},
   "outputs": [
    {
     "data": {
      "text/html": [
       "<div>\n",
       "<style scoped>\n",
       "    .dataframe tbody tr th:only-of-type {\n",
       "        vertical-align: middle;\n",
       "    }\n",
       "\n",
       "    .dataframe tbody tr th {\n",
       "        vertical-align: top;\n",
       "    }\n",
       "\n",
       "    .dataframe thead th {\n",
       "        text-align: right;\n",
       "    }\n",
       "</style>\n",
       "<table border=\"1\" class=\"dataframe\">\n",
       "  <thead>\n",
       "    <tr style=\"text-align: right;\">\n",
       "      <th></th>\n",
       "      <th>gender</th>\n",
       "      <th>age</th>\n",
       "      <th>hypertension</th>\n",
       "      <th>heart_disease</th>\n",
       "      <th>ever_married</th>\n",
       "      <th>work_type</th>\n",
       "      <th>Residence_type</th>\n",
       "      <th>avg_glucose_level</th>\n",
       "      <th>bmi</th>\n",
       "      <th>smoking_status</th>\n",
       "      <th>stroke</th>\n",
       "    </tr>\n",
       "  </thead>\n",
       "  <tbody>\n",
       "  </tbody>\n",
       "</table>\n",
       "</div>"
      ],
      "text/plain": [
       "Empty DataFrame\n",
       "Columns: [gender, age, hypertension, heart_disease, ever_married, work_type, Residence_type, avg_glucose_level, bmi, smoking_status, stroke]\n",
       "Index: []"
      ]
     },
     "execution_count": 52,
     "metadata": {},
     "output_type": "execute_result"
    }
   ],
   "source": [
    "hcs_df[hcs_df['bmi'].isnull()]"
   ]
  },
  {
   "cell_type": "markdown",
   "id": "41f619a4-8914-46c4-b97d-b2dde9b295db",
   "metadata": {},
   "source": [
    "- Với cột `smoking_status`, do có kiểu dữ liệu không ở dạng số nên ta sẽ thay thế giá trị `Unknown` bằng giá trị có lượt xuất hiện nhiều nhất cột"
   ]
  },
  {
   "cell_type": "markdown",
   "id": "89bf4c36-e948-471c-bdbc-ace5a83fc2d2",
   "metadata": {},
   "source": [
    "**Bước 1**: Xác định giá trị xuất hiện nhiều nhất trong cột"
   ]
  },
  {
   "cell_type": "code",
   "execution_count": 20,
   "id": "998da03c-f365-43c2-88b2-d694baec7a51",
   "metadata": {},
   "outputs": [],
   "source": [
    "smoking_status_most_freq = hcs_df['smoking_status'].value_counts().idxmax()"
   ]
  },
  {
   "cell_type": "markdown",
   "id": "ea3278ad-6217-46b9-bcc4-25631320b14e",
   "metadata": {},
   "source": [
    "**Bước 2:** Thay thế giá trị `Unknown`"
   ]
  },
  {
   "cell_type": "code",
   "execution_count": 21,
   "id": "ca4f7312-4abe-46e9-a4a3-fe61a29057f0",
   "metadata": {},
   "outputs": [],
   "source": [
    "hcs_df['smoking_status'].replace({'Unknown': smoking_status_most_freq}, inplace=True)"
   ]
  },
  {
   "cell_type": "markdown",
   "id": "1d53b967-65eb-41a4-b3b4-4d70049edde9",
   "metadata": {},
   "source": [
    "- Kiểm tra kết quả: đã không còn giá trị `Unknown`"
   ]
  },
  {
   "cell_type": "code",
   "execution_count": 53,
   "id": "0ef454ae-6203-426d-b91a-826aa80cb9e8",
   "metadata": {},
   "outputs": [
    {
     "data": {
      "text/html": [
       "<div>\n",
       "<style scoped>\n",
       "    .dataframe tbody tr th:only-of-type {\n",
       "        vertical-align: middle;\n",
       "    }\n",
       "\n",
       "    .dataframe tbody tr th {\n",
       "        vertical-align: top;\n",
       "    }\n",
       "\n",
       "    .dataframe thead th {\n",
       "        text-align: right;\n",
       "    }\n",
       "</style>\n",
       "<table border=\"1\" class=\"dataframe\">\n",
       "  <thead>\n",
       "    <tr style=\"text-align: right;\">\n",
       "      <th></th>\n",
       "      <th>gender</th>\n",
       "      <th>age</th>\n",
       "      <th>hypertension</th>\n",
       "      <th>heart_disease</th>\n",
       "      <th>ever_married</th>\n",
       "      <th>work_type</th>\n",
       "      <th>Residence_type</th>\n",
       "      <th>avg_glucose_level</th>\n",
       "      <th>bmi</th>\n",
       "      <th>smoking_status</th>\n",
       "      <th>stroke</th>\n",
       "    </tr>\n",
       "  </thead>\n",
       "  <tbody>\n",
       "  </tbody>\n",
       "</table>\n",
       "</div>"
      ],
      "text/plain": [
       "Empty DataFrame\n",
       "Columns: [gender, age, hypertension, heart_disease, ever_married, work_type, Residence_type, avg_glucose_level, bmi, smoking_status, stroke]\n",
       "Index: []"
      ]
     },
     "execution_count": 53,
     "metadata": {},
     "output_type": "execute_result"
    }
   ],
   "source": [
    "hcs_df[hcs_df['smoking_status'] == 'Unknown']"
   ]
  },
  {
   "cell_type": "markdown",
   "id": "cd64e1ea-42d1-4b30-885a-e1685dfc7c96",
   "metadata": {},
   "source": [
    "___"
   ]
  },
  {
   "cell_type": "markdown",
   "id": "aa6ba5cd-0fb9-4b82-884a-753704b50329",
   "metadata": {},
   "source": [
    "## Đặt câu hỏi\n",
    "___"
   ]
  },
  {
   "cell_type": "markdown",
   "id": "a4f30e50-a17b-4a3b-add9-cbe9344e543b",
   "metadata": {},
   "source": [
    "#### Câu 1"
   ]
  },
  {
   "cell_type": "markdown",
   "id": "e839a0f2-98d7-4632-a16a-aacdad536ee5",
   "metadata": {},
   "source": [
    "#### Trong những người trên 50 tuổi sống có tiền sử đột quỵ, tỉ lệ người có mắc bệnh về tim mạch chiếm bao nhiêu phần trăm?"
   ]
  },
  {
   "cell_type": "markdown",
   "id": "0b9a6d8d-12cf-4044-bf14-6b677234ca0e",
   "metadata": {},
   "source": [
    "- Thông qua câu hỏi này, ta có thể nhận biết được mức độ nghiêm trọng của bệnh tim đóng góp vào phần trăm khả năng xảy ra đột quỵ ở người lớn tuổi, cũng như biết trước được cách phòng tránh, để chăm sóc sức khoẻ tốt hơn."
   ]
  },
  {
   "cell_type": "markdown",
   "id": "6903cead-885b-44db-a9fd-de98a0a77efb",
   "metadata": {},
   "source": [
    "**Bước 1:** Đối tượng lấy mẫu sẽ là cư dân ở thành thị `Urban` và nông thôn `Rural`"
   ]
  },
  {
   "cell_type": "code",
   "execution_count": 23,
   "id": "88c9a1f6-2189-4b4e-bfad-22d1f5ee6fd1",
   "metadata": {},
   "outputs": [],
   "source": [
    "stroke_urban = hcs_df.loc[(hcs_df['age'] > 50.0) & (hcs_df['Residence_type'] == 'Urban') & (hcs_df['stroke'] == 1)]\n",
    "stroke_rural = hcs_df.loc[(hcs_df['age'] > 50.0) & (hcs_df['Residence_type'] == 'Rural') & (hcs_df['stroke'] == 1)]"
   ]
  },
  {
   "cell_type": "code",
   "execution_count": 71,
   "id": "f853bfcd-91d2-4280-8151-e368ff77c751",
   "metadata": {},
   "outputs": [
    {
     "data": {
      "text/html": [
       "<div>\n",
       "<style scoped>\n",
       "    .dataframe tbody tr th:only-of-type {\n",
       "        vertical-align: middle;\n",
       "    }\n",
       "\n",
       "    .dataframe tbody tr th {\n",
       "        vertical-align: top;\n",
       "    }\n",
       "\n",
       "    .dataframe thead th {\n",
       "        text-align: right;\n",
       "    }\n",
       "</style>\n",
       "<table border=\"1\" class=\"dataframe\">\n",
       "  <thead>\n",
       "    <tr style=\"text-align: right;\">\n",
       "      <th></th>\n",
       "      <th>gender</th>\n",
       "      <th>age</th>\n",
       "      <th>hypertension</th>\n",
       "      <th>heart_disease</th>\n",
       "      <th>ever_married</th>\n",
       "      <th>work_type</th>\n",
       "      <th>Residence_type</th>\n",
       "      <th>avg_glucose_level</th>\n",
       "      <th>bmi</th>\n",
       "      <th>smoking_status</th>\n",
       "      <th>stroke</th>\n",
       "    </tr>\n",
       "  </thead>\n",
       "  <tbody>\n",
       "    <tr>\n",
       "      <th>1</th>\n",
       "      <td>Female</td>\n",
       "      <td>61.0</td>\n",
       "      <td>0</td>\n",
       "      <td>0</td>\n",
       "      <td>Yes</td>\n",
       "      <td>Self-employed</td>\n",
       "      <td>Rural</td>\n",
       "      <td>202.21</td>\n",
       "      <td>28.893237</td>\n",
       "      <td>never smoked</td>\n",
       "      <td>1</td>\n",
       "    </tr>\n",
       "    <tr>\n",
       "      <th>2</th>\n",
       "      <td>Male</td>\n",
       "      <td>80.0</td>\n",
       "      <td>0</td>\n",
       "      <td>1</td>\n",
       "      <td>Yes</td>\n",
       "      <td>Private</td>\n",
       "      <td>Rural</td>\n",
       "      <td>105.92</td>\n",
       "      <td>32.500000</td>\n",
       "      <td>never smoked</td>\n",
       "      <td>1</td>\n",
       "    </tr>\n",
       "    <tr>\n",
       "      <th>4</th>\n",
       "      <td>Female</td>\n",
       "      <td>79.0</td>\n",
       "      <td>1</td>\n",
       "      <td>0</td>\n",
       "      <td>Yes</td>\n",
       "      <td>Self-employed</td>\n",
       "      <td>Rural</td>\n",
       "      <td>174.12</td>\n",
       "      <td>24.000000</td>\n",
       "      <td>never smoked</td>\n",
       "      <td>1</td>\n",
       "    </tr>\n",
       "    <tr>\n",
       "      <th>6</th>\n",
       "      <td>Male</td>\n",
       "      <td>74.0</td>\n",
       "      <td>1</td>\n",
       "      <td>1</td>\n",
       "      <td>Yes</td>\n",
       "      <td>Private</td>\n",
       "      <td>Rural</td>\n",
       "      <td>70.09</td>\n",
       "      <td>27.400000</td>\n",
       "      <td>never smoked</td>\n",
       "      <td>1</td>\n",
       "    </tr>\n",
       "    <tr>\n",
       "      <th>8</th>\n",
       "      <td>Female</td>\n",
       "      <td>59.0</td>\n",
       "      <td>0</td>\n",
       "      <td>0</td>\n",
       "      <td>Yes</td>\n",
       "      <td>Private</td>\n",
       "      <td>Rural</td>\n",
       "      <td>76.15</td>\n",
       "      <td>28.893237</td>\n",
       "      <td>never smoked</td>\n",
       "      <td>1</td>\n",
       "    </tr>\n",
       "    <tr>\n",
       "      <th>...</th>\n",
       "      <td>...</td>\n",
       "      <td>...</td>\n",
       "      <td>...</td>\n",
       "      <td>...</td>\n",
       "      <td>...</td>\n",
       "      <td>...</td>\n",
       "      <td>...</td>\n",
       "      <td>...</td>\n",
       "      <td>...</td>\n",
       "      <td>...</td>\n",
       "      <td>...</td>\n",
       "    </tr>\n",
       "    <tr>\n",
       "      <th>242</th>\n",
       "      <td>Male</td>\n",
       "      <td>68.0</td>\n",
       "      <td>0</td>\n",
       "      <td>0</td>\n",
       "      <td>Yes</td>\n",
       "      <td>Private</td>\n",
       "      <td>Rural</td>\n",
       "      <td>233.94</td>\n",
       "      <td>42.400000</td>\n",
       "      <td>never smoked</td>\n",
       "      <td>1</td>\n",
       "    </tr>\n",
       "    <tr>\n",
       "      <th>244</th>\n",
       "      <td>Male</td>\n",
       "      <td>57.0</td>\n",
       "      <td>0</td>\n",
       "      <td>0</td>\n",
       "      <td>Yes</td>\n",
       "      <td>Private</td>\n",
       "      <td>Rural</td>\n",
       "      <td>84.96</td>\n",
       "      <td>36.700000</td>\n",
       "      <td>never smoked</td>\n",
       "      <td>1</td>\n",
       "    </tr>\n",
       "    <tr>\n",
       "      <th>246</th>\n",
       "      <td>Female</td>\n",
       "      <td>75.0</td>\n",
       "      <td>0</td>\n",
       "      <td>0</td>\n",
       "      <td>Yes</td>\n",
       "      <td>Self-employed</td>\n",
       "      <td>Rural</td>\n",
       "      <td>78.80</td>\n",
       "      <td>29.300000</td>\n",
       "      <td>formerly smoked</td>\n",
       "      <td>1</td>\n",
       "    </tr>\n",
       "    <tr>\n",
       "      <th>247</th>\n",
       "      <td>Male</td>\n",
       "      <td>71.0</td>\n",
       "      <td>1</td>\n",
       "      <td>0</td>\n",
       "      <td>Yes</td>\n",
       "      <td>Self-employed</td>\n",
       "      <td>Rural</td>\n",
       "      <td>87.80</td>\n",
       "      <td>28.893237</td>\n",
       "      <td>never smoked</td>\n",
       "      <td>1</td>\n",
       "    </tr>\n",
       "    <tr>\n",
       "      <th>248</th>\n",
       "      <td>Female</td>\n",
       "      <td>78.0</td>\n",
       "      <td>0</td>\n",
       "      <td>0</td>\n",
       "      <td>Yes</td>\n",
       "      <td>Private</td>\n",
       "      <td>Rural</td>\n",
       "      <td>78.81</td>\n",
       "      <td>19.600000</td>\n",
       "      <td>never smoked</td>\n",
       "      <td>1</td>\n",
       "    </tr>\n",
       "  </tbody>\n",
       "</table>\n",
       "<p>102 rows × 11 columns</p>\n",
       "</div>"
      ],
      "text/plain": [
       "     gender   age  hypertension  heart_disease ever_married      work_type  \\\n",
       "1    Female  61.0             0              0          Yes  Self-employed   \n",
       "2      Male  80.0             0              1          Yes        Private   \n",
       "4    Female  79.0             1              0          Yes  Self-employed   \n",
       "6      Male  74.0             1              1          Yes        Private   \n",
       "8    Female  59.0             0              0          Yes        Private   \n",
       "..      ...   ...           ...            ...          ...            ...   \n",
       "242    Male  68.0             0              0          Yes        Private   \n",
       "244    Male  57.0             0              0          Yes        Private   \n",
       "246  Female  75.0             0              0          Yes  Self-employed   \n",
       "247    Male  71.0             1              0          Yes  Self-employed   \n",
       "248  Female  78.0             0              0          Yes        Private   \n",
       "\n",
       "    Residence_type  avg_glucose_level        bmi   smoking_status  stroke  \n",
       "1            Rural             202.21  28.893237     never smoked       1  \n",
       "2            Rural             105.92  32.500000     never smoked       1  \n",
       "4            Rural             174.12  24.000000     never smoked       1  \n",
       "6            Rural              70.09  27.400000     never smoked       1  \n",
       "8            Rural              76.15  28.893237     never smoked       1  \n",
       "..             ...                ...        ...              ...     ...  \n",
       "242          Rural             233.94  42.400000     never smoked       1  \n",
       "244          Rural              84.96  36.700000     never smoked       1  \n",
       "246          Rural              78.80  29.300000  formerly smoked       1  \n",
       "247          Rural              87.80  28.893237     never smoked       1  \n",
       "248          Rural              78.81  19.600000     never smoked       1  \n",
       "\n",
       "[102 rows x 11 columns]"
      ]
     },
     "execution_count": 71,
     "metadata": {},
     "output_type": "execute_result"
    }
   ],
   "source": [
    "stroke_rural"
   ]
  },
  {
   "cell_type": "markdown",
   "id": "085fed45-7492-4188-af57-7e5f8ec688ce",
   "metadata": {},
   "source": [
    "**Bước 2:** Đếm số lượng mẫu của `Urban` và `Rural` thoả mãn điều kiện"
   ]
  },
  {
   "cell_type": "code",
   "execution_count": 24,
   "id": "f24ab82a-a2f1-42e5-b08f-8e811ef3da09",
   "metadata": {},
   "outputs": [
    {
     "data": {
      "text/html": [
       "<div>\n",
       "<style scoped>\n",
       "    .dataframe tbody tr th:only-of-type {\n",
       "        vertical-align: middle;\n",
       "    }\n",
       "\n",
       "    .dataframe tbody tr th {\n",
       "        vertical-align: top;\n",
       "    }\n",
       "\n",
       "    .dataframe thead th {\n",
       "        text-align: right;\n",
       "    }\n",
       "</style>\n",
       "<table border=\"1\" class=\"dataframe\">\n",
       "  <thead>\n",
       "    <tr style=\"text-align: right;\">\n",
       "      <th></th>\n",
       "      <th>Dòng</th>\n",
       "    </tr>\n",
       "  </thead>\n",
       "  <tbody>\n",
       "    <tr>\n",
       "      <th>gender</th>\n",
       "      <td>124</td>\n",
       "    </tr>\n",
       "    <tr>\n",
       "      <th>age</th>\n",
       "      <td>124</td>\n",
       "    </tr>\n",
       "    <tr>\n",
       "      <th>hypertension</th>\n",
       "      <td>124</td>\n",
       "    </tr>\n",
       "    <tr>\n",
       "      <th>heart_disease</th>\n",
       "      <td>124</td>\n",
       "    </tr>\n",
       "    <tr>\n",
       "      <th>ever_married</th>\n",
       "      <td>124</td>\n",
       "    </tr>\n",
       "    <tr>\n",
       "      <th>work_type</th>\n",
       "      <td>124</td>\n",
       "    </tr>\n",
       "    <tr>\n",
       "      <th>Residence_type</th>\n",
       "      <td>124</td>\n",
       "    </tr>\n",
       "    <tr>\n",
       "      <th>avg_glucose_level</th>\n",
       "      <td>124</td>\n",
       "    </tr>\n",
       "    <tr>\n",
       "      <th>bmi</th>\n",
       "      <td>124</td>\n",
       "    </tr>\n",
       "    <tr>\n",
       "      <th>smoking_status</th>\n",
       "      <td>124</td>\n",
       "    </tr>\n",
       "    <tr>\n",
       "      <th>stroke</th>\n",
       "      <td>124</td>\n",
       "    </tr>\n",
       "  </tbody>\n",
       "</table>\n",
       "</div>"
      ],
      "text/plain": [
       "                   Dòng\n",
       "gender              124\n",
       "age                 124\n",
       "hypertension        124\n",
       "heart_disease       124\n",
       "ever_married        124\n",
       "work_type           124\n",
       "Residence_type      124\n",
       "avg_glucose_level   124\n",
       "bmi                 124\n",
       "smoking_status      124\n",
       "stroke              124"
      ]
     },
     "metadata": {},
     "output_type": "display_data"
    }
   ],
   "source": [
    "num_stroke_urban = stroke_urban.count(axis='rows')\n",
    "display(pd.DataFrame(num_stroke_urban, columns = ['Dòng']))"
   ]
  },
  {
   "cell_type": "markdown",
   "id": "107f4419-ce52-4172-b266-8d85c34a7c1d",
   "metadata": {},
   "source": [
    "- Nhận xét: Số dòng tương ứng với số lượng mẫu thoả mãn điều kiện truy vấn. Có tổng cộng 124 mẫu thoả điều kiện"
   ]
  },
  {
   "cell_type": "code",
   "execution_count": 25,
   "id": "de2e7938-428e-4dfd-a937-a24317ada506",
   "metadata": {},
   "outputs": [
    {
     "data": {
      "text/html": [
       "<div>\n",
       "<style scoped>\n",
       "    .dataframe tbody tr th:only-of-type {\n",
       "        vertical-align: middle;\n",
       "    }\n",
       "\n",
       "    .dataframe tbody tr th {\n",
       "        vertical-align: top;\n",
       "    }\n",
       "\n",
       "    .dataframe thead th {\n",
       "        text-align: right;\n",
       "    }\n",
       "</style>\n",
       "<table border=\"1\" class=\"dataframe\">\n",
       "  <thead>\n",
       "    <tr style=\"text-align: right;\">\n",
       "      <th></th>\n",
       "      <th>Dòng</th>\n",
       "    </tr>\n",
       "  </thead>\n",
       "  <tbody>\n",
       "    <tr>\n",
       "      <th>gender</th>\n",
       "      <td>102</td>\n",
       "    </tr>\n",
       "    <tr>\n",
       "      <th>age</th>\n",
       "      <td>102</td>\n",
       "    </tr>\n",
       "    <tr>\n",
       "      <th>hypertension</th>\n",
       "      <td>102</td>\n",
       "    </tr>\n",
       "    <tr>\n",
       "      <th>heart_disease</th>\n",
       "      <td>102</td>\n",
       "    </tr>\n",
       "    <tr>\n",
       "      <th>ever_married</th>\n",
       "      <td>102</td>\n",
       "    </tr>\n",
       "    <tr>\n",
       "      <th>work_type</th>\n",
       "      <td>102</td>\n",
       "    </tr>\n",
       "    <tr>\n",
       "      <th>Residence_type</th>\n",
       "      <td>102</td>\n",
       "    </tr>\n",
       "    <tr>\n",
       "      <th>avg_glucose_level</th>\n",
       "      <td>102</td>\n",
       "    </tr>\n",
       "    <tr>\n",
       "      <th>bmi</th>\n",
       "      <td>102</td>\n",
       "    </tr>\n",
       "    <tr>\n",
       "      <th>smoking_status</th>\n",
       "      <td>102</td>\n",
       "    </tr>\n",
       "    <tr>\n",
       "      <th>stroke</th>\n",
       "      <td>102</td>\n",
       "    </tr>\n",
       "  </tbody>\n",
       "</table>\n",
       "</div>"
      ],
      "text/plain": [
       "                   Dòng\n",
       "gender              102\n",
       "age                 102\n",
       "hypertension        102\n",
       "heart_disease       102\n",
       "ever_married        102\n",
       "work_type           102\n",
       "Residence_type      102\n",
       "avg_glucose_level   102\n",
       "bmi                 102\n",
       "smoking_status      102\n",
       "stroke              102"
      ]
     },
     "metadata": {},
     "output_type": "display_data"
    }
   ],
   "source": [
    "num_stroke_rural = stroke_rural.count(axis='rows')\n",
    "display(pd.DataFrame(num_stroke_rural, columns = ['Dòng']))"
   ]
  },
  {
   "cell_type": "markdown",
   "id": "9ca7ed69-b666-4d53-8beb-fff2eb95efe9",
   "metadata": {},
   "source": [
    "- Nhận xét: Số dòng tương ứng với số lượng mẫu thoả mãn điều kiện truy vấn. Có tổng cộng 102 mẫu thoả điều kiện"
   ]
  },
  {
   "cell_type": "markdown",
   "id": "64411572-d361-4ee5-80bd-e65febe9830c",
   "metadata": {},
   "source": [
    "**Bước 3:** Lọc ra các bệnh nhân có tiền sử bệnh tim. Ngoài xét cột `heart_disease`(= 1), thì ta cũng xét thêm các cột khác như `hypertension` (cao huyết áp), `bmi` (chỉ số cơ thể), `avg_glucose_level` (lượng đường huyết trong máu) vì chỉ cần một trong các dấu hiệu, thông số trên vượt ngưỡng an toàn, người bệnh cũng có nguy cơ mắc bệnh tim, có khả năng dẫn đến bệnh đột quỵ (Nguồn: https://vinmec.com/vi/tin-tuc/thong-tin-suc-khoe/benh-ly-tim-mach-nguyen-nhan-gay-tu-vong-hang-dau/)"
   ]
  },
  {
   "cell_type": "code",
   "execution_count": 84,
   "id": "588b2d6c-e16b-4b7e-a18a-ed854b71d597",
   "metadata": {},
   "outputs": [],
   "source": [
    "with_heart_disease_urban = stroke_urban.loc[(stroke_urban['heart_disease'] == 1) |\n",
    "                                            ((stroke_urban['hypertension'] == 1) |\n",
    "                                            (stroke_urban['bmi'] > 30.0) |\n",
    "                                            (stroke_urban['avg_glucose_level'] > 140.0))\n",
    "                                           ]\n",
    "with_heart_disease_rural = stroke_rural.loc[(stroke_rural['heart_disease'] == 1) |\n",
    "                                            ((stroke_rural['hypertension'] == 1) |\n",
    "                                            (stroke_rural['bmi'] > 30.0) |\n",
    "                                            (stroke_rural['avg_glucose_level'] > 140.0))\n",
    "                                           ]"
   ]
  },
  {
   "cell_type": "markdown",
   "id": "0044049b-db72-458f-ac59-2016e91e017a",
   "metadata": {},
   "source": [
    "**Bước 4:** Đếm số lượng mẫu thoả mãn điều kiện"
   ]
  },
  {
   "cell_type": "code",
   "execution_count": 85,
   "id": "d4b617c3-9ea7-479b-a174-40dbb2d4aa43",
   "metadata": {},
   "outputs": [],
   "source": [
    "num_heart_disease_urban = with_heart_disease_urban.count(axis='rows')\n",
    "num_heart_disease_rural = with_heart_disease_rural.count(axis='rows')"
   ]
  },
  {
   "cell_type": "code",
   "execution_count": 86,
   "id": "863f51a8-3357-4305-a790-fcf1c1660afe",
   "metadata": {},
   "outputs": [
    {
     "data": {
      "text/html": [
       "<div>\n",
       "<style scoped>\n",
       "    .dataframe tbody tr th:only-of-type {\n",
       "        vertical-align: middle;\n",
       "    }\n",
       "\n",
       "    .dataframe tbody tr th {\n",
       "        vertical-align: top;\n",
       "    }\n",
       "\n",
       "    .dataframe thead th {\n",
       "        text-align: right;\n",
       "    }\n",
       "</style>\n",
       "<table border=\"1\" class=\"dataframe\">\n",
       "  <thead>\n",
       "    <tr style=\"text-align: right;\">\n",
       "      <th></th>\n",
       "      <th>Số dòng</th>\n",
       "    </tr>\n",
       "  </thead>\n",
       "  <tbody>\n",
       "    <tr>\n",
       "      <th>gender</th>\n",
       "      <td>87</td>\n",
       "    </tr>\n",
       "    <tr>\n",
       "      <th>age</th>\n",
       "      <td>87</td>\n",
       "    </tr>\n",
       "    <tr>\n",
       "      <th>hypertension</th>\n",
       "      <td>87</td>\n",
       "    </tr>\n",
       "    <tr>\n",
       "      <th>heart_disease</th>\n",
       "      <td>87</td>\n",
       "    </tr>\n",
       "    <tr>\n",
       "      <th>ever_married</th>\n",
       "      <td>87</td>\n",
       "    </tr>\n",
       "    <tr>\n",
       "      <th>work_type</th>\n",
       "      <td>87</td>\n",
       "    </tr>\n",
       "    <tr>\n",
       "      <th>Residence_type</th>\n",
       "      <td>87</td>\n",
       "    </tr>\n",
       "    <tr>\n",
       "      <th>avg_glucose_level</th>\n",
       "      <td>87</td>\n",
       "    </tr>\n",
       "    <tr>\n",
       "      <th>bmi</th>\n",
       "      <td>87</td>\n",
       "    </tr>\n",
       "    <tr>\n",
       "      <th>smoking_status</th>\n",
       "      <td>87</td>\n",
       "    </tr>\n",
       "    <tr>\n",
       "      <th>stroke</th>\n",
       "      <td>87</td>\n",
       "    </tr>\n",
       "  </tbody>\n",
       "</table>\n",
       "</div>"
      ],
      "text/plain": [
       "                   Số dòng\n",
       "gender                  87\n",
       "age                     87\n",
       "hypertension            87\n",
       "heart_disease           87\n",
       "ever_married            87\n",
       "work_type               87\n",
       "Residence_type          87\n",
       "avg_glucose_level       87\n",
       "bmi                     87\n",
       "smoking_status          87\n",
       "stroke                  87"
      ]
     },
     "execution_count": 86,
     "metadata": {},
     "output_type": "execute_result"
    }
   ],
   "source": [
    "pd.DataFrame(num_heart_disease_urban, columns = ['Số dòng'])"
   ]
  },
  {
   "cell_type": "markdown",
   "id": "bd20f1d5-f74d-4885-85ca-0b19d1cfd816",
   "metadata": {},
   "source": [
    "- Nhận xét: Số dòng tương ứng với số lượng mẫu thoả mãn điều kiện truy vấn. Có tổng cộng 27 mẫu thoả điều kiện"
   ]
  },
  {
   "cell_type": "code",
   "execution_count": 87,
   "id": "59456ec3-6213-46e6-856f-5eb7865f72e2",
   "metadata": {},
   "outputs": [
    {
     "data": {
      "text/html": [
       "<div>\n",
       "<style scoped>\n",
       "    .dataframe tbody tr th:only-of-type {\n",
       "        vertical-align: middle;\n",
       "    }\n",
       "\n",
       "    .dataframe tbody tr th {\n",
       "        vertical-align: top;\n",
       "    }\n",
       "\n",
       "    .dataframe thead th {\n",
       "        text-align: right;\n",
       "    }\n",
       "</style>\n",
       "<table border=\"1\" class=\"dataframe\">\n",
       "  <thead>\n",
       "    <tr style=\"text-align: right;\">\n",
       "      <th></th>\n",
       "      <th>Số dòng</th>\n",
       "    </tr>\n",
       "  </thead>\n",
       "  <tbody>\n",
       "    <tr>\n",
       "      <th>gender</th>\n",
       "      <td>74</td>\n",
       "    </tr>\n",
       "    <tr>\n",
       "      <th>age</th>\n",
       "      <td>74</td>\n",
       "    </tr>\n",
       "    <tr>\n",
       "      <th>hypertension</th>\n",
       "      <td>74</td>\n",
       "    </tr>\n",
       "    <tr>\n",
       "      <th>heart_disease</th>\n",
       "      <td>74</td>\n",
       "    </tr>\n",
       "    <tr>\n",
       "      <th>ever_married</th>\n",
       "      <td>74</td>\n",
       "    </tr>\n",
       "    <tr>\n",
       "      <th>work_type</th>\n",
       "      <td>74</td>\n",
       "    </tr>\n",
       "    <tr>\n",
       "      <th>Residence_type</th>\n",
       "      <td>74</td>\n",
       "    </tr>\n",
       "    <tr>\n",
       "      <th>avg_glucose_level</th>\n",
       "      <td>74</td>\n",
       "    </tr>\n",
       "    <tr>\n",
       "      <th>bmi</th>\n",
       "      <td>74</td>\n",
       "    </tr>\n",
       "    <tr>\n",
       "      <th>smoking_status</th>\n",
       "      <td>74</td>\n",
       "    </tr>\n",
       "    <tr>\n",
       "      <th>stroke</th>\n",
       "      <td>74</td>\n",
       "    </tr>\n",
       "  </tbody>\n",
       "</table>\n",
       "</div>"
      ],
      "text/plain": [
       "                   Số dòng\n",
       "gender                  74\n",
       "age                     74\n",
       "hypertension            74\n",
       "heart_disease           74\n",
       "ever_married            74\n",
       "work_type               74\n",
       "Residence_type          74\n",
       "avg_glucose_level       74\n",
       "bmi                     74\n",
       "smoking_status          74\n",
       "stroke                  74"
      ]
     },
     "execution_count": 87,
     "metadata": {},
     "output_type": "execute_result"
    }
   ],
   "source": [
    "pd.DataFrame(num_heart_disease_rural, columns = ['Số dòng'])"
   ]
  },
  {
   "cell_type": "markdown",
   "id": "ba7b8b49-7446-495f-a783-1515104d7709",
   "metadata": {},
   "source": [
    "- Nhận xét: Số dòng tương ứng với số lượng mẫu thoả mãn điều kiện truy vấn. Có tổng cộng 20 mẫu thoả điều kiện"
   ]
  },
  {
   "cell_type": "markdown",
   "id": "91a8b431-31c4-422c-876f-fe2d1da9d6d1",
   "metadata": {},
   "source": [
    "**Bước 5:** Tính tỉ lệ bằng cách lấy số lượng mẫu (bệnh nhân đột quỵ có tiền sử bệnh tim) chia cho tổng số lượng bệnh nhân đột quỵ, áp dụng cho cả thành thị `Urban` và nông thôn `Rural`"
   ]
  },
  {
   "cell_type": "code",
   "execution_count": 88,
   "id": "93edae4e-32b6-4637-a9ce-6225996fc5ff",
   "metadata": {},
   "outputs": [],
   "source": [
    "percent_heart_disease_urban = (num_heart_disease_urban[0] / num_stroke_urban[0]) * 100\n",
    "percent_heart_disease_rural = (num_heart_disease_rural[0] / num_stroke_rural[0]) * 100"
   ]
  },
  {
   "cell_type": "markdown",
   "id": "5a92d201-aabc-42cc-87f4-b78f7c0c77d6",
   "metadata": {},
   "source": [
    "**Bước6:** Trực quan hoá kết quả bằng biểu đồ tròn "
   ]
  },
  {
   "cell_type": "code",
   "execution_count": 89,
   "id": "b504ae60-c6f2-4ab1-85a7-cf3c65c0eee5",
   "metadata": {},
   "outputs": [
    {
     "data": {
      "image/png": "[encoded data removed]",
      "text/plain": [
       "<Figure size 576x720 with 1 Axes>"
      ]
     },
     "metadata": {},
     "output_type": "display_data"
    },
    {
     "data": {
      "image/png": "[encoded data removed]",
      "text/plain": [
       "<Figure size 576x720 with 1 Axes>"
      ]
     },
     "metadata": {},
     "output_type": "display_data"
    }
   ],
   "source": [
    "fig = plt.figure(0)\n",
    "ax = fig.add_axes([0,0,1,1])\n",
    "ax.axis('equal')\n",
    "names = ['Stroke without heart disease','Stroke with heart disease']\n",
    "ax.pie([100 - percent_heart_disease_urban,percent_heart_disease_urban], labels = names,autopct='%1.2f%%')\n",
    "plt.title(label='Urban',\n",
    "          fontsize=20,\n",
    "          color='green')\n",
    "plt.show()\n",
    "\n",
    "fig = plt.figure(1)\n",
    "ax = fig.add_axes([0,0,1,1])\n",
    "ax.pie([100 - percent_heart_disease_rural,percent_heart_disease_rural], labels = names,autopct='%1.2f%%')\n",
    "plt.title(label='Rural',\n",
    "          fontsize=20,\n",
    "          color='green')\n",
    "plt.show()"
   ]
  },
  {
   "cell_type": "markdown",
   "id": "c01f7b06-5a72-498e-82b8-93e6c33624e2",
   "metadata": {},
   "source": [
    "#### Nhận xét\n",
    "- Thông qua hai biểu đồ tròn kết quả, ta thấy được rằng: tỉ lệ người bị đột quỵ có tiền sử bệnh tim chiếm tỉ lệ không nhỏ (đều trên 70% ở cả hai tập dữ liệu thành thị và nông thôn)\n",
    "- Do đó có thể kết luận rằng: các tác nhân dẫn đến bệnh tim và bệnh tim mạch đều có khả năng làm con người bị đột quỵ. Việc chăm sóc một trái tim khoẻ ngay bây giờ là điều cấp thiết để bảo vệ sức khoẻ trong tương lai"
   ]
  },
  {
   "cell_type": "markdown",
   "id": "fd0dbb13-7d7b-4af0-bf23-1d194dcc5ac2",
   "metadata": {},
   "source": [
    "_____"
   ]
  },
  {
   "cell_type": "markdown",
   "id": "59754ab0-2436-44d0-b1ca-e505a437211a",
   "metadata": {},
   "source": [
    "#### Câu 2:"
   ]
  },
  {
   "cell_type": "markdown",
   "id": "2a1f7af7-e705-4737-9324-c8836aad674c",
   "metadata": {},
   "source": [
    "#### Đối với những người có lối sống không lành mạnh (hút thuốc, ăn thức ăn nhiều dầu mỡ, uống nước ngọt) thì chắc chắn họ luôn có khả năng bị đột quỵ. Tuy nhiên, ta tự hỏi: liệu có trường hợp nào sống lành mạnh mà vẫn có khả năng bị đột quỵ không? Và các trường hợp này chiếm tỉ lệ là bao nhiêu?"
   ]
  },
  {
   "cell_type": "markdown",
   "id": "025b190f-59d7-4cb6-af6f-21743e64c234",
   "metadata": {},
   "source": [
    "Làm rõ được câu hỏi này, chúng ta sẽ hiểu sâu hơn về bản chất của bệnh đột quỵ, ngoài lối sống không lành mạnh hay do bệnh tật thì còn có các yếu tố khác bên ngoài có thể chi phối, tác động đến bệnh lý của con người trong tương lai"
   ]
  },
  {
   "cell_type": "markdown",
   "id": "f52c91e1-1d74-4439-8919-11d5f6613691",
   "metadata": {},
   "source": [
    "**Bước 1:** Trích tất cả dữ liệu các bệnh nhân bị đột quỵ và thống kê số lượng mẫu"
   ]
  },
  {
   "cell_type": "code",
   "execution_count": 34,
   "id": "b069e6f7-d6c4-4eeb-8957-5f7943e93e99",
   "metadata": {},
   "outputs": [
    {
     "data": {
      "text/html": [
       "<div>\n",
       "<style scoped>\n",
       "    .dataframe tbody tr th:only-of-type {\n",
       "        vertical-align: middle;\n",
       "    }\n",
       "\n",
       "    .dataframe tbody tr th {\n",
       "        vertical-align: top;\n",
       "    }\n",
       "\n",
       "    .dataframe thead th {\n",
       "        text-align: right;\n",
       "    }\n",
       "</style>\n",
       "<table border=\"1\" class=\"dataframe\">\n",
       "  <thead>\n",
       "    <tr style=\"text-align: right;\">\n",
       "      <th></th>\n",
       "      <th>Số dòng</th>\n",
       "    </tr>\n",
       "  </thead>\n",
       "  <tbody>\n",
       "    <tr>\n",
       "      <th>gender</th>\n",
       "      <td>249</td>\n",
       "    </tr>\n",
       "    <tr>\n",
       "      <th>age</th>\n",
       "      <td>249</td>\n",
       "    </tr>\n",
       "    <tr>\n",
       "      <th>hypertension</th>\n",
       "      <td>249</td>\n",
       "    </tr>\n",
       "    <tr>\n",
       "      <th>heart_disease</th>\n",
       "      <td>249</td>\n",
       "    </tr>\n",
       "    <tr>\n",
       "      <th>ever_married</th>\n",
       "      <td>249</td>\n",
       "    </tr>\n",
       "    <tr>\n",
       "      <th>work_type</th>\n",
       "      <td>249</td>\n",
       "    </tr>\n",
       "    <tr>\n",
       "      <th>Residence_type</th>\n",
       "      <td>249</td>\n",
       "    </tr>\n",
       "    <tr>\n",
       "      <th>avg_glucose_level</th>\n",
       "      <td>249</td>\n",
       "    </tr>\n",
       "    <tr>\n",
       "      <th>bmi</th>\n",
       "      <td>249</td>\n",
       "    </tr>\n",
       "    <tr>\n",
       "      <th>smoking_status</th>\n",
       "      <td>249</td>\n",
       "    </tr>\n",
       "    <tr>\n",
       "      <th>stroke</th>\n",
       "      <td>249</td>\n",
       "    </tr>\n",
       "  </tbody>\n",
       "</table>\n",
       "</div>"
      ],
      "text/plain": [
       "                   Số dòng\n",
       "gender                 249\n",
       "age                    249\n",
       "hypertension           249\n",
       "heart_disease          249\n",
       "ever_married           249\n",
       "work_type              249\n",
       "Residence_type         249\n",
       "avg_glucose_level      249\n",
       "bmi                    249\n",
       "smoking_status         249\n",
       "stroke                 249"
      ]
     },
     "execution_count": 34,
     "metadata": {},
     "output_type": "execute_result"
    }
   ],
   "source": [
    "stroke_active = hcs_df.loc[(hcs_df['stroke'] == 1)]\n",
    "num_stroke_active = stroke_active.count(axis='rows')\n",
    "pd.DataFrame(num_stroke_active, columns = ['Số dòng'])"
   ]
  },
  {
   "cell_type": "markdown",
   "id": "a55e41d6-2f47-4c47-ab47-d492a75db9dc",
   "metadata": {},
   "source": [
    "- Nhận xét: Số dòng tương ứng với số lượng mẫu thoả mãn điều kiện truy vấn. Có tổng cộng 249 mẫu thoả điều kiện"
   ]
  },
  {
   "cell_type": "markdown",
   "id": "f843a475-85c6-43fc-bd23-5b430c703587",
   "metadata": {},
   "source": [
    "**Bước 2:** Lọc ra mẫu thoả điều kiện \"sức khoẻ bình thường\", tức là lượng đường huyết `avg_glucose_level` dưới 140, chỉ số cơ thể `bmi` dưới 30 và trạng thái hút thuốc `smoking_status` là never smoked (chưa hút thuốc lần nào)"
   ]
  },
  {
   "cell_type": "code",
   "execution_count": 35,
   "id": "34f8a33c-2c90-4464-bb45-0211c83911ac",
   "metadata": {},
   "outputs": [
    {
     "data": {
      "text/html": [
       "<div>\n",
       "<style scoped>\n",
       "    .dataframe tbody tr th:only-of-type {\n",
       "        vertical-align: middle;\n",
       "    }\n",
       "\n",
       "    .dataframe tbody tr th {\n",
       "        vertical-align: top;\n",
       "    }\n",
       "\n",
       "    .dataframe thead th {\n",
       "        text-align: right;\n",
       "    }\n",
       "</style>\n",
       "<table border=\"1\" class=\"dataframe\">\n",
       "  <thead>\n",
       "    <tr style=\"text-align: right;\">\n",
       "      <th></th>\n",
       "      <th>Số dòng</th>\n",
       "    </tr>\n",
       "  </thead>\n",
       "  <tbody>\n",
       "    <tr>\n",
       "      <th>gender</th>\n",
       "      <td>62</td>\n",
       "    </tr>\n",
       "    <tr>\n",
       "      <th>age</th>\n",
       "      <td>62</td>\n",
       "    </tr>\n",
       "    <tr>\n",
       "      <th>hypertension</th>\n",
       "      <td>62</td>\n",
       "    </tr>\n",
       "    <tr>\n",
       "      <th>heart_disease</th>\n",
       "      <td>62</td>\n",
       "    </tr>\n",
       "    <tr>\n",
       "      <th>ever_married</th>\n",
       "      <td>62</td>\n",
       "    </tr>\n",
       "    <tr>\n",
       "      <th>work_type</th>\n",
       "      <td>62</td>\n",
       "    </tr>\n",
       "    <tr>\n",
       "      <th>Residence_type</th>\n",
       "      <td>62</td>\n",
       "    </tr>\n",
       "    <tr>\n",
       "      <th>avg_glucose_level</th>\n",
       "      <td>62</td>\n",
       "    </tr>\n",
       "    <tr>\n",
       "      <th>bmi</th>\n",
       "      <td>62</td>\n",
       "    </tr>\n",
       "    <tr>\n",
       "      <th>smoking_status</th>\n",
       "      <td>62</td>\n",
       "    </tr>\n",
       "    <tr>\n",
       "      <th>stroke</th>\n",
       "      <td>62</td>\n",
       "    </tr>\n",
       "  </tbody>\n",
       "</table>\n",
       "</div>"
      ],
      "text/plain": [
       "                   Số dòng\n",
       "gender                  62\n",
       "age                     62\n",
       "hypertension            62\n",
       "heart_disease           62\n",
       "ever_married            62\n",
       "work_type               62\n",
       "Residence_type          62\n",
       "avg_glucose_level       62\n",
       "bmi                     62\n",
       "smoking_status          62\n",
       "stroke                  62"
      ]
     },
     "execution_count": 35,
     "metadata": {},
     "output_type": "execute_result"
    }
   ],
   "source": [
    "healthy_but_stroke = stroke_active.loc[(stroke_active['avg_glucose_level'] < 140.0) & \n",
    "                                       (stroke_active['bmi'] < 30.0) & \n",
    "                                       (stroke_active['smoking_status'] == 'never smoked')]\n",
    "num_healthy_but_stroke = healthy_but_stroke.count(axis='rows')\n",
    "pd.DataFrame(num_healthy_but_stroke, columns = ['Số dòng'])"
   ]
  },
  {
   "cell_type": "markdown",
   "id": "22ac76cb-3e8f-4ce5-8b0d-3ab57468c07d",
   "metadata": {},
   "source": [
    "- Nhận xét: Số dòng tương ứng với số lượng mẫu thoả mãn điều kiện truy vấn. Có tổng cộng 62 mẫu thoả điều kiện"
   ]
  },
  {
   "cell_type": "code",
   "execution_count": 95,
   "id": "0491ae7f-e19b-491e-be27-d0ae3538585c",
   "metadata": {},
   "outputs": [
    {
     "data": {
      "text/plain": [
       "Yes    49\n",
       "No     13\n",
       "Name: ever_married, dtype: int64"
      ]
     },
     "execution_count": 95,
     "metadata": {},
     "output_type": "execute_result"
    }
   ],
   "source": [
    "healthy_but_stroke['ever_married'].value_counts()"
   ]
  },
  {
   "cell_type": "code",
   "execution_count": 96,
   "id": "9b678f01-efcd-4f03-ac1e-d4919efe818a",
   "metadata": {},
   "outputs": [
    {
     "data": {
      "text/plain": [
       "Yes    3353\n",
       "No     1757\n",
       "Name: ever_married, dtype: int64"
      ]
     },
     "execution_count": 96,
     "metadata": {},
     "output_type": "execute_result"
    }
   ],
   "source": [
    "hcs_df['ever_married'].value_counts()"
   ]
  },
  {
   "cell_type": "markdown",
   "id": "4b962106-9bd1-4dc4-bd20-5c13d014b732",
   "metadata": {},
   "source": [
    "**Bước 3:** Tính tỉ lệ của mẫu thoả điều kiện chiếm trong tập mẫu lớn"
   ]
  },
  {
   "cell_type": "code",
   "execution_count": null,
   "id": "0dbdc07b-097b-4f74-9330-4c1b3489265c",
   "metadata": {},
   "outputs": [],
   "source": [
    "percent_healthy_but_stroke = (num_healthy_but_stroke[0] / num_stroke_active[0]) * 100"
   ]
  },
  {
   "cell_type": "markdown",
   "id": "f8c5f0ac-05a4-4ab8-95ad-8272719d8d83",
   "metadata": {},
   "source": [
    "**Bước 4:** Trực quan hoá kết quả"
   ]
  },
  {
   "cell_type": "code",
   "execution_count": 97,
   "id": "96a796a4-c962-4774-b474-913826b6ba24",
   "metadata": {},
   "outputs": [
    {
     "data": {
      "application/vnd.plotly.v1+json": {
       "config": {
        "plotlyServerURL": "https://plot.ly"
       },
       "data": [
        {
         "domain": {
          "x": [
           0,
           1
          ],
          "y": [
           0,
           1
          ]
         },
         "hovertemplate": "label=%{label}<br>value=%{value}<extra></extra>",
         "labels": [
          "stroke",
          "healthy but stroke"
         ],
         "legendgroup": "",
         "name": "",
         "showlegend": true,
         "type": "pie",
         "values": [
          75.1004016064257,
          24.899598393574294
         ]
        }
       ],
       "layout": {
        "autosize": true,
        "legend": {
         "tracegroupgap": 0
        },
        "margin": {
         "t": 60
        },
        "template": {
         "data": {
          "bar": [
           {
            "error_x": {
             "color": "#2a3f5f"
            },
            "error_y": {
             "color": "#2a3f5f"
            },
            "marker": {
             "line": {
              "color": "#E5ECF6",
              "width": 0.5
             },
             "pattern": {
              "fillmode": "overlay",
              "size": 10,
              "solidity": 0.2
             }
            },
            "type": "bar"
           }
          ],
          "barpolar": [
           {
            "marker": {
             "line": {
              "color": "#E5ECF6",
              "width": 0.5
             },
             "pattern": {
              "fillmode": "overlay",
              "size": 10,
              "solidity": 0.2
             }
            },
            "type": "barpolar"
           }
          ],
          "carpet": [
           {
            "aaxis": {
             "endlinecolor": "#2a3f5f",
             "gridcolor": "white",
             "linecolor": "white",
             "minorgridcolor": "white",
             "startlinecolor": "#2a3f5f"
            },
            "baxis": {
             "endlinecolor": "#2a3f5f",
             "gridcolor": "white",
             "linecolor": "white",
             "minorgridcolor": "white",
             "startlinecolor": "#2a3f5f"
            },
            "type": "carpet"
           }
          ],
          "choropleth": [
           {
            "colorbar": {
             "outlinewidth": 0,
             "ticks": ""
            },
            "type": "choropleth"
           }
          ],
          "contour": [
           {
            "colorbar": {
             "outlinewidth": 0,
             "ticks": ""
            },
            "colorscale": [
             [
              0,
              "#0d0887"
             ],
             [
              0.1111111111111111,
              "#46039f"
             ],
             [
              0.2222222222222222,
              "#7201a8"
             ],
             [
              0.3333333333333333,
              "#9c179e"
             ],
             [
              0.4444444444444444,
              "#bd3786"
             ],
             [
              0.5555555555555556,
              "#d8576b"
             ],
             [
              0.6666666666666666,
              "#ed7953"
             ],
             [
              0.7777777777777778,
              "#fb9f3a"
             ],
             [
              0.8888888888888888,
              "#fdca26"
             ],
             [
              1,
              "#f0f921"
             ]
            ],
            "type": "contour"
           }
          ],
          "contourcarpet": [
           {
            "colorbar": {
             "outlinewidth": 0,
             "ticks": ""
            },
            "type": "contourcarpet"
           }
          ],
          "heatmap": [
           {
            "colorbar": {
             "outlinewidth": 0,
             "ticks": ""
            },
            "colorscale": [
             [
              0,
              "#0d0887"
             ],
             [
              0.1111111111111111,
              "#46039f"
             ],
             [
              0.2222222222222222,
              "#7201a8"
             ],
             [
              0.3333333333333333,
              "#9c179e"
             ],
             [
              0.4444444444444444,
              "#bd3786"
             ],
             [
              0.5555555555555556,
              "#d8576b"
             ],
             [
              0.6666666666666666,
              "#ed7953"
             ],
             [
              0.7777777777777778,
              "#fb9f3a"
             ],
             [
              0.8888888888888888,
              "#fdca26"
             ],
             [
              1,
              "#f0f921"
             ]
            ],
            "type": "heatmap"
           }
          ],
          "heatmapgl": [
           {
            "colorbar": {
             "outlinewidth": 0,
             "ticks": ""
            },
            "colorscale": [
             [
              0,
              "#0d0887"
             ],
             [
              0.1111111111111111,
              "#46039f"
             ],
             [
              0.2222222222222222,
              "#7201a8"
             ],
             [
              0.3333333333333333,
              "#9c179e"
             ],
             [
              0.4444444444444444,
              "#bd3786"
             ],
             [
              0.5555555555555556,
              "#d8576b"
             ],
             [
              0.6666666666666666,
              "#ed7953"
             ],
             [
              0.7777777777777778,
              "#fb9f3a"
             ],
             [
              0.8888888888888888,
              "#fdca26"
             ],
             [
              1,
              "#f0f921"
             ]
            ],
            "type": "heatmapgl"
           }
          ],
          "histogram": [
           {
            "marker": {
             "pattern": {
              "fillmode": "overlay",
              "size": 10,
              "solidity": 0.2
             }
            },
            "type": "histogram"
           }
          ],
          "histogram2d": [
           {
            "colorbar": {
             "outlinewidth": 0,
             "ticks": ""
            },
            "colorscale": [
             [
              0,
              "#0d0887"
             ],
             [
              0.1111111111111111,
              "#46039f"
             ],
             [
              0.2222222222222222,
              "#7201a8"
             ],
             [
              0.3333333333333333,
              "#9c179e"
             ],
             [
              0.4444444444444444,
              "#bd3786"
             ],
             [
              0.5555555555555556,
              "#d8576b"
             ],
             [
              0.6666666666666666,
              "#ed7953"
             ],
             [
              0.7777777777777778,
              "#fb9f3a"
             ],
             [
              0.8888888888888888,
              "#fdca26"
             ],
             [
              1,
              "#f0f921"
             ]
            ],
            "type": "histogram2d"
           }
          ],
          "histogram2dcontour": [
           {
            "colorbar": {
             "outlinewidth": 0,
             "ticks": ""
            },
            "colorscale": [
             [
              0,
              "#0d0887"
             ],
             [
              0.1111111111111111,
              "#46039f"
             ],
             [
              0.2222222222222222,
              "#7201a8"
             ],
             [
              0.3333333333333333,
              "#9c179e"
             ],
             [
              0.4444444444444444,
              "#bd3786"
             ],
             [
              0.5555555555555556,
              "#d8576b"
             ],
             [
              0.6666666666666666,
              "#ed7953"
             ],
             [
              0.7777777777777778,
              "#fb9f3a"
             ],
             [
              0.8888888888888888,
              "#fdca26"
             ],
             [
              1,
              "#f0f921"
             ]
            ],
            "type": "histogram2dcontour"
           }
          ],
          "mesh3d": [
           {
            "colorbar": {
             "outlinewidth": 0,
             "ticks": ""
            },
            "type": "mesh3d"
           }
          ],
          "parcoords": [
           {
            "line": {
             "colorbar": {
              "outlinewidth": 0,
              "ticks": ""
             }
            },
            "type": "parcoords"
           }
          ],
          "pie": [
           {
            "automargin": true,
            "type": "pie"
           }
          ],
          "scatter": [
           {
            "marker": {
             "colorbar": {
              "outlinewidth": 0,
              "ticks": ""
             }
            },
            "type": "scatter"
           }
          ],
          "scatter3d": [
           {
            "line": {
             "colorbar": {
              "outlinewidth": 0,
              "ticks": ""
             }
            },
            "marker": {
             "colorbar": {
              "outlinewidth": 0,
              "ticks": ""
             }
            },
            "type": "scatter3d"
           }
          ],
          "scattercarpet": [
           {
            "marker": {
             "colorbar": {
              "outlinewidth": 0,
              "ticks": ""
             }
            },
            "type": "scattercarpet"
           }
          ],
          "scattergeo": [
           {
            "marker": {
             "colorbar": {
              "outlinewidth": 0,
              "ticks": ""
             }
            },
            "type": "scattergeo"
           }
          ],
          "scattergl": [
           {
            "marker": {
             "colorbar": {
              "outlinewidth": 0,
              "ticks": ""
             }
            },
            "type": "scattergl"
           }
          ],
          "scattermapbox": [
           {
            "marker": {
             "colorbar": {
              "outlinewidth": 0,
              "ticks": ""
             }
            },
            "type": "scattermapbox"
           }
          ],
          "scatterpolar": [
           {
            "marker": {
             "colorbar": {
              "outlinewidth": 0,
              "ticks": ""
             }
            },
            "type": "scatterpolar"
           }
          ],
          "scatterpolargl": [
           {
            "marker": {
             "colorbar": {
              "outlinewidth": 0,
              "ticks": ""
             }
            },
            "type": "scatterpolargl"
           }
          ],
          "scatterternary": [
           {
            "marker": {
             "colorbar": {
              "outlinewidth": 0,
              "ticks": ""
             }
            },
            "type": "scatterternary"
           }
          ],
          "surface": [
           {
            "colorbar": {
             "outlinewidth": 0,
             "ticks": ""
            },
            "colorscale": [
             [
              0,
              "#0d0887"
             ],
             [
              0.1111111111111111,
              "#46039f"
             ],
             [
              0.2222222222222222,
              "#7201a8"
             ],
             [
              0.3333333333333333,
              "#9c179e"
             ],
             [
              0.4444444444444444,
              "#bd3786"
             ],
             [
              0.5555555555555556,
              "#d8576b"
             ],
             [
              0.6666666666666666,
              "#ed7953"
             ],
             [
              0.7777777777777778,
              "#fb9f3a"
             ],
             [
              0.8888888888888888,
              "#fdca26"
             ],
             [
              1,
              "#f0f921"
             ]
            ],
            "type": "surface"
           }
          ],
          "table": [
           {
            "cells": {
             "fill": {
              "color": "#EBF0F8"
             },
             "line": {
              "color": "white"
             }
            },
            "header": {
             "fill": {
              "color": "#C8D4E3"
             },
             "line": {
              "color": "white"
             }
            },
            "type": "table"
           }
          ]
         },
         "layout": {
          "annotationdefaults": {
           "arrowcolor": "#2a3f5f",
           "arrowhead": 0,
           "arrowwidth": 1
          },
          "autotypenumbers": "strict",
          "coloraxis": {
           "colorbar": {
            "outlinewidth": 0,
            "ticks": ""
           }
          },
          "colorscale": {
           "diverging": [
            [
             0,
             "#8e0152"
            ],
            [
             0.1,
             "#c51b7d"
            ],
            [
             0.2,
             "#de77ae"
            ],
            [
             0.3,
             "#f1b6da"
            ],
            [
             0.4,
             "#fde0ef"
            ],
            [
             0.5,
             "#f7f7f7"
            ],
            [
             0.6,
             "#e6f5d0"
            ],
            [
             0.7,
             "#b8e186"
            ],
            [
             0.8,
             "#7fbc41"
            ],
            [
             0.9,
             "#4d9221"
            ],
            [
             1,
             "#276419"
            ]
           ],
           "sequential": [
            [
             0,
             "#0d0887"
            ],
            [
             0.1111111111111111,
             "#46039f"
            ],
            [
             0.2222222222222222,
             "#7201a8"
            ],
            [
             0.3333333333333333,
             "#9c179e"
            ],
            [
             0.4444444444444444,
             "#bd3786"
            ],
            [
             0.5555555555555556,
             "#d8576b"
            ],
            [
             0.6666666666666666,
             "#ed7953"
            ],
            [
             0.7777777777777778,
             "#fb9f3a"
            ],
            [
             0.8888888888888888,
             "#fdca26"
            ],
            [
             1,
             "#f0f921"
            ]
           ],
           "sequentialminus": [
            [
             0,
             "#0d0887"
            ],
            [
             0.1111111111111111,
             "#46039f"
            ],
            [
             0.2222222222222222,
             "#7201a8"
            ],
            [
             0.3333333333333333,
             "#9c179e"
            ],
            [
             0.4444444444444444,
             "#bd3786"
            ],
            [
             0.5555555555555556,
             "#d8576b"
            ],
            [
             0.6666666666666666,
             "#ed7953"
            ],
            [
             0.7777777777777778,
             "#fb9f3a"
            ],
            [
             0.8888888888888888,
             "#fdca26"
            ],
            [
             1,
             "#f0f921"
            ]
           ]
          },
          "colorway": [
           "#636efa",
           "#EF553B",
           "#00cc96",
           "#ab63fa",
           "#FFA15A",
           "#19d3f3",
           "#FF6692",
           "#B6E880",
           "#FF97FF",
           "#FECB52"
          ],
          "font": {
           "color": "#2a3f5f"
          },
          "geo": {
           "bgcolor": "white",
           "lakecolor": "white",
           "landcolor": "#E5ECF6",
           "showlakes": true,
           "showland": true,
           "subunitcolor": "white"
          },
          "hoverlabel": {
           "align": "left"
          },
          "hovermode": "closest",
          "mapbox": {
           "style": "light"
          },
          "paper_bgcolor": "white",
          "plot_bgcolor": "#E5ECF6",
          "polar": {
           "angularaxis": {
            "gridcolor": "white",
            "linecolor": "white",
            "ticks": ""
           },
           "bgcolor": "#E5ECF6",
           "radialaxis": {
            "gridcolor": "white",
            "linecolor": "white",
            "ticks": ""
           }
          },
          "scene": {
           "xaxis": {
            "backgroundcolor": "#E5ECF6",
            "gridcolor": "white",
            "gridwidth": 2,
            "linecolor": "white",
            "showbackground": true,
            "ticks": "",
            "zerolinecolor": "white"
           },
           "yaxis": {
            "backgroundcolor": "#E5ECF6",
            "gridcolor": "white",
            "gridwidth": 2,
            "linecolor": "white",
            "showbackground": true,
            "ticks": "",
            "zerolinecolor": "white"
           },
           "zaxis": {
            "backgroundcolor": "#E5ECF6",
            "gridcolor": "white",
            "gridwidth": 2,
            "linecolor": "white",
            "showbackground": true,
            "ticks": "",
            "zerolinecolor": "white"
           }
          },
          "shapedefaults": {
           "line": {
            "color": "#2a3f5f"
           }
          },
          "ternary": {
           "aaxis": {
            "gridcolor": "white",
            "linecolor": "white",
            "ticks": ""
           },
           "baxis": {
            "gridcolor": "white",
            "linecolor": "white",
            "ticks": ""
           },
           "bgcolor": "#E5ECF6",
           "caxis": {
            "gridcolor": "white",
            "linecolor": "white",
            "ticks": ""
           }
          },
          "title": {
           "x": 0.05
          },
          "xaxis": {
           "automargin": true,
           "gridcolor": "white",
           "linecolor": "white",
           "ticks": "",
           "title": {
            "standoff": 15
           },
           "zerolinecolor": "white",
           "zerolinewidth": 2
          },
          "yaxis": {
           "automargin": true,
           "gridcolor": "white",
           "linecolor": "white",
           "ticks": "",
           "title": {
            "standoff": 15
           },
           "zerolinecolor": "white",
           "zerolinewidth": 2
          }
         }
        }
       }
      },
      "image/png": "[encoded data removed]",
      "text/html": [
       "<div>                            <div id=\"bb639e09-42f5-475a-bf64-731891548d8b\" class=\"plotly-graph-div\" style=\"height:525px; width:100%;\"></div>            <script type=\"text/javascript\">                require([\"plotly\"], function(Plotly) {                    window.PLOTLYENV=window.PLOTLYENV || {};                                    if (document.getElementById(\"bb639e09-42f5-475a-bf64-731891548d8b\")) {                    Plotly.newPlot(                        \"bb639e09-42f5-475a-bf64-731891548d8b\",                        [{\"domain\":{\"x\":[0.0,1.0],\"y\":[0.0,1.0]},\"hovertemplate\":\"label=%{label}<br>value=%{value}<extra></extra>\",\"labels\":[\"stroke\",\"healthy but stroke\"],\"legendgroup\":\"\",\"name\":\"\",\"showlegend\":true,\"values\":[75.1004016064257,24.899598393574294],\"type\":\"pie\"}],                        {\"template\":{\"data\":{\"bar\":[{\"error_x\":{\"color\":\"#2a3f5f\"},\"error_y\":{\"color\":\"#2a3f5f\"},\"marker\":{\"line\":{\"color\":\"#E5ECF6\",\"width\":0.5},\"pattern\":{\"fillmode\":\"overlay\",\"size\":10,\"solidity\":0.2}},\"type\":\"bar\"}],\"barpolar\":[{\"marker\":{\"line\":{\"color\":\"#E5ECF6\",\"width\":0.5},\"pattern\":{\"fillmode\":\"overlay\",\"size\":10,\"solidity\":0.2}},\"type\":\"barpolar\"}],\"carpet\":[{\"aaxis\":{\"endlinecolor\":\"#2a3f5f\",\"gridcolor\":\"white\",\"linecolor\":\"white\",\"minorgridcolor\":\"white\",\"startlinecolor\":\"#2a3f5f\"},\"baxis\":{\"endlinecolor\":\"#2a3f5f\",\"gridcolor\":\"white\",\"linecolor\":\"white\",\"minorgridcolor\":\"white\",\"startlinecolor\":\"#2a3f5f\"},\"type\":\"carpet\"}],\"choropleth\":[{\"colorbar\":{\"outlinewidth\":0,\"ticks\":\"\"},\"type\":\"choropleth\"}],\"contour\":[{\"colorbar\":{\"outlinewidth\":0,\"ticks\":\"\"},\"colorscale\":[[0.0,\"#0d0887\"],[0.1111111111111111,\"#46039f\"],[0.2222222222222222,\"#7201a8\"],[0.3333333333333333,\"#9c179e\"],[0.4444444444444444,\"#bd3786\"],[0.5555555555555556,\"#d8576b\"],[0.6666666666666666,\"#ed7953\"],[0.7777777777777778,\"#fb9f3a\"],[0.8888888888888888,\"#fdca26\"],[1.0,\"#f0f921\"]],\"type\":\"contour\"}],\"contourcarpet\":[{\"colorbar\":{\"outlinewidth\":0,\"ticks\":\"\"},\"type\":\"contourcarpet\"}],\"heatmap\":[{\"colorbar\":{\"outlinewidth\":0,\"ticks\":\"\"},\"colorscale\":[[0.0,\"#0d0887\"],[0.1111111111111111,\"#46039f\"],[0.2222222222222222,\"#7201a8\"],[0.3333333333333333,\"#9c179e\"],[0.4444444444444444,\"#bd3786\"],[0.5555555555555556,\"#d8576b\"],[0.6666666666666666,\"#ed7953\"],[0.7777777777777778,\"#fb9f3a\"],[0.8888888888888888,\"#fdca26\"],[1.0,\"#f0f921\"]],\"type\":\"heatmap\"}],\"heatmapgl\":[{\"colorbar\":{\"outlinewidth\":0,\"ticks\":\"\"},\"colorscale\":[[0.0,\"#0d0887\"],[0.1111111111111111,\"#46039f\"],[0.2222222222222222,\"#7201a8\"],[0.3333333333333333,\"#9c179e\"],[0.4444444444444444,\"#bd3786\"],[0.5555555555555556,\"#d8576b\"],[0.6666666666666666,\"#ed7953\"],[0.7777777777777778,\"#fb9f3a\"],[0.8888888888888888,\"#fdca26\"],[1.0,\"#f0f921\"]],\"type\":\"heatmapgl\"}],\"histogram\":[{\"marker\":{\"pattern\":{\"fillmode\":\"overlay\",\"size\":10,\"solidity\":0.2}},\"type\":\"histogram\"}],\"histogram2d\":[{\"colorbar\":{\"outlinewidth\":0,\"ticks\":\"\"},\"colorscale\":[[0.0,\"#0d0887\"],[0.1111111111111111,\"#46039f\"],[0.2222222222222222,\"#7201a8\"],[0.3333333333333333,\"#9c179e\"],[0.4444444444444444,\"#bd3786\"],[0.5555555555555556,\"#d8576b\"],[0.6666666666666666,\"#ed7953\"],[0.7777777777777778,\"#fb9f3a\"],[0.8888888888888888,\"#fdca26\"],[1.0,\"#f0f921\"]],\"type\":\"histogram2d\"}],\"histogram2dcontour\":[{\"colorbar\":{\"outlinewidth\":0,\"ticks\":\"\"},\"colorscale\":[[0.0,\"#0d0887\"],[0.1111111111111111,\"#46039f\"],[0.2222222222222222,\"#7201a8\"],[0.3333333333333333,\"#9c179e\"],[0.4444444444444444,\"#bd3786\"],[0.5555555555555556,\"#d8576b\"],[0.6666666666666666,\"#ed7953\"],[0.7777777777777778,\"#fb9f3a\"],[0.8888888888888888,\"#fdca26\"],[1.0,\"#f0f921\"]],\"type\":\"histogram2dcontour\"}],\"mesh3d\":[{\"colorbar\":{\"outlinewidth\":0,\"ticks\":\"\"},\"type\":\"mesh3d\"}],\"parcoords\":[{\"line\":{\"colorbar\":{\"outlinewidth\":0,\"ticks\":\"\"}},\"type\":\"parcoords\"}],\"pie\":[{\"automargin\":true,\"type\":\"pie\"}],\"scatter\":[{\"marker\":{\"colorbar\":{\"outlinewidth\":0,\"ticks\":\"\"}},\"type\":\"scatter\"}],\"scatter3d\":[{\"line\":{\"colorbar\":{\"outlinewidth\":0,\"ticks\":\"\"}},\"marker\":{\"colorbar\":{\"outlinewidth\":0,\"ticks\":\"\"}},\"type\":\"scatter3d\"}],\"scattercarpet\":[{\"marker\":{\"colorbar\":{\"outlinewidth\":0,\"ticks\":\"\"}},\"type\":\"scattercarpet\"}],\"scattergeo\":[{\"marker\":{\"colorbar\":{\"outlinewidth\":0,\"ticks\":\"\"}},\"type\":\"scattergeo\"}],\"scattergl\":[{\"marker\":{\"colorbar\":{\"outlinewidth\":0,\"ticks\":\"\"}},\"type\":\"scattergl\"}],\"scattermapbox\":[{\"marker\":{\"colorbar\":{\"outlinewidth\":0,\"ticks\":\"\"}},\"type\":\"scattermapbox\"}],\"scatterpolar\":[{\"marker\":{\"colorbar\":{\"outlinewidth\":0,\"ticks\":\"\"}},\"type\":\"scatterpolar\"}],\"scatterpolargl\":[{\"marker\":{\"colorbar\":{\"outlinewidth\":0,\"ticks\":\"\"}},\"type\":\"scatterpolargl\"}],\"scatterternary\":[{\"marker\":{\"colorbar\":{\"outlinewidth\":0,\"ticks\":\"\"}},\"type\":\"scatterternary\"}],\"surface\":[{\"colorbar\":{\"outlinewidth\":0,\"ticks\":\"\"},\"colorscale\":[[0.0,\"#0d0887\"],[0.1111111111111111,\"#46039f\"],[0.2222222222222222,\"#7201a8\"],[0.3333333333333333,\"#9c179e\"],[0.4444444444444444,\"#bd3786\"],[0.5555555555555556,\"#d8576b\"],[0.6666666666666666,\"#ed7953\"],[0.7777777777777778,\"#fb9f3a\"],[0.8888888888888888,\"#fdca26\"],[1.0,\"#f0f921\"]],\"type\":\"surface\"}],\"table\":[{\"cells\":{\"fill\":{\"color\":\"#EBF0F8\"},\"line\":{\"color\":\"white\"}},\"header\":{\"fill\":{\"color\":\"#C8D4E3\"},\"line\":{\"color\":\"white\"}},\"type\":\"table\"}]},\"layout\":{\"annotationdefaults\":{\"arrowcolor\":\"#2a3f5f\",\"arrowhead\":0,\"arrowwidth\":1},\"autotypenumbers\":\"strict\",\"coloraxis\":{\"colorbar\":{\"outlinewidth\":0,\"ticks\":\"\"}},\"colorscale\":{\"diverging\":[[0,\"#8e0152\"],[0.1,\"#c51b7d\"],[0.2,\"#de77ae\"],[0.3,\"#f1b6da\"],[0.4,\"#fde0ef\"],[0.5,\"#f7f7f7\"],[0.6,\"#e6f5d0\"],[0.7,\"#b8e186\"],[0.8,\"#7fbc41\"],[0.9,\"#4d9221\"],[1,\"#276419\"]],\"sequential\":[[0.0,\"#0d0887\"],[0.1111111111111111,\"#46039f\"],[0.2222222222222222,\"#7201a8\"],[0.3333333333333333,\"#9c179e\"],[0.4444444444444444,\"#bd3786\"],[0.5555555555555556,\"#d8576b\"],[0.6666666666666666,\"#ed7953\"],[0.7777777777777778,\"#fb9f3a\"],[0.8888888888888888,\"#fdca26\"],[1.0,\"#f0f921\"]],\"sequentialminus\":[[0.0,\"#0d0887\"],[0.1111111111111111,\"#46039f\"],[0.2222222222222222,\"#7201a8\"],[0.3333333333333333,\"#9c179e\"],[0.4444444444444444,\"#bd3786\"],[0.5555555555555556,\"#d8576b\"],[0.6666666666666666,\"#ed7953\"],[0.7777777777777778,\"#fb9f3a\"],[0.8888888888888888,\"#fdca26\"],[1.0,\"#f0f921\"]]},\"colorway\":[\"#636efa\",\"#EF553B\",\"#00cc96\",\"#ab63fa\",\"#FFA15A\",\"#19d3f3\",\"#FF6692\",\"#B6E880\",\"#FF97FF\",\"#FECB52\"],\"font\":{\"color\":\"#2a3f5f\"},\"geo\":{\"bgcolor\":\"white\",\"lakecolor\":\"white\",\"landcolor\":\"#E5ECF6\",\"showlakes\":true,\"showland\":true,\"subunitcolor\":\"white\"},\"hoverlabel\":{\"align\":\"left\"},\"hovermode\":\"closest\",\"mapbox\":{\"style\":\"light\"},\"paper_bgcolor\":\"white\",\"plot_bgcolor\":\"#E5ECF6\",\"polar\":{\"angularaxis\":{\"gridcolor\":\"white\",\"linecolor\":\"white\",\"ticks\":\"\"},\"bgcolor\":\"#E5ECF6\",\"radialaxis\":{\"gridcolor\":\"white\",\"linecolor\":\"white\",\"ticks\":\"\"}},\"scene\":{\"xaxis\":{\"backgroundcolor\":\"#E5ECF6\",\"gridcolor\":\"white\",\"gridwidth\":2,\"linecolor\":\"white\",\"showbackground\":true,\"ticks\":\"\",\"zerolinecolor\":\"white\"},\"yaxis\":{\"backgroundcolor\":\"#E5ECF6\",\"gridcolor\":\"white\",\"gridwidth\":2,\"linecolor\":\"white\",\"showbackground\":true,\"ticks\":\"\",\"zerolinecolor\":\"white\"},\"zaxis\":{\"backgroundcolor\":\"#E5ECF6\",\"gridcolor\":\"white\",\"gridwidth\":2,\"linecolor\":\"white\",\"showbackground\":true,\"ticks\":\"\",\"zerolinecolor\":\"white\"}},\"shapedefaults\":{\"line\":{\"color\":\"#2a3f5f\"}},\"ternary\":{\"aaxis\":{\"gridcolor\":\"white\",\"linecolor\":\"white\",\"ticks\":\"\"},\"baxis\":{\"gridcolor\":\"white\",\"linecolor\":\"white\",\"ticks\":\"\"},\"bgcolor\":\"#E5ECF6\",\"caxis\":{\"gridcolor\":\"white\",\"linecolor\":\"white\",\"ticks\":\"\"}},\"title\":{\"x\":0.05},\"xaxis\":{\"automargin\":true,\"gridcolor\":\"white\",\"linecolor\":\"white\",\"ticks\":\"\",\"title\":{\"standoff\":15},\"zerolinecolor\":\"white\",\"zerolinewidth\":2},\"yaxis\":{\"automargin\":true,\"gridcolor\":\"white\",\"linecolor\":\"white\",\"ticks\":\"\",\"title\":{\"standoff\":15},\"zerolinecolor\":\"white\",\"zerolinewidth\":2}}},\"legend\":{\"tracegroupgap\":0},\"margin\":{\"t\":60}},                        {\"responsive\": true}                    ).then(function(){\n",
       "                            \n",
       "var gd = document.getElementById('bb639e09-42f5-475a-bf64-731891548d8b');\n",
       "var x = new MutationObserver(function (mutations, observer) {{\n",
       "        var display = window.getComputedStyle(gd).display;\n",
       "        if (!display || display === 'none') {{\n",
       "            console.log([gd, 'removed!']);\n",
       "            Plotly.purge(gd);\n",
       "            observer.disconnect();\n",
       "        }}\n",
       "}});\n",
       "\n",
       "// Listen for the removal of the full notebook cells\n",
       "var notebookContainer = gd.closest('#notebook-container');\n",
       "if (notebookContainer) {{\n",
       "    x.observe(notebookContainer, {childList: true});\n",
       "}}\n",
       "\n",
       "// Listen for the clearing of the current output cell\n",
       "var outputEl = gd.closest('.output');\n",
       "if (outputEl) {{\n",
       "    x.observe(outputEl, {childList: true});\n",
       "}}\n",
       "\n",
       "                        })                };                });            </script>        </div>"
      ]
     },
     "metadata": {},
     "output_type": "display_data"
    }
   ],
   "source": [
    "fig = pxe.pie(values=[(100 - percent_healthy_but_stroke), percent_healthy_but_stroke], names=['stroke', 'healthy but stroke'])\n",
    "fig.show()"
   ]
  },
  {
   "cell_type": "markdown",
   "id": "77b6724b-300e-42f9-a198-d5be5129e281",
   "metadata": {},
   "source": [
    "#### Nhận xét:\n",
    "- Theo biểu đồ tròn, ta thấy rằng tỉ lệ người sống lành mạnh (tức là không hút thuốc, chỉ số cơ thể ổn định) (chiếm ~25%) vẫn có khả năng bị đột quỵ.\n",
    "- Các yếu tố tác động khác có thể kể đến là do giới tính `gender`, công việc `work_type` hay môi trường sống `Residence_type`\n",
    "- Tuy nhiên, hiện tại ta không thể kết luận là do một trong ba yếu tố trên ảnh hưởng, hay là yếu tố nào ảnh hưởng nhất. Vì dữ liệu ở các trường này đang bị bias (thiên vị). Dưới đây là minh chứng:"
   ]
  },
  {
   "cell_type": "markdown",
   "id": "91ddd84b-cf75-44ef-b84d-202bd96ef412",
   "metadata": {},
   "source": [
    "#### Tính bias trong tập dữ liệu"
   ]
  },
  {
   "cell_type": "code",
   "execution_count": 100,
   "id": "3133a379-4e36-4d3c-8515-8f50f82f7726",
   "metadata": {},
   "outputs": [
    {
     "data": {
      "text/plain": [
       "Female    2994\n",
       "Male      2115\n",
       "Other        1\n",
       "Name: gender, dtype: int64"
      ]
     },
     "execution_count": 100,
     "metadata": {},
     "output_type": "execute_result"
    }
   ],
   "source": [
    "hcs_df['gender'].value_counts()"
   ]
  },
  {
   "cell_type": "code",
   "execution_count": 102,
   "id": "ae250738-df8a-4c80-8d7b-a14eec2dd8cf",
   "metadata": {},
   "outputs": [
    {
     "data": {
      "text/plain": [
       "Private          2925\n",
       "Self-employed     819\n",
       "children          687\n",
       "Govt_job          657\n",
       "Never_worked       22\n",
       "Name: work_type, dtype: int64"
      ]
     },
     "execution_count": 102,
     "metadata": {},
     "output_type": "execute_result"
    }
   ],
   "source": [
    "hcs_df['work_type'].value_counts()"
   ]
  },
  {
   "cell_type": "code",
   "execution_count": 103,
   "id": "819df5f4-2f42-4036-9b5c-a633e16c7faf",
   "metadata": {},
   "outputs": [
    {
     "data": {
      "text/plain": [
       "Urban    2596\n",
       "Rural    2514\n",
       "Name: Residence_type, dtype: int64"
      ]
     },
     "execution_count": 103,
     "metadata": {},
     "output_type": "execute_result"
    }
   ],
   "source": [
    "hcs_df['Residence_type'].value_counts()"
   ]
  },
  {
   "cell_type": "markdown",
   "id": "2f4475c9-c3c4-4843-8341-daa14044d2ab",
   "metadata": {},
   "source": [
    "____"
   ]
  },
  {
   "cell_type": "markdown",
   "id": "00dd76ee-be70-46af-bea2-3fe51bccbe41",
   "metadata": {},
   "source": [
    "### Giữa những người đã từng hoặc đang hút thuốc và những người chưa hút thuốc bao giờ thì tỷ lệ bị mắc bệnh chênh lệch bao nhiêu?"
   ]
  },
  {
   "cell_type": "markdown",
   "id": "8b63637e-b956-4ea6-b695-6df30dbdcc72",
   "metadata": {},
   "source": [
    "- Để lấy thông tin người này có bị mắc bệnh không, ta xét 3 cột hypertension, heart_disease, stroke, nếu 1 trong 3 cột nếu có bị (tương đương số 1) thì ta cho người này có bệnh (True).\n",
    "- Từ đó ta tạo thêm cột has_disease để lưu boolean (True, False) rằng người này có bệnh hay không"
   ]
  },
  {
   "cell_type": "code",
   "execution_count": 37,
   "id": "425f492c-e88f-49c7-b55c-16fa2684eac6",
   "metadata": {},
   "outputs": [
    {
     "data": {
      "text/plain": [
       "0        True\n",
       "1        True\n",
       "2        True\n",
       "3        True\n",
       "4        True\n",
       "        ...  \n",
       "5105     True\n",
       "5106    False\n",
       "5107    False\n",
       "5108    False\n",
       "5109    False\n",
       "Name: has_disease, Length: 5110, dtype: bool"
      ]
     },
     "execution_count": 37,
     "metadata": {},
     "output_type": "execute_result"
    }
   ],
   "source": [
    "copy_hcs_df = hcs_df.copy()\n",
    "has_disease = (hcs_df['hypertension'] == 1) | (hcs_df['heart_disease'] == 1) | (hcs_df['stroke'] == 1)\n",
    "copy_hcs_df['has_disease'] = has_disease\n",
    "\n",
    "copy_hcs_df['has_disease']"
   ]
  },
  {
   "cell_type": "markdown",
   "id": "14aa9051-93f5-4ad2-8c5c-707ab36a57e8",
   "metadata": {},
   "source": [
    "- Ta group 2 cột smoking_status và has_disease vừa được tạo ở bước trên để tính phân bố dựa theo smoking_status\n",
    "- Sau đó tính tỷ lệ mắc bệnh bằng cách chia tổng của từng loại smoking_status"
   ]
  },
  {
   "cell_type": "code",
   "execution_count": 38,
   "id": "a9ab44fe-4dc7-427a-821f-1df05a779086",
   "metadata": {},
   "outputs": [
    {
     "data": {
      "text/html": [
       "<div>\n",
       "<style scoped>\n",
       "    .dataframe tbody tr th:only-of-type {\n",
       "        vertical-align: middle;\n",
       "    }\n",
       "\n",
       "    .dataframe tbody tr th {\n",
       "        vertical-align: top;\n",
       "    }\n",
       "\n",
       "    .dataframe thead th {\n",
       "        text-align: right;\n",
       "    }\n",
       "</style>\n",
       "<table border=\"1\" class=\"dataframe\">\n",
       "  <thead>\n",
       "    <tr style=\"text-align: right;\">\n",
       "      <th>smoking_status</th>\n",
       "      <th>formerly smoked</th>\n",
       "      <th>never smoked</th>\n",
       "      <th>smokes</th>\n",
       "    </tr>\n",
       "    <tr>\n",
       "      <th>has_disease</th>\n",
       "      <th></th>\n",
       "      <th></th>\n",
       "      <th></th>\n",
       "    </tr>\n",
       "  </thead>\n",
       "  <tbody>\n",
       "    <tr>\n",
       "      <th>False</th>\n",
       "      <td>0.752542</td>\n",
       "      <td>0.860594</td>\n",
       "      <td>0.795944</td>\n",
       "    </tr>\n",
       "    <tr>\n",
       "      <th>True</th>\n",
       "      <td>0.247458</td>\n",
       "      <td>0.139406</td>\n",
       "      <td>0.204056</td>\n",
       "    </tr>\n",
       "  </tbody>\n",
       "</table>\n",
       "</div>"
      ],
      "text/plain": [
       "smoking_status  formerly smoked  never smoked    smokes\n",
       "has_disease                                            \n",
       "False                  0.752542      0.860594  0.795944\n",
       "True                   0.247458      0.139406  0.204056"
      ]
     },
     "execution_count": 38,
     "metadata": {},
     "output_type": "execute_result"
    }
   ],
   "source": [
    "disease_smoke_df = copy_hcs_df.groupby(['smoking_status','has_disease']).size()\n",
    "disease_smoke_df = disease_smoke_df.unstack(0)\n",
    "disease_smoke_df = disease_smoke_df / disease_smoke_df.sum()\n",
    "disease_smoke_df"
   ]
  },
  {
   "cell_type": "markdown",
   "id": "923d4643-59a2-447e-9f7a-e774a274541b",
   "metadata": {},
   "source": [
    "Theo số liệu được tính toán như trên, ta thấy tỷ lệ mắc bệnh (hypertension hoặc heart disease hoặc stroke) của những người không hút thuốc (never smoked) thấp hơn so với những người đã từng (formerly smoked) hoặc đang hút thuốc (smokes). Ta còn thấy tỷ lệ không mắc bệnh của never smoked lại cao hơn 2 loại kia. Từ những điều trên cho thấy hành vi hút thuốc có tác động rất lớn đến sức khoẻ của con người và tỷ lệ mắc bệnh cao lên."
   ]
  },
  {
   "cell_type": "markdown",
   "id": "8017ced7-62a8-4f3d-9d2f-58e17e82e496",
   "metadata": {},
   "source": [
    "___"
   ]
  },
  {
   "cell_type": "markdown",
   "id": "faa50771-6a68-4dfb-b000-25b953b4b143",
   "metadata": {},
   "source": [
    "### Con người càng già thì càng dễ bị mắc bệnh không?"
   ]
  },
  {
   "cell_type": "code",
   "execution_count": 44,
   "id": "ef51ff89-16b8-4bd8-a38a-fcbe56f81ff3",
   "metadata": {},
   "outputs": [
    {
     "data": {
      "image/png": "[encoded data removed]",
      "text/plain": [
       "<Figure size 576x720 with 2 Axes>"
      ]
     },
     "metadata": {},
     "output_type": "display_data"
    }
   ],
   "source": [
    "df = pd.DataFrame(hcs_df,columns=['age','bmi','avg_glucose_level'])\n",
    "corrMatrix = df.corr()\n",
    "sn.heatmap(corrMatrix, annot=True)\n",
    "sn.set(rc={'figure.figsize':(8,10)})\n",
    "plt.show()"
   ]
  },
  {
   "cell_type": "code",
   "execution_count": null,
   "id": "7af77b66-4604-45a3-bbf5-fb3b385874fe",
   "metadata": {},
   "outputs": [],
   "source": []
  }
 ],
 "metadata": {
  "kernelspec": {
   "display_name": "Python 3",
   "language": "python",
   "name": "python3"
  },
  "language_info": {
   "codemirror_mode": {
    "name": "ipython",
    "version": 3
   },
   "file_extension": ".py",
   "mimetype": "text/x-python",
   "name": "python",
   "nbconvert_exporter": "python",
   "pygments_lexer": "ipython3",
   "version": "3.8.8"
  },
  "toc": {
   "base_numbering": 1,
   "nav_menu": {},
   "number_sections": false,
   "sideBar": true,
   "skip_h1_title": false,
   "title_cell": "Table of Contents",
   "title_sidebar": "Contents",
   "toc_cell": true,
   "toc_position": {},
   "toc_section_display": true,
   "toc_window_display": false
  }
 },
 "nbformat": 4,
 "nbformat_minor": 5
}
